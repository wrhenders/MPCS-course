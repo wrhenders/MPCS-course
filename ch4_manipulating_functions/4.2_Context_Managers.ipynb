{
 "cells": [
  {
   "cell_type": "markdown",
   "metadata": {},
   "source": [
    "### [Video Explanation Here!](https://youtu.be/6yUB8cIW408)\n",
    "\n",
    "\n",
    "> \"Context managers allow you to allocate and release resources precisely when you want to. The most widely used example of context managers is the with statement. Suppose you have two related operations which you’d like to execute as a pair, with a block of code in between. Context managers allow you to do specifically that.\" --<cite> book.pythontips.com </cite>\n",
    "\n",
    "For example the common patterns: \n",
    "\n",
    "``` \n",
    "f = open(...)    ## File managment \n",
    "...\n",
    "f.close()\n",
    "\n",
    "lock.acquire()   ## Multhreaded application \n",
    "...\n",
    "lock.release()\n",
    "\n",
    "start = time.time() ## Timing code execution \n",
    "...\n",
    "end = time.time()\n",
    "```"
   ]
  },
  {
   "cell_type": "markdown",
   "metadata": {},
   "source": [
    "You can read and close a file with a ``try/except`` block:  "
   ]
  },
  {
   "cell_type": "code",
   "execution_count": null,
   "metadata": {},
   "outputs": [],
   "source": [
    "try:\n",
    "    f = open('../uchicago-emails.txt', 'r')\n",
    "    for email in f: \n",
    "        email + 1\n",
    "finally:\n",
    "    f.close()"
   ]
  },
  {
   "cell_type": "markdown",
   "metadata": {},
   "source": [
    "But we don't. Instead, you'll more often see this, which closes the file for you when your operation works..."
   ]
  },
  {
   "cell_type": "code",
   "execution_count": null,
   "metadata": {},
   "outputs": [],
   "source": [
    "## More compact and readable \n",
    "with open('../uchicago-emails.txt', 'r') as f: \n",
    "    for email in f: \n",
    "        print(email)"
   ]
  },
  {
   "cell_type": "markdown",
   "metadata": {},
   "source": [
    "...and when it doesn't."
   ]
  },
  {
   "cell_type": "code",
   "execution_count": null,
   "metadata": {},
   "outputs": [],
   "source": [
    "with open('not_a_real_file.txt', 'r') as here:\n",
    "    for nothing in here:\n",
    "        print(nothing)"
   ]
  },
  {
   "cell_type": "markdown",
   "metadata": {},
   "source": [
    "It's called a **context manager** because it wraps your code in a box (a context). The box is opened, the code is run, and then the box is shut. Regardless of what happens when the code runs, the box is always shut. That way, if the code in the box explodes, you can shut the box to clean up the mess!\n",
    "\n",
    "The ``File`` class is a context manager because it implements the **context manager protocol**.\n",
    "\n",
    "Any class can be a context manger. A class must define two methods: \n",
    "\n",
    "- ``__enter__(self)`` is executed at the start of a with block. It needs to return the context manager. \n",
    "- ``__exit__(self, type, value, traceback)`` is executed at the end of a with block and performs any \"cleanup\" actions. If there is an exception that occurs between the ``__enter__`` and the calling of ``__exit__`` then python calls ``__exit__`` with the information about the exception via these three parameters. This step allows the ``__exit__`` method to decide how to hanlde the exception and if any further steps are required to cleanup. "
   ]
  },
  {
   "cell_type": "markdown",
   "metadata": {},
   "source": [
    "Lets make our own context manager class that handles testing the amount of time a piece of code takes to complete.\n"
   ]
  },
  {
   "cell_type": "code",
   "execution_count": null,
   "metadata": {},
   "outputs": [],
   "source": [
    "from timeit import default_timer as timer\n",
    "\n",
    "class Stopwatch:\n",
    "    \n",
    "    def __init__(self):\n",
    "        self.start_time = 0 \n",
    "        self.end_time = 0 \n",
    "        \n",
    "    def __enter__(self): \n",
    "        self.start_time = timer() \n",
    "        return self \n",
    "    \n",
    "    def __exit__(self, type, value, traceback):\n",
    "        self.end_time = timer() \n",
    "        \n",
    "    @property #allows the method to run when called but not INVOKED\n",
    "    def elasped_time(self):\n",
    "        return self.end_time-self.start_time "
   ]
  },
  {
   "cell_type": "code",
   "execution_count": null,
   "metadata": {},
   "outputs": [],
   "source": [
    "def run_a_buncha_cycles(n): \n",
    "    if n == 0:\n",
    "        return\n",
    "    else:\n",
    "        run_a_buncha_cycles(n-1)"
   ]
  },
  {
   "cell_type": "code",
   "execution_count": null,
   "metadata": {},
   "outputs": [],
   "source": [
    "with Stopwatch() as s: \n",
    "    run_a_buncha_cycles(5000)\n",
    "    \n",
    "print(s.elasped_time)"
   ]
  },
  {
   "cell_type": "markdown",
   "metadata": {},
   "source": [
    "More information about context managers can be found here: https://docs.python.org/3/library/contextlib.html"
   ]
  }
 ],
 "metadata": {
  "kernelspec": {
   "display_name": "Python 3",
   "language": "python",
   "name": "python3"
  },
  "language_info": {
   "codemirror_mode": {
    "name": "ipython",
    "version": 3
   },
   "file_extension": ".py",
   "mimetype": "text/x-python",
   "name": "python",
   "nbconvert_exporter": "python",
   "pygments_lexer": "ipython3",
   "version": "3.9.0"
  }
 },
 "nbformat": 4,
 "nbformat_minor": 4
}
