{
 "cells": [
  {
   "cell_type": "markdown",
   "metadata": {},
   "source": [
    "### [Video Explanation Here!](https://youtu.be/7D35-K8pPxI)\n",
    "\n",
    "## List Comprehensions\n",
    "\n",
    "**List comprehension** is a way to build a new list by running an expression on each item in an iterable object. \n",
    " - Comprehensions can also create dictionaries and sets\n",
    "\n",
    "**Syntax**:``[expression for target in iterable]``"
   ]
  },
  {
   "cell_type": "code",
   "execution_count": null,
   "metadata": {},
   "outputs": [],
   "source": [
    "listo = []\n",
    "for x in [1, 2, 3]:\n",
    "    listo.append(x * 2)\n",
    "\n",
    "listo"
   ]
  },
  {
   "cell_type": "code",
   "execution_count": null,
   "metadata": {},
   "outputs": [],
   "source": [
    "# x is assigned to each element in the iterable object\n",
    "new_list = [x * 2 for x in [1,2,3]]\n",
    "new_list"
   ]
  },
  {
   "cell_type": "code",
   "execution_count": null,
   "metadata": {},
   "outputs": [],
   "source": [
    "new_list = [pow(x,2) for x in range(3)]\n",
    "new_list"
   ]
  },
  {
   "cell_type": "markdown",
   "metadata": {},
   "source": [
    "#### For-loop vs. Map vs. Comprehension \n",
    "\n",
    "The following examples produce the same collection of values: ``[1,2,4]`` \n",
    " - Each example uses the same iterable object \n",
    " - ``map`` applies a ``function`` to each item and returns an ``iterator``.\n",
    " - Comprehension applies an expression and generates a new list. "
   ]
  },
  {
   "cell_type": "code",
   "execution_count": null,
   "metadata": {},
   "outputs": [],
   "source": [
    "# 1. Using for loop and list append \n",
    "listo = []\n",
    "for x in range(3):\n",
    "    listo.append(2 ** x)\n",
    "    \n",
    "listo"
   ]
  },
  {
   "cell_type": "code",
   "execution_count": null,
   "metadata": {},
   "outputs": [],
   "source": [
    "# 2. Map produces an iterator not a list \n",
    "iterator = map(lambda x: 2**x, range(3))\n",
    "list(iterator)"
   ]
  },
  {
   "cell_type": "code",
   "execution_count": null,
   "metadata": {},
   "outputs": [],
   "source": [
    "# 3. Comprehension produces a new list not an iterator \n",
    "listo = [2 ** x for x in range(3)] \n",
    "listo"
   ]
  },
  {
   "cell_type": "markdown",
   "metadata": {},
   "source": [
    "#### Nested & Conditional Comprehensions \n",
    "Comprehensions can be deeply nested\n",
    "  - The first for-loop is the outermost. \n",
    "  - Subsequent for-loops are nested inwards. "
   ]
  },
  {
   "cell_type": "code",
   "execution_count": null,
   "metadata": {},
   "outputs": [],
   "source": [
    "listo = [ (x, y) for x in ('a','b') for y in (5,17)]\n",
    "listo"
   ]
  },
  {
   "cell_type": "code",
   "execution_count": null,
   "metadata": {},
   "outputs": [],
   "source": [
    "#Comprehensions can use conditionals to filter out \n",
    "# items within an iterable: \n",
    "listo = [ x for x in (3,4,20,50) if x > 10]\n",
    "listo"
   ]
  },
  {
   "cell_type": "markdown",
   "metadata": {},
   "source": [
    "#### Set & Dictionary Comprehension \n",
    "- Set comprehension uses the following syntax to generate the set: \n",
    "    **Syntax**:``{f(x) for x in iterable if cond}`` \n",
    " "
   ]
  },
  {
   "cell_type": "code",
   "execution_count": null,
   "metadata": {},
   "outputs": [],
   "source": [
    "{x for x in [2,3,3,5] if x < 4}"
   ]
  },
  {
   "cell_type": "markdown",
   "metadata": {},
   "source": [
    "Dictionary comprehensions uses same literal dictionary syntax but requires the iterable object to be an  iterable containing key-value pairs ``(key,value)``\n",
    "  - **Syntax**: ``{f(k): g(v) for (k,v) in iterbl if cond}``\n",
    "  "
   ]
  },
  {
   "cell_type": "code",
   "execution_count": null,
   "metadata": {},
   "outputs": [],
   "source": [
    "#zip creates a iterable object of key-value pairs as tuples \n",
    "iterable = zip(['A','B','B'],[1,2,3])\n",
    "iterable"
   ]
  },
  {
   "cell_type": "code",
   "execution_count": null,
   "metadata": {},
   "outputs": [],
   "source": [
    "{key:value for (key,value) in iterable if key.isupper()}"
   ]
  },
  {
   "cell_type": "markdown",
   "metadata": {},
   "source": [
    "#### Generator Expressions \n",
    "\n",
    "A *generator expressions* are similar to list comprehensions but instead return a generator object that produces results one at time instead of building a list in its entirety. \n",
    "\n",
    "**Syntax**: ``(expression for x in iterable)`` -> Note the ``(...)``"
   ]
  },
  {
   "cell_type": "code",
   "execution_count": null,
   "metadata": {},
   "outputs": [],
   "source": [
    "incr_gen = (i + 1 for i in [1,2,3,4])"
   ]
  },
  {
   "cell_type": "code",
   "execution_count": null,
   "metadata": {},
   "outputs": [],
   "source": [
    "for num in incr_gen:\n",
    "    print(num)  # prints 2 3 4 5"
   ]
  },
  {
   "cell_type": "markdown",
   "metadata": {},
   "source": [
    "You can also provide conditionals to the generators: "
   ]
  },
  {
   "cell_type": "code",
   "execution_count": null,
   "metadata": {},
   "outputs": [],
   "source": [
    "incr_gen = (i + 1 for i in [1,2,3,4] if i >= 2)"
   ]
  },
  {
   "cell_type": "code",
   "execution_count": null,
   "metadata": {},
   "outputs": [],
   "source": [
    "for num in incr_gen:\n",
    "    print(num) # prints 3 4 5"
   ]
  },
  {
   "cell_type": "markdown",
   "metadata": {},
   "source": [
    "#### Generator Expressions vs Comprehensions\n",
    "\n",
    "**What's the difference between generator expressions and comprehensions?** \n",
    " - The main difference is that generator expression produce results on demand, whereas comprehensions produce the results all at once.\n",
    " - Take into consideration the program performance in regards to time/memory space when consuming an entire iterable:  \n",
    "     - Generator expressions typically require less memory than the equivalent comprehension \n",
    "     - Comprehensions may run faster over the entire iteration of the iterable \n",
    " - If the entire iterable will not fully be consumed then using a generator may be a better option."
   ]
  }
 ],
 "metadata": {
  "kernelspec": {
   "display_name": "Python 3",
   "language": "python",
   "name": "python3"
  },
  "language_info": {
   "codemirror_mode": {
    "name": "ipython",
    "version": 3
   },
   "file_extension": ".py",
   "mimetype": "text/x-python",
   "name": "python",
   "nbconvert_exporter": "python",
   "pygments_lexer": "ipython3",
   "version": "3.9.0"
  }
 },
 "nbformat": 4,
 "nbformat_minor": 4
}
