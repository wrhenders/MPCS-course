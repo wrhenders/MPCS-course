{
 "cells": [
  {
   "cell_type": "markdown",
   "metadata": {},
   "source": [
    "### [Video Explanation Here!](https://youtu.be/CYHzePtkgMU)\n",
    "\n",
    "Python will *raise* an *exception* when something goes wrong in your code. This indicates that an error condition has occurred in the code, and it is severe enough that Python can't continue executing the remaining code. \n",
    "\n",
    "You've seen this before. For example:"
   ]
  },
  {
   "cell_type": "code",
   "execution_count": null,
   "metadata": {},
   "outputs": [],
   "source": [
    "names_ages = {\"Sally\":45, \"James\":18, \"Beth\":34}"
   ]
  },
  {
   "cell_type": "code",
   "execution_count": null,
   "metadata": {},
   "outputs": [],
   "source": [
    "names_ages[\"Tom\"]"
   ]
  },
  {
   "cell_type": "markdown",
   "metadata": {},
   "source": [
    "The above code raised a ``KeyError`` exception (one of several built-in exceptions) because we tried to access key ``'Tom'`` in the dictionary, which doesn't exist. The error message is called a *stack trace* because it will tell you where the error originated exactly, including the chain of function calls that led to that point."
   ]
  },
  {
   "cell_type": "markdown",
   "metadata": {},
   "source": [
    "### What are Exceptions?\n",
    "\n",
    "An **exception** is an event that can modify the flow of control through a program:\n",
    " \n",
    " - Initiated (\"thrown\", \"raised\") automatically on errors. Initiated and caught optionally by your code.\n",
    " - Allow us to jump out of arbitrarily large chunks of code. Mainly used for error-handling but can be useful for:\n",
    "      - Event Notification – raise an exception in the event of a failure\n",
    "      - Special-Case Handling – when a condition rarely occurs then raise an exception instead convoluting your code to handle a special condition in multiple places.\n",
    "      - In really gnarly cases, logging: Some frameworks, such as React Native, redirect your Standard Out (stdout) output in asynchronous code, such that your print statements `console.log(\"string\")` don't show up in your console. But if you throw an exception, that output goes to Standard Error (stderr), which WILL show up in your console.\n",
    "   "
   ]
  },
  {
   "cell_type": "markdown",
   "metadata": {},
   "source": [
    "### Default Exception Handler\n",
    "\n",
    "Python provides a default exception handler that terminates your programs when you don’t handle exceptions:\n",
    "1. The interpreter prints an error message with the type of exception raised.\n",
    "2. A \"stack trace\": A list of the lines of code (and function calls) that took place immediately prior to the exception.\n",
    "3. Terminates the program: fatal error."
   ]
  },
  {
   "cell_type": "code",
   "execution_count": null,
   "metadata": {},
   "outputs": [],
   "source": [
    "# Assume code is inside a module called exception.py \n",
    "x = [1,2,3]\n",
    "print(x[56]) # IndexError exception will be raised \n",
    "print('hello')  # <-- Wouldn't be executed"
   ]
  },
  {
   "cell_type": "code",
   "execution_count": null,
   "metadata": {},
   "outputs": [],
   "source": [
    "def access_dictionary(d, k):\n",
    "    return d[k]\n",
    "\n",
    "def print_values(d, keys):\n",
    "    for k in keys:\n",
    "        value = access_dictionary(d, k)\n",
    "        print(k, value)\n",
    "\n",
    "def main():\n",
    "    names_ages = {\"Sally\":45, \"James\":18, \"Beth\":34}\n",
    "\n",
    "    print_values(names_ages, [\"Sally\",\"James\"])\n",
    "\n",
    "    print_values(names_ages, [\"Sally\",\"Tom\"])"
   ]
  },
  {
   "cell_type": "code",
   "execution_count": null,
   "metadata": {},
   "outputs": [],
   "source": [
    "main()"
   ]
  },
  {
   "cell_type": "markdown",
   "metadata": {},
   "source": [
    "In this course, when you've seen an exception your first thought is \"there is a problem in my code that I need to fix\". However, exceptions can also be caught so that they no longer stop the flow of the program. \n",
    "\n",
    "Use a try/except block to catch raised exceptions:"
   ]
  },
  {
   "cell_type": "code",
   "execution_count": null,
   "metadata": {},
   "outputs": [],
   "source": [
    "### SYNTAX ###\n",
    "try:\n",
    "    dictionary = {\"the rain\" : \"in Spain\", \"falls mainly\": \"on the plain\"}\n",
    "    dictionary[\"the sun\"]\n",
    "except:\n",
    "    # this block of code runs if and only if an\n",
    "    # exception is raised in the preceding try block\n",
    "    print(\"That's not one of the lines in the poem.\")\n",
    "\n",
    "# regardless of whether an exception was raised,\n",
    "# execution continues here\n",
    "print(\"Anyway, as I was saying...\")"
   ]
  },
  {
   "cell_type": "markdown",
   "metadata": {},
   "source": [
    "You can specify the type of exception you wish to handle and also handle multiple exceptions in different ways: "
   ]
  },
  {
   "cell_type": "code",
   "execution_count": null,
   "metadata": {},
   "outputs": [],
   "source": [
    "try:\n",
    "    dictionary = {\"the rain\" : \"in Spain\", \"falls mainly\": \"on the plain\"}\n",
    "    dictionary[\"the sun\"]\n",
    "except KeyError:\n",
    "    print(\"That's not one of the lines in the poem.\")\n",
    "\n",
    "# regardless of whether an exception was raised,\n",
    "# execution continues here\n",
    "print(\"Anyway, as I was saying...\")"
   ]
  },
  {
   "cell_type": "markdown",
   "metadata": {},
   "source": [
    "This is useful if your code might throw different errors and you want to handle them each differently."
   ]
  },
  {
   "cell_type": "code",
   "execution_count": null,
   "metadata": {},
   "outputs": [],
   "source": [
    "def retrieve(from_collection, at_index):\n",
    "    try:\n",
    "        print(from_collection[at_index])\n",
    "    except IndexError:\n",
    "        print(\"Caught an IndexError exception, presumably on a list\")\n",
    "    except KeyError:\n",
    "        print(\"Caught a KeyError exception, presumably on a dictionary\")\n",
    "    except: #catch-all exception case\n",
    "        print(\"Wow, what did you do this time?\")\n",
    "\n",
    "retrieve(from_collection=[1, 2, 3], at_index=56)\n",
    "retrieve(from_collection={'fee' : 'fiy', 'fo' : 'fum'}, at_index=\"Hello?\")\n",
    "retrieve(from_collection=5, at_index=\"what\")"
   ]
  },
  {
   "cell_type": "markdown",
   "metadata": {},
   "source": [
    "You can also get ahold of the exception itself in the catch block like so:"
   ]
  },
  {
   "cell_type": "code",
   "execution_count": null,
   "metadata": {},
   "outputs": [],
   "source": [
    "def retrieve(from_collection, at_index):\n",
    "    try:\n",
    "        print(from_collection[at_index])\n",
    "    except Exception as e:\n",
    "        print(e)\n",
    "\n",
    "retrieve(from_collection=[1, 2, 3], at_index=56)\n",
    "retrieve(from_collection={'fee' : 'fiy', 'fo' : 'fum'}, at_index=\"Hello?\")\n",
    "retrieve(from_collection=5, at_index=\"what\")"
   ]
  },
  {
   "cell_type": "markdown",
   "metadata": {},
   "source": [
    "As you can see, different types of errors print differently. You can specify how an object prints (and we'll learn about that later).\n",
    "\n",
    "Some exceptions that are hard to check beforehand, especially I/O errors: "
   ]
  },
  {
   "cell_type": "markdown",
   "metadata": {},
   "source": [
    "If an exception type isn't caught, then it will keep on propagating, generally producing the default error message with a stack trace."
   ]
  },
  {
   "cell_type": "code",
   "execution_count": null,
   "metadata": {},
   "outputs": [],
   "source": [
    "def divide(a, b):\n",
    "    return a / b"
   ]
  },
  {
   "cell_type": "code",
   "execution_count": null,
   "metadata": {},
   "outputs": [],
   "source": [
    "try:\n",
    "    x = divide(5, 0)\n",
    "    print(\"x is\", x)\n",
    "except ZeroDivisionError as err:\n",
    "    print(\"Division by zero!\")"
   ]
  },
  {
   "cell_type": "code",
   "execution_count": null,
   "metadata": {},
   "outputs": [],
   "source": [
    "try:\n",
    "    x = divide(5, \"foo\")\n",
    "    print(\"x is\", x)\n",
    "except ZeroDivisionError as err:\n",
    "    print(\"Division by zero!\")"
   ]
  },
  {
   "cell_type": "markdown",
   "metadata": {},
   "source": [
    "The type error happens inside a try/except block, but we're not catching that error specifically. \n",
    "\n",
    "Note also how a try/except block will catch exceptions that originate in function calls (the exception doesn't have to be raised by code directly contained inside the try/except). Note also that, once an exception occurs, no other code is run after the line that causes the exception."
   ]
  },
  {
   "cell_type": "markdown",
   "metadata": {},
   "source": [
    "The try/except block also has a ``finally`` clause that gets run whether an exception is raised or not. This is useful when there are any cleanup operations that need to be performed (closing files, closing database connections, etc.)"
   ]
  },
  {
   "cell_type": "code",
   "execution_count": null,
   "metadata": {},
   "outputs": [],
   "source": [
    "def safe_divide(a,b):\n",
    "    try:\n",
    "        x = divide(a, b)   \n",
    "        print(\"x is\", x)\n",
    "    except TypeError as err:\n",
    "        print(err)\n",
    "    except ZeroDivisionError:\n",
    "        print(\"Division by zero!\")\n",
    "    except Exception as e:\n",
    "        print(\"Unexpected Error:\", e)\n",
    "    finally:\n",
    "        print(\"divide() was called with {} and {}\".format(a, b))"
   ]
  },
  {
   "cell_type": "code",
   "execution_count": null,
   "metadata": {},
   "outputs": [],
   "source": [
    "safe_divide(6,2)"
   ]
  },
  {
   "cell_type": "code",
   "execution_count": null,
   "metadata": {},
   "outputs": [],
   "source": [
    "safe_divide(6,0)"
   ]
  },
  {
   "cell_type": "code",
   "execution_count": null,
   "metadata": {},
   "outputs": [],
   "source": [
    "safe_divide(6, \"foo\")"
   ]
  },
  {
   "cell_type": "markdown",
   "metadata": {},
   "source": [
    "### Raising Exceptions \n",
    "\n",
    "Exceptions are initiated with a `raise` statement: \n",
    "\n",
    "- Catch them using a `try/except` statement in the same way we catch interpreter-raised exceptions. \n",
    "- Only instances of an exception class can be raised (or an exception class itself)\n",
    "- It's possible to `re-raise` an exception in the `except` clause. "
   ]
  },
  {
   "cell_type": "code",
   "execution_count": null,
   "metadata": {},
   "outputs": [],
   "source": [
    "class Person:\n",
    "    def __init__(self, name, age):\n",
    "        if not isinstance(name, str):\n",
    "            raise ValueError(\"name must be a string\")\n",
    "        if not isinstance(age, int): \n",
    "            raise ValueError(\"age must be an integer\")\n",
    "        if age <= 0: \n",
    "            raise ValueError(\"age must be greater than zero\")\n",
    "        \n",
    "        self._name = name \n",
    "        self._age = age "
   ]
  },
  {
   "cell_type": "code",
   "execution_count": null,
   "metadata": {},
   "outputs": [],
   "source": [
    "try:\n",
    "    p = Person(\"Sally\",45)\n",
    "except ValueError as err:\n",
    "    print(err) "
   ]
  },
  {
   "cell_type": "code",
   "execution_count": null,
   "metadata": {},
   "outputs": [],
   "source": [
    "try:\n",
    "    p = Person([\"Sally\"],45)\n",
    "    print(p._name)\n",
    "except ValueError as err:\n",
    "    print(err) "
   ]
  },
  {
   "cell_type": "code",
   "execution_count": null,
   "metadata": {},
   "outputs": [],
   "source": [
    "try:\n",
    "    p = Person(\"Sally\",-1)\n",
    "    print(p._name)\n",
    "except ValueError as err:\n",
    "    print(err) "
   ]
  },
  {
   "cell_type": "code",
   "execution_count": null,
   "metadata": {},
   "outputs": [],
   "source": [
    "try:\n",
    "    p = Person(\"Sally\",\"45\")\n",
    "    print(p._name)\n",
    "except ValueError as err:\n",
    "    print(err) "
   ]
  },
  {
   "cell_type": "markdown",
   "metadata": {},
   "source": [
    "#### Full hierarchy:\n",
    "  https://docs.python.org/3/library/exceptions.html#exception-hierarchy\n",
    "```\n",
    "BaseException\n",
    " +-- SystemExit\n",
    " +-- KeyboardInterrupt\n",
    " +-- Exception\n",
    "      +-- ArithmeticError\n",
    "      |    +-- FloatingPointError\n",
    "      |    +-- OverflowError\n",
    "      |    +-- ZeroDivisionError\n",
    "      +-- AssertionError\n",
    "      +-- AttributeError\n",
    "      +-- LookupError\n",
    "      |    +-- IndexError\n",
    "      |    +-- KeyError\n",
    "      +-- OSError\n",
    "      |    +-- ChildProcessError\n",
    "      |    +-- FileExistsError\n",
    "      +-- RuntimeError\n",
    "      +-- SyntaxError\n",
    "      +-- TypeError\n",
    "      +-- ValueError\n",
    "      +-- Warning\n",
    "...\n",
    "```"
   ]
  },
  {
   "cell_type": "markdown",
   "metadata": {},
   "source": [
    "### You can even write your own, custom execeptions!\n",
    "\n",
    "Let's write an `AngryBirdException`."
   ]
  },
  {
   "cell_type": "code",
   "execution_count": null,
   "metadata": {},
   "outputs": [],
   "source": [
    "class AngryBirdException(Exception):\n",
    "    pass\n",
    "\n",
    "class Parrot():\n",
    "    def __init__(self, angry):\n",
    "        self.angry = angry\n",
    "    \n",
    "    def respond(self):\n",
    "        if self.angry:\n",
    "            raise AngryBirdException(\"THAT'S IT BUCKO, YOU'RE GETTING THE BEAK!\")\n",
    "        else:\n",
    "            print(\"Careful. I might bite you.\")\n",
    "\n",
    "calm_cockatoo = Parrot(angry=False)\n",
    "raging_ringneck = Parrot(angry=True)\n",
    "\n",
    "def make_eye_contact_with(parrot):\n",
    "    parrot.respond()\n",
    "    \n",
    "make_eye_contact_with(calm_cockatoo)\n",
    "make_eye_contact_with(raging_ringneck)"
   ]
  },
  {
   "cell_type": "markdown",
   "metadata": {},
   "source": [
    "You can even add your own behavior to your exceptions. \n",
    "\n",
    "In this example, we include the parrot's anger as a custom message on the exception itself, so we don't have to pass it into the exception's initializer anymore."
   ]
  },
  {
   "cell_type": "code",
   "execution_count": null,
   "metadata": {},
   "outputs": [],
   "source": [
    "class AngryBirdException(Exception):\n",
    "    def __init__(self):\n",
    "        super().__init__(\"THAT'S IT BUCKO, YOU'RE GETTING THE BEAK!\")\n",
    "\n",
    "\n",
    "class Parrot():\n",
    "    def __init__(self, angry):\n",
    "        self.angry = angry\n",
    "    \n",
    "    def respond(self):\n",
    "        if self.angry:\n",
    "            raise AngryBirdException()\n",
    "        else:\n",
    "            print(\"Careful. I might bite you.\")\n",
    "\n",
    "calm_cockatoo = Parrot(angry=False)\n",
    "raging_ringneck = Parrot(angry=True)\n",
    "\n",
    "def make_eye_contact_with(parrot):\n",
    "    parrot.respond()\n",
    "    \n",
    "make_eye_contact_with(calm_cockatoo)\n",
    "make_eye_contact_with(raging_ringneck)"
   ]
  },
  {
   "cell_type": "code",
   "execution_count": null,
   "metadata": {},
   "outputs": [],
   "source": []
  }
 ],
 "metadata": {
  "kernelspec": {
   "display_name": "Python 3",
   "language": "python",
   "name": "python3"
  },
  "language_info": {
   "codemirror_mode": {
    "name": "ipython",
    "version": 3
   },
   "file_extension": ".py",
   "mimetype": "text/x-python",
   "name": "python",
   "nbconvert_exporter": "python",
   "pygments_lexer": "ipython3",
   "version": "3.9.0"
  }
 },
 "nbformat": 4,
 "nbformat_minor": 4
}
