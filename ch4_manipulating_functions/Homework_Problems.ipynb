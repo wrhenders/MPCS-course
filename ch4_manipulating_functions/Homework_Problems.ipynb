{
 "cells": [
  {
   "cell_type": "markdown",
   "metadata": {},
   "source": [
    "## Problem 0\n",
    "\n",
    "Check out this function called **run_a_buncha_cycles**:"
   ]
  },
  {
   "cell_type": "code",
   "execution_count": null,
   "metadata": {},
   "outputs": [],
   "source": [
    "def run_a_buncha_cycles(n): \n",
    "    if n == 0:\n",
    "        return\n",
    "    else:\n",
    "#         print(f\"We're on {n}\")\n",
    "        run_a_buncha_cycles(n-1)"
   ]
  },
  {
   "cell_type": "markdown",
   "metadata": {},
   "source": [
    "This function is an example of a concept called **recursion**: in programming, that's a method that _calls itself_.\n",
    "    \n",
    "Recursion allows us to traverse collections of unknown length or depth, or periodically check things on processes that we're not sure if they're done or not. In this example, we use recursion to count down from some number we passed in. (You can confirm that by uncommenting the print statement and running the method). "
   ]
  },
  {
   "cell_type": "code",
   "execution_count": null,
   "metadata": {},
   "outputs": [],
   "source": [
    "run_a_buncha_cycles(10)"
   ]
  },
  {
   "cell_type": "markdown",
   "metadata": {},
   "source": [
    "Now try to run:"
   ]
  },
  {
   "cell_type": "code",
   "execution_count": null,
   "metadata": {},
   "outputs": [],
   "source": [
    "# run_a_buncha_cycles(50000)"
   ]
  },
  {
   "cell_type": "markdown",
   "metadata": {},
   "source": [
    "It's gonna spin for some length of time, and then you're gonna get an exception!\n",
    "\n",
    "1. What exception do you get?\n",
    "2. Look up this exception online. What would you have to do in Python to make the line of code run without hitting that exception?\n",
    "3. Why might it be a bad idea to do what you suggested in #3? (In other words, why does the Python interpreter have this exception?)\n",
    "\n",
    "Please record your responses in `problem_0.md`."
   ]
  },
  {
   "cell_type": "markdown",
   "metadata": {},
   "source": [
    "## Problem 1\n",
    "\n",
    "Write a function called `vectorize(func)` that takes a function as its only positional argument and returns a new function that calls `func` multiple times. The new function should accept any number of positional arguments. If N arguments are passed to the new function, `func` is called N times with each of the values as a single argument. The new function should return a list of return values from each invocation of `func`.\n",
    "\n",
    "To get a feel for its use, take a look at the following example:\n",
    "```pycon\n",
    ">>> from math import sqrt\n",
    ">>> multisqrt = vectorize(sqrt)\n",
    ">>> multisqrt(4.0, 25.0, 1.0, 10.0)\n",
    "[2.0, 5.0, 1.0, 3.1622776601683795]\n",
    ">>> multisqrt(100.0, 9.0, 16.0)\n",
    "[10.0, 3.0, 4.0]\n",
    "```"
   ]
  },
  {
   "cell_type": "code",
   "execution_count": null,
   "metadata": {},
   "outputs": [],
   "source": [
    "# Don't worry about understanding these two lines.\n",
    "# They are commands we use to get this notebook to autoreload\n",
    "# so you don't have to rerun your kernel every time you change your homework files.\n",
    "%load_ext autoreload\n",
    "%autoreload 2\n",
    "\n",
    "import sys\n",
    "sys.path.insert(0, '..')\n",
    "from course_utils import Test\n",
    "sys.path.remove('..')\n",
    "\n",
    "from problem_1 import vectorize\n",
    "\n",
    "vectorize_examples = [\n",
    "    (int, [], []),\n",
    "    (int, ['55'], [55]),\n",
    "    (int, ['-1', '0', 100], [-1, 0, 100]),\n",
    "    (sorted, [['d', 'b', 'a', 'c'], 'albus', [55, -10, 15, 12]], [['a', 'b', 'c', 'd'], ['a', 'b', 'l', 's', 'u'], [-10, 12, 15, 55]]),\n",
    "    (eval, ['\"Wasabi\" + \"Ginger\"', '5 * 10', 'True and False'], ['WasabiGinger', 50, False])\n",
    "]\n",
    "\n",
    "Test(examples=vectorize_examples, function=vectorize).passed_function()"
   ]
  },
  {
   "cell_type": "markdown",
   "metadata": {},
   "source": [
    "## Problem 2\n",
    "\n",
    "Write a generator function called `unique(iterable, key=None)` that yields values from an iterable that are unique, where uniqueness is determined based on a \"key\" function. If no key function is provided, the default is to use the value itself in determining uniqueness. When a key function is provided, the result of calling `key` on each value in the iterable is used in determining uniqueness. Note in the examples below that the values yielded are from the original iterable, not the result of the key function.\n",
    "\n",
    "Example:\n",
    "```pycon\n",
    ">>> list(unique(\"aaadddpppzzzaaa\"))\n",
    "['a', 'd', 'p', 'z']\n",
    "\n",
    ">>> list(unique(\"aAadDdpPpzZz\", str.upper))\n",
    "['a', 'd', 'p', 'z']\n",
    "\n",
    ">>> def first_digit(x):\n",
    "...     return int(str(x)[0])\n",
    "\n",
    ">>> for x in unique((10, 1, 100, 2019, 2, 25), first_digit):\n",
    "...     print(x)\n",
    "10\n",
    "2019\n",
    "\n",
    ">>> list(unique([1.25, 2.50, 1.75, 2.25], lambda x: int(x)))\n",
    "[1.25, 2.5]\n",
    "```"
   ]
  },
  {
   "cell_type": "code",
   "execution_count": null,
   "metadata": {},
   "outputs": [],
   "source": [
    "import sys\n",
    "sys.path.insert(0, '..')\n",
    "from course_utils import Test, first_digit\n",
    "sys.path.remove('..')\n",
    "\n",
    "from problem_2 import unique\n",
    "\n",
    "\n",
    "unique_examples = [\n",
    "    ('', []),\n",
    "    ('aaadddpppzzzaaa', ['a', 'd', 'p', 'z']),\n",
    "    ((10, 1, 100, 2019, 2, 25), first_digit, [10, 2019]),\n",
    "    (('True and 1', '0 or True', '15 + 5', '4 * 5'), eval, ['True and 1', '15 + 5']),\n",
    "    ((3, 'Chance', 'Kendrick', chr, 25, eval), type, [3, 'Chance', chr])\n",
    "]\n",
    "\n",
    "Test(examples=unique_examples, function=unique).generator_function()"
   ]
  },
  {
   "cell_type": "markdown",
   "metadata": {},
   "source": [
    "## Problem 3\n",
    "\n",
    "Write a decorator called `maketuple` that causes the resulting function to always return a tuple. If the return value of the original function was iterable, it should be converted to a tuple explicitly and returned from the wrapped function. If the return value of the original function was not iterable, a tuple of length one with the return value should be returned from the wrapped function. The decorator should account for both positional and keyword arguments.\n",
    "\n",
    "Example:\n",
    "\n",
    "```pycon\n",
    ">>> @maketuple\n",
    "... def uppercase(s):\n",
    "...     return s.upper()\n",
    ">>> uppercase('Java')\n",
    "('J', 'A', 'V', 'A')\n",
    "\n",
    ">>> @maketuple\n",
    "... def sum(a, b):\n",
    "...     return a + b\n",
    ">>> sum(1, 2)\n",
    "(3,)\n",
    "```\n",
    "\n"
   ]
  },
  {
   "cell_type": "code",
   "execution_count": null,
   "metadata": {},
   "outputs": [],
   "source": [
    "import sys\n",
    "sys.path.insert(0, '..')\n",
    "from course_utils import Test\n",
    "sys.path.remove('..')\n",
    "\n",
    "from problem_3 import maketuple\n",
    "\n",
    "@maketuple\n",
    "def return_func(func): return func\n",
    "@maketuple\n",
    "def return_func_array(): return [int, eval, chr]\n",
    "@maketuple\n",
    "def uppercase(string): return string.upper()\n",
    "@maketuple\n",
    "def square(val): return val * val\n",
    "@maketuple\n",
    "def square_multi(*args): return [val * val for val in args]\n",
    "@maketuple\n",
    "def arbitrary_multi(*args, func=int): return [func(arg) for arg in args]\n",
    "\n",
    "maketuple_examples = [\n",
    "    (return_func(int), (int,)),\n",
    "    (return_func_array(), (int, eval, chr)),\n",
    "    (uppercase('im calm'), ('I', 'M', ' ', 'C', 'A', 'L', 'M')),\n",
    "    (square(5), (25,)),\n",
    "    (square_multi(1, 2, 3, 4, 5), (1, 4, 9, 16, 25)),\n",
    "    (arbitrary_multi('wake', 'up', func=uppercase), (('W', 'A', 'K', 'E'), ('U', 'P')))\n",
    "]\n",
    "\n",
    "Test(examples=maketuple_examples).equivalence()"
   ]
  },
  {
   "cell_type": "markdown",
   "metadata": {},
   "source": [
    "## Problem 4\n",
    "\n",
    "Write a parameterized decorator called `accepts()` that validates the type of the each argument to a function. Each argument to `accepts` should be a type (e.g., `int` or `str`) and corresponds to the expected type of a positional argument of the wrapped function. If an argument of the wrapped function is passed an object that is not of the specified type, `TypeError` should be raised. Furthermore, if an argument passed to `accepts()` is not itself a type object, a `TypeError` should be raised at the time the wrapped function is defined! It is safe to assume that the function being decorated only accepts positional arguments.\n",
    "\n",
    "Example:\n",
    "\n",
    "```pycon\n",
    ">>> @accepts(str, int)\n",
    "... def multiply_string(s, n):\n",
    "...     return s*n\n",
    "\n",
    ">>> multiply_string('Jon', 3)\n",
    "'JonJonJon'\n",
    "\n",
    ">>> multiply_string(1.0, 2.0)\n",
    "Traceback (most recent call last):\n",
    "TypeError: Argument 0 of multiply_string is not a str\n",
    "\n",
    ">>> multiply_string('Jon', '3')\n",
    "Traceback (most recent call last):\n",
    "TypeError: Argument 1 of multiply_string is not a int\n",
    "\n",
    ">>> @accepts(10, 20)\n",
    "... def sum(a, b):\n",
    "...     return a + b\n",
    "Traceback (most recent call last):\n",
    "TypeError: '10' is not a type object.\n",
    "```\n",
    "\n"
   ]
  },
  {
   "cell_type": "markdown",
   "metadata": {},
   "source": [
    "The below should raise a `TypeError`"
   ]
  },
  {
   "cell_type": "code",
   "execution_count": null,
   "metadata": {},
   "outputs": [],
   "source": [
    "from problem_4 import accepts\n",
    "\n",
    "@accepts(10, 20)\n",
    "def sum(a, b):\n",
    "    return a + b"
   ]
  },
  {
   "cell_type": "markdown",
   "metadata": {},
   "source": [
    "As should the next cell"
   ]
  },
  {
   "cell_type": "code",
   "execution_count": null,
   "metadata": {},
   "outputs": [],
   "source": [
    "@accepts(int, int)\n",
    "def sum(a, b):\n",
    "    return a + b\n",
    "\n",
    "sum(5, 4.5)"
   ]
  },
  {
   "cell_type": "code",
   "execution_count": null,
   "metadata": {},
   "outputs": [],
   "source": [
    "import sys\n",
    "sys.path.insert(0, '..')\n",
    "from course_utils import Test\n",
    "sys.path.remove('..')\n",
    "\n",
    "from problem_4 import accepts\n",
    "\n",
    "@accepts(type(lambda x: int(x)))\n",
    "def return_func(func): return func\n",
    "@accepts(str)\n",
    "def uppercase(string): return string.upper()\n",
    "@accepts(str, int)\n",
    "def multiply_string(s, n): return s * n\n",
    "@accepts(float)\n",
    "def square_float(val): return val * val\n",
    "@accepts(str, str, str)\n",
    "def concat_three(a, b, c): return a + b + c\n",
    "\n",
    "\n",
    "\n",
    "accepts_examples = [\n",
    "    (return_func(uppercase), uppercase),\n",
    "    (uppercase('all gas no brakes'), 'ALL GAS NO BRAKES'),\n",
    "    (multiply_string('and on ', 3), 'and on and on and on '),\n",
    "    (square_float(5.0), 25.0),\n",
    "    (concat_three('wake ', 'up ', 'samurai'), 'wake up samurai')\n",
    "]\n",
    "\n",
    "Test(examples=accepts_examples).equivalence()"
   ]
  }
 ],
 "metadata": {
  "kernelspec": {
   "display_name": "Python 3",
   "language": "python",
   "name": "python3"
  },
  "language_info": {
   "codemirror_mode": {
    "name": "ipython",
    "version": 3
   },
   "file_extension": ".py",
   "mimetype": "text/x-python",
   "name": "python",
   "nbconvert_exporter": "python",
   "pygments_lexer": "ipython3",
   "version": "3.9.0"
  }
 },
 "nbformat": 4,
 "nbformat_minor": 4
}
