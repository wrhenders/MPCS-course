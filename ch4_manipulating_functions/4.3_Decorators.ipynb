{
 "cells": [
  {
   "cell_type": "markdown",
   "metadata": {},
   "source": [
    "### [Video Explanation Here!](https://youtu.be/ipb1QfkZ0cIe)\n",
    "\n",
    "#### Decorators \n",
    "\n",
    "A *decorator* in Python allows a programmer to add new functionality to an exisiting type without modifying its structure. We use the ``@decorator_name`` before the definition of a function to apply the decorator, which results in a modification to the behavior of the function.  "
   ]
  },
  {
   "cell_type": "markdown",
   "metadata": {},
   "source": [
    "Decorators are functions that wrap other functions inside an enclosed function. \n",
    "\n",
    "For example, lets create a decorator that capatalizes a string returned by the given  function. "
   ]
  },
  {
   "cell_type": "code",
   "execution_count": null,
   "metadata": {},
   "outputs": [],
   "source": [
    "def uppercase(function):\n",
    "    def wrapper():\n",
    "        str_value = function()\n",
    "        str_uppercase = str_value.upper()\n",
    "        return str_uppercase\n",
    "    return wrapper"
   ]
  },
  {
   "cell_type": "markdown",
   "metadata": {},
   "source": [
    "Our decorator function takes in a function as an argument (i.e., the function that we are changing its behavior) and wraps in within the enclosed function ``wrapper``. Inside ``wrapper`` is where we can change the behavior of the function (i.e., in our example capatalizing the string). \n",
    "\n",
    "Now one way we could \"decorate\" a function is the following: "
   ]
  },
  {
   "cell_type": "code",
   "execution_count": null,
   "metadata": {},
   "outputs": [],
   "source": [
    "def make_string():\n",
    "    return \"Hello World\"\n",
    "\n",
    "decorate = uppercase(make_string)\n",
    "\n",
    "print(make_string()) #Unmodified version \n",
    "print(decorate()) # Modified version "
   ]
  },
  {
   "cell_type": "markdown",
   "metadata": {},
   "source": [
    "Python gives us some syntactic sugar for applying decorators. We  use the ``@`` symbol before the function we'd like to decorate."
   ]
  },
  {
   "cell_type": "code",
   "execution_count": null,
   "metadata": {},
   "outputs": [],
   "source": [
    "@uppercase\n",
    "def make_string():\n",
    "    return \"Hello World\"\n",
    "\n",
    "print(make_string())"
   ]
  },
  {
   "cell_type": "markdown",
   "metadata": {},
   "source": [
    "Decorators may need to accept arguments that may be required by the decorated function. You will add these arguments to the wrapper function. \n",
    "\n",
    "Use the special syntax func(\\*args,\\*\\*kwargs) to handle those cases."
   ]
  },
  {
   "cell_type": "code",
   "execution_count": null,
   "metadata": {},
   "outputs": [],
   "source": [
    "def uppercase(function):\n",
    "    def wrapper(*args, **kwargs):\n",
    "        str_value = function(*args,**kwargs)\n",
    "        str_uppercase = str_value.upper()\n",
    "        return str_uppercase\n",
    "    return wrapper\n",
    "\n",
    "@uppercase\n",
    "def make_string():\n",
    "    return \"Hello World\"\n",
    "\n",
    "@uppercase\n",
    "def make_string_2(prefix_1, prefix_2):\n",
    "    return f'{prefix_1} {prefix_2}'\n",
    "\n",
    "print(make_string())\n",
    "print(make_string_2(\"Hello World\",\"Goodbye\"))"
   ]
  },
  {
   "cell_type": "markdown",
   "metadata": {},
   "source": [
    "We can also apply these decorators to methods defined within a class \n",
    "\n",
    "**Note**: If you decorate a method within a class that you pass in ``self`` as the first argument. This means the wrapper inside the decorator function must take in ``self``. This is already handled by ``uppercase``, which gets passed in via `*args`. "
   ]
  },
  {
   "cell_type": "code",
   "execution_count": null,
   "metadata": {},
   "outputs": [],
   "source": [
    "class Person:\n",
    "    \n",
    "    def __init__(self, first_name, last_name, age):\n",
    "        self._first_name = first_name\n",
    "        self._last_name = last_name \n",
    "        self._age = age \n",
    "    \n",
    "    @uppercase \n",
    "    def description(self):\n",
    "        return f'{self._first_name} {self._last_name} {self._age}'"
   ]
  },
  {
   "cell_type": "code",
   "execution_count": null,
   "metadata": {},
   "outputs": [],
   "source": [
    "p = Person(\"Tom\", \"Jones\", 34)\n",
    "p.description()"
   ]
  },
  {
   "cell_type": "markdown",
   "metadata": {},
   "source": [
    "You can apply multiple decorators to a function. However, the decorators will be applied in the order that we've call them. \n"
   ]
  },
  {
   "cell_type": "code",
   "execution_count": null,
   "metadata": {},
   "outputs": [],
   "source": [
    "def csv_with_header(function):\n",
    "    def wrapper(self):\n",
    "        str_value = function(self)\n",
    "        header = \"first,last,age\\n\"\n",
    "        csv_str = \",\".join(str_value.split())\n",
    "        return header + csv_str\n",
    "    return wrapper\n",
    "\n",
    "class Person:\n",
    "    \n",
    "    def __init__(self, first_name, last_name, age):\n",
    "        self._first_name = first_name\n",
    "        self._last_name = last_name \n",
    "        self._age = age \n",
    " \n",
    "    @csv_with_header\n",
    "    @uppercase     \n",
    "    def description(self):\n",
    "        return f'{self._first_name} {self._last_name} {self._age}'"
   ]
  },
  {
   "cell_type": "code",
   "execution_count": null,
   "metadata": {},
   "outputs": [],
   "source": [
    "p = Person(\"Tom\", \"Jones\", 34)\n",
    "p.description()"
   ]
  },
  {
   "cell_type": "markdown",
   "metadata": {},
   "source": [
    "Notice the difference if we were to change the order of the decorators:"
   ]
  },
  {
   "cell_type": "code",
   "execution_count": null,
   "metadata": {},
   "outputs": [],
   "source": [
    "class Person:\n",
    "    \n",
    "    def __init__(self, first_name, last_name, age):\n",
    "        self._first_name = first_name\n",
    "        self._last_name = last_name \n",
    "        self._age = age \n",
    " \n",
    "    @uppercase \n",
    "    @csv_with_header    \n",
    "    def description(self):\n",
    "        return f'{self._first_name} {self._last_name} {self._age}'"
   ]
  },
  {
   "cell_type": "code",
   "execution_count": null,
   "metadata": {},
   "outputs": [],
   "source": [
    "p = Person(\"Tom\", \"Jones\", 34)\n",
    "p.description()"
   ]
  },
  {
   "cell_type": "markdown",
   "metadata": {},
   "source": [
    "#### Parametrized Decorator \n",
    "\n",
    "What if we wanted to pass the header to the ``csv_with_header`` to make it more generalized? This augmentation would require us to allow for a parameter when applying the decorator. For example, \n",
    "\n",
    "``csv_with_header('first,last,age')`` \n",
    "\n",
    "To create a parameterized decorator, must define a function that returns another function that acts as a decorator."
   ]
  },
  {
   "cell_type": "code",
   "execution_count": null,
   "metadata": {},
   "outputs": [],
   "source": [
    "def csv_with_header(header_arg):\n",
    "    def decorator(function):\n",
    "        def wrapper(self):\n",
    "            str_value = function(self)\n",
    "            csv_str = \",\".join(str_value.split())\n",
    "            return header_arg + '\\n' + csv_str\n",
    "        return wrapper\n",
    "    return decorator "
   ]
  },
  {
   "cell_type": "code",
   "execution_count": null,
   "metadata": {},
   "outputs": [],
   "source": [
    "class Person:\n",
    "    \n",
    "    def __init__(self, first_name, last_name, age):\n",
    "        self._first_name = first_name\n",
    "        self._last_name = last_name \n",
    "        self._age = age \n",
    " \n",
    "    @csv_with_header(\"Some header here\")    \n",
    "    @uppercase \n",
    "    def description(self):\n",
    "        return f'{self._first_name} {self._last_name} {self._age}'"
   ]
  },
  {
   "cell_type": "code",
   "execution_count": null,
   "metadata": {},
   "outputs": [],
   "source": [
    "p = Person(\"Tom\", \"Jones\", 34)\n",
    "p.description()"
   ]
  },
  {
   "cell_type": "markdown",
   "metadata": {},
   "source": [
    "#### Function Metadata\n",
    "\n",
    "If a function being wrapped has a docstring or other metadata, once it is wrapped that metadata is lost. \n"
   ]
  },
  {
   "cell_type": "code",
   "execution_count": null,
   "metadata": {},
   "outputs": [],
   "source": [
    "def make_string():\n",
    "    \"\"\"\n",
    "    This function makes a string \"Hello World\"\n",
    "    \"\"\"\n",
    "    return \"Hello World\"\n",
    "\n",
    "print(make_string.__name__) # Metadata (__name__) returns the name of the function\n",
    "print(make_string.__doc__) # Metadata (__doc__) returns docstring "
   ]
  },
  {
   "cell_type": "code",
   "execution_count": null,
   "metadata": {},
   "outputs": [],
   "source": [
    "@uppercase\n",
    "def make_string():\n",
    "    \"\"\"\n",
    "    This function makes a string \"Hello World\"\n",
    "    \"\"\"\n",
    "    return \"Hello World\"\n",
    "\n",
    "print(make_string.__name__) # We lost the name \n",
    "print(make_string.__doc__) # We lost the docstring "
   ]
  },
  {
   "cell_type": "markdown",
   "metadata": {},
   "source": [
    "To solve this problem, Python provides a ``functools.wraps`` decorator, which copies this metadata for the decorated function. "
   ]
  },
  {
   "cell_type": "code",
   "execution_count": null,
   "metadata": {},
   "outputs": [],
   "source": [
    "import functools \n",
    "\n",
    "def uppercase_decorator(function):\n",
    "    @functools.wraps(function)\n",
    "    def wrapper(*args, **kwargs):\n",
    "        str_value = function(*args,**kwargs)\n",
    "        str_uppercase = str_value.upper()\n",
    "        return str_uppercase\n",
    "    return wrapper"
   ]
  },
  {
   "cell_type": "code",
   "execution_count": null,
   "metadata": {},
   "outputs": [],
   "source": [
    "@uppercase_decorator\n",
    "def make_string():\n",
    "    \"\"\"\n",
    "    This function makes a string \"Hello World\"\n",
    "    \"\"\"\n",
    "    return \"Hello World\"\n",
    "\n",
    "print(make_string.__name__) # name preserved! \n",
    "print(make_string.__doc__) # docstring preserved! "
   ]
  },
  {
   "cell_type": "markdown",
   "metadata": {},
   "source": [
    "It's good practice to always use ``functools.wraps`` when defining decorators. "
   ]
  }
 ],
 "metadata": {
  "kernelspec": {
   "display_name": "Python 3",
   "language": "python",
   "name": "python3"
  },
  "language_info": {
   "codemirror_mode": {
    "name": "ipython",
    "version": 3
   },
   "file_extension": ".py",
   "mimetype": "text/x-python",
   "name": "python",
   "nbconvert_exporter": "python",
   "pygments_lexer": "ipython3",
   "version": "3.9.0"
  }
 },
 "nbformat": 4,
 "nbformat_minor": 2
}
