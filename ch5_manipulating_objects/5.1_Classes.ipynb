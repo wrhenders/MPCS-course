{
 "cells": [
  {
   "cell_type": "markdown",
   "metadata": {},
   "source": [
    "### [Video Explanation Here!](https://youtu.be/Ejg6PBVPoIw)\n",
    "\n",
    "In Python, each of our variables references an **object.**\n",
    "\n",
    "You can think of an object as an organizing container with data (state) and functionality (behavior). The behavior—the functions—can use, and influence, the object's state. So, the output of a function might depend on which object is calling it.\n",
    "\n",
    "You have already seen some objects before: instances of ints, strs, and dicts, for example. But we can also make our own!\n",
    "\n",
    "We do that by defining **classes**.\n",
    "\n",
    "A class is defined using the ``class`` statement and has the general form:\n"
   ]
  },
  {
   "cell_type": "code",
   "execution_count": null,
   "metadata": {},
   "outputs": [],
   "source": [
    "class Car:\n",
    "    # Definition of Car type goes here\n",
    "    pass # Use pass to indicate we have not implemented the class yet"
   ]
  },
  {
   "cell_type": "markdown",
   "metadata": {},
   "source": [
    "### Types/Classes and Objects\n",
    "\n",
    "Since Python 2.2, types and classes are functionally identical (though we typically use \"type\" to descibe a builtin type and \"class\" to describe a type of our own design).<sup>1</sup> The **type/class** is where we define the state and behavior that all objects of this type/class will have. The **objects** are individual **instances** of that type/class.\n",
    "\n",
    "1. For more on the history of this change, see [this piece](https://www.python.org/download/releases/2.2.3/descrintro/) by Guido Van Rossum. In general, I think this piece also provides a self-contained example that gives you some insight into:\n",
    "- How programming language design decisions are made\n",
    "- How open source project maintainers (especially of projects as widely used as Python) communicate with their communities\n",
    "\n",
    "2. In making this change, Python became more like Ruby, in which all types are objects that can accept methods and do all the things objects do. This isn't a given for a language, though: for example, the primitive types in Java aren't (and don't function like) objects, and in Golang you _can_ treat the primitive types the way you'd treat objects, but Golang [doesn't exactly have inheritance](https://www.geeksforgeeks.org/inheritance-in-golang/), so you have to subclass both types and objects with **struct embedding**."
   ]
  },
  {
   "cell_type": "code",
   "execution_count": null,
   "metadata": {},
   "outputs": [],
   "source": [
    "name_ages_1 = dict() # Create Empty Dictionary"
   ]
  },
  {
   "cell_type": "code",
   "execution_count": null,
   "metadata": {},
   "outputs": [],
   "source": [
    "name_ages_1\n",
    "type(name_ages_1)"
   ]
  },
  {
   "cell_type": "code",
   "execution_count": null,
   "metadata": {},
   "outputs": [],
   "source": [
    "names_ages_2 = dict([(\"Bob\",34), (\"Tom\", 54), (\"Joan\", 45)]) #Create dictinary with initial values"
   ]
  },
  {
   "cell_type": "code",
   "execution_count": null,
   "metadata": {},
   "outputs": [],
   "source": [
    "names_ages_2"
   ]
  },
  {
   "cell_type": "code",
   "execution_count": null,
   "metadata": {},
   "outputs": [],
   "source": [
    "names_ages_3 = dict(names_ages_2) # Make a copy of the previous dictionary"
   ]
  },
  {
   "cell_type": "code",
   "execution_count": null,
   "metadata": {},
   "outputs": [],
   "source": [
    "names_ages_3"
   ]
  },
  {
   "cell_type": "markdown",
   "metadata": {},
   "source": [
    "``dict`` is a class, and ``names_ages_1``, ``names_ages_2``, and ``names_ages_3`` are variables that refer to  *objects* of ``dict``. \n",
    "\n",
    "\n",
    "One of way to think about this distinction is that a class is like the blueprint for creating specific realizations of some entity. \n",
    "\n",
    "\n",
    "![alt text](../images/class.png \"Class vs Instance\") \n",
    "\n",
    "\n",
    "Referring back to our ``Car`` class, where it provides the blueprint and the objects are the actual individual cars. \n",
    "\n",
    "The blueprint specifies certain features of the var can vary from car to car, like its color or transmission type. We can create multiple cars with different values for any given *attribute* (e.g.,  one car could be red and another blue). \n"
   ]
  },
  {
   "cell_type": "markdown",
   "metadata": {},
   "source": [
    "### Creating Instances of a Class \n",
    " \n",
    "We can instantiate (i.e., create an object/instance) of a class using the following code:  "
   ]
  },
  {
   "cell_type": "code",
   "execution_count": null,
   "metadata": {},
   "outputs": [],
   "source": [
    "car_0 = Car()"
   ]
  },
  {
   "cell_type": "markdown",
   "metadata": {},
   "source": [
    " Although object creation has similiar syntax to a function, we are not calling but instead creating a new instance of `Car`, and providing the necessary values to initialize the instance. \n",
    "\n",
    "In our names and ages dictionaries code above, we saw three different ways to create a dictionary: \n",
    "\n",
    "- No arguments: creating an empty dictionary \n",
    "- List of 2-tuples: creates a dictionary with the key-value pairs in the list \n",
    "- Dictionary: creates a copy of the argument dictionary"
   ]
  },
  {
   "cell_type": "markdown",
   "metadata": {},
   "source": [
    "### Constructors and Attributes \n",
    "\n",
    "Referring back to our ``Car`` class, we typically should know about the ``make``, ``model`` and ``year`` for a car. We consider the data components that make up a class as **attributes** or **properties**. In this case, ``make``, ``model`` and ``year`` are attributes of the class.  \n",
    "We could create ``Car`` objects like the following: \n",
    "\n",
    "`car1 = Car(\"Honda\",\"Fit\", 2017) # Create a Car with make=\"Honda\", model=\"Fit\", Year=2020``\n",
    "\n",
    "When creating an class, we can define a special method known as ``__init__`` to initialize an object:"
   ]
  },
  {
   "cell_type": "code",
   "execution_count": null,
   "metadata": {},
   "outputs": [],
   "source": [
    "class Car: \n",
    "    def __init__(self, make, model, year):\n",
    "        self.make = make \n",
    "        self.model = model \n",
    "        self.year = year"
   ]
  },
  {
   "cell_type": "markdown",
   "metadata": {},
   "source": [
    "Before explaining whats happening in ``__init__``, lets create few car objects and access their attributes. "
   ]
  },
  {
   "cell_type": "code",
   "execution_count": null,
   "metadata": {},
   "outputs": [],
   "source": [
    "car_1 = Car(\"Honda\", \"Fit\", 2017)"
   ]
  },
  {
   "cell_type": "code",
   "execution_count": null,
   "metadata": {},
   "outputs": [],
   "source": [
    "car_2 = Car(\"Bugatti\", \"Veyron\", 2015)"
   ]
  },
  {
   "cell_type": "code",
   "execution_count": null,
   "metadata": {},
   "outputs": [],
   "source": [
    "car_1.make"
   ]
  },
  {
   "cell_type": "code",
   "execution_count": null,
   "metadata": {},
   "outputs": [],
   "source": [
    "car_1.model"
   ]
  },
  {
   "cell_type": "code",
   "execution_count": null,
   "metadata": {},
   "outputs": [],
   "source": [
    "car_1.year"
   ]
  },
  {
   "cell_type": "code",
   "execution_count": null,
   "metadata": {},
   "outputs": [],
   "source": [
    "car_2.make "
   ]
  },
  {
   "cell_type": "code",
   "execution_count": null,
   "metadata": {},
   "outputs": [],
   "source": [
    "car_2.model"
   ]
  },
  {
   "cell_type": "code",
   "execution_count": null,
   "metadata": {},
   "outputs": [],
   "source": [
    "car_2.year"
   ]
  },
  {
   "cell_type": "markdown",
   "metadata": {},
   "source": [
    "We created two instances of the ``Car`` class and assigned them to the varibales ``car_1`` and ``car_2``. Each instace have their own (independent) values for the ``Car``  attributes: ``make``, ``model`` and ``year``. "
   ]
  },
  {
   "cell_type": "markdown",
   "metadata": {},
   "source": [
    "Now, what's happening in the ``__init__`` method? Again, the ``__init__`` method is a special method that handles what should happen when we create an object: \n",
    "\n",
    "``car_1 = Car(\"Honda\", \"Fit\", 2017)`` \n",
    "\n",
    "Notice, the first argument is not ``make`` as you may think but instead there's this ``self`` argument. This argument contains the object we are creating. Notice how we don't pass this argument when constructing a ``Car``. Behind the scenes, Python is translating: \n",
    "\n",
    "``car_1 = Car(\"Honda\", \"Fit\", 2017)`` \n",
    "\n",
    "into \n",
    "\n",
    "``Car.__init__(new_object, \"Honda\", \"Fit\", 2017) #new_object is empty initially``\n",
    "\n",
    "after creating and initialzing the object then python does the following: \n",
    "\n",
    "``car_1 = new_object`` \n",
    "\n",
    "**Note**: The ``__init__`` method is also _colloquially_ referred to as a \"constructor\" because we use it the same way a programmer would use a constructor in, say, Java, but `__init__` does not do exactly what a Java constructor does. A closer corollary to Java's constructors is the Python method `__new__`, which gets called _before_ `__init__` when you call a class to get a new instance of it. That method is a thing called a **static method** that returns an instance of the class, and then `__init__` is called _on that instance_. In the vast majority of cases, you shouldn't mess with the `__new__` method, and putting your initialization code in `__init__` should be fine. I just want to make sure you know, people use the same word to describe these two things, but they don't quite work the same way.\n",
    "\n",
    "Inside the ``__init__`` method we initialize the attributes for the object: \n",
    "\n",
    "        ``self.make = make`` \n",
    "\n",
    "We're saying \"set the value of attribute ``make`` of the object to be equal to argument ``make``\".\n",
    "\n",
    "Notice how __init__ doesn't return anything (although you can think of it as implicitly returning ``self``).\n"
   ]
  },
  {
   "cell_type": "markdown",
   "metadata": {},
   "source": [
    "#### Attributes (cont.)\n",
    "\n",
    "- Are immediately created on the first assignment to them. \n",
    "-  Acts as the object state. \n",
    "- Creation syntax: ``object.variable_name = expression``, where typically ``object`` is ``self``\n",
    "- All attributes are cccessible from inside the class and outside. \n",
    "\n",
    "  - Syntax: \n",
    "      - `self.attribute_name` (Inside) or \n",
    "      - `object_var_name.attribute_name` (Outside) \n",
    "\n",
    "### Dynamic Attributes \n",
    "As with function attributes, Python allows you to dynamically create attributes and modify them at run-time\n"
   ]
  },
  {
   "cell_type": "code",
   "execution_count": null,
   "metadata": {},
   "outputs": [],
   "source": [
    "car_t = Car(\"Toyota\",\"RAV4\", 2018) # Create a Car"
   ]
  },
  {
   "cell_type": "code",
   "execution_count": null,
   "metadata": {},
   "outputs": [],
   "source": [
    "car_f = Car(\"Ford\",\"Escape\", 2018) # Create a Car\n",
    "\n",
    "# Creates a dynamic attribute that only the \n",
    "# car_f instance has. \n",
    "car_f.hybrid = True \n",
    "\n",
    "car_f.hybrid"
   ]
  },
  {
   "cell_type": "code",
   "execution_count": null,
   "metadata": {},
   "outputs": [],
   "source": [
    "# Running the following code will case an error \n",
    "# car_t has no attribute hybrid \n",
    "car_t.hybrid"
   ]
  },
  {
   "cell_type": "markdown",
   "metadata": {},
   "source": [
    "Although this feature is allowed, by convention its better to define attributes at initialization time. \n",
    "\n",
    "Why do you think this is?"
   ]
  },
  {
   "cell_type": "markdown",
   "metadata": {},
   "source": [
    "### Instance Methods \n",
    "\n",
    "*Instance methods* allow us to define new behaviors/actions for an instance of a class: \n",
    " -  Think of an instance method as \"A function that 'belongs to' an instance of an object.\n",
    " \n",
    "For example, we have already seen this with the ``list`` class, where can call its ``append`` method to add an object to the end of the list. \n",
    "\n"
   ]
  },
  {
   "cell_type": "code",
   "execution_count": null,
   "metadata": {},
   "outputs": [],
   "source": [
    "lst1 = [1,2,3]"
   ]
  },
  {
   "cell_type": "code",
   "execution_count": null,
   "metadata": {},
   "outputs": [],
   "source": [
    "lst2 = ['a','b','c']"
   ]
  },
  {
   "cell_type": "code",
   "execution_count": null,
   "metadata": {},
   "outputs": [],
   "source": [
    "lst1.append(True)\n",
    "lst2.append(True)\n",
    "print(lst1)\n",
    "print(lst2)"
   ]
  },
  {
   "cell_type": "markdown",
   "metadata": {},
   "source": [
    "### Now is a great time to talk about **state** in instances\n",
    "\n",
    "A method always operates on the instance it is called on. So, notice how we call ``append`` with the same parameters on both lists:\n",
    "\n",
    "    .append(True)\n",
    "    .append(True)\n",
    "    \n",
    "But they produce different results based on what object the method is called on. That's because the instances of the objects have different **states**.\n",
    "\n",
    "Lets add an instance method called ``compute_age`` to determine how years old the car is from todays date. "
   ]
  },
  {
   "cell_type": "code",
   "execution_count": null,
   "metadata": {},
   "outputs": [],
   "source": [
    "from datetime import date\n",
    "class Car: \n",
    "    \n",
    "    def __init__(self, make, model, year):\n",
    "        self.make = make \n",
    "        self.model = model \n",
    "        self.year = year\n",
    "        \n",
    "    def compute_age(self):\n",
    "        current_year = int(date.today().year)\n",
    "        return current_year - self.year"
   ]
  },
  {
   "cell_type": "code",
   "execution_count": null,
   "metadata": {},
   "outputs": [],
   "source": [
    "car_t = Car(\"Toyota\",\"RAV4\", 2018)"
   ]
  },
  {
   "cell_type": "code",
   "execution_count": null,
   "metadata": {},
   "outputs": [],
   "source": [
    "car_t.compute_age()"
   ]
  },
  {
   "cell_type": "code",
   "execution_count": null,
   "metadata": {},
   "outputs": [],
   "source": [
    "car_p = Car(\"Toyota\",\"Prius\", 2016)\n",
    "car_p.compute_age()"
   ]
  },
  {
   "cell_type": "markdown",
   "metadata": {},
   "source": [
    "Notice, how ``compute_age()`` also has a ``self`` argument as its first argument, similiar to ``__init__``. In Python, all instance methods implicitly take the method’s instance object as the first argument. \n",
    "\n",
    "Again, Python is taking the following line: \n",
    "\n",
    "``car_t.compute_age()`` and is \n",
    "\n",
    "translating it into \n",
    "\n",
    "``Car.compute_age(car_t)`` \n",
    "\n",
    "**Note**: Passing in the object (i.e., ``self``) is ALWAYS the first argument. However, it's not required to be called ``self``! By convention, though, we name it ``self``. "
   ]
  },
  {
   "cell_type": "markdown",
   "metadata": {},
   "source": [
    "### Aside: Function Attributes \n",
    "Everything in Python is an object, including functions. "
   ]
  },
  {
   "cell_type": "code",
   "execution_count": null,
   "metadata": {},
   "outputs": [],
   "source": [
    "def hello():\n",
    "    pass\n",
    "\n",
    "isinstance(hello, object)"
   ]
  },
  {
   "cell_type": "markdown",
   "metadata": {},
   "source": [
    "Therefore, functions can have attributes. \n",
    " \n",
    "- Function attributes are another way to maintain state. The syntax is similiar to defining attributes within classes; however, we use the function name instead: \n",
    "\n",
    "    ``function_name.attribute_name = expression`` \n",
    "   \n",
    "Let's look at an example:"
   ]
  },
  {
   "cell_type": "code",
   "execution_count": null,
   "metadata": {},
   "outputs": [],
   "source": [
    "def counter(func):                            # Pass a callable\n",
    "    def inner(*args, **kwargs):\n",
    "        inner.call_count += 1\n",
    "        print(\"call count: {}\".format(inner.call_count))\n",
    "        return func(*args, **kwargs)          # Returns result\n",
    "    # Function attribute definition \n",
    "    # attribute = call_count \n",
    "    # assoicated function = inner \n",
    "    inner.call_count = 0\n",
    "    return inner"
   ]
  },
  {
   "cell_type": "markdown",
   "metadata": {},
   "source": [
    "*Notes*:\n",
    "- The attribute is nonlocal in the scope of ``inner``.\n",
    "- The attribute is accessible to the caller as an instance attribute.  \n",
    "  "
   ]
  },
  {
   "cell_type": "code",
   "execution_count": null,
   "metadata": {},
   "outputs": [],
   "source": [
    "pow_count = counter(pow)"
   ]
  },
  {
   "cell_type": "code",
   "execution_count": null,
   "metadata": {},
   "outputs": [],
   "source": [
    "x = pow_count(5, 2)         # Returns 25,  prints \"call count: 1\""
   ]
  },
  {
   "cell_type": "code",
   "execution_count": null,
   "metadata": {},
   "outputs": [],
   "source": [
    "y = pow_count(5, 3)         # Returns 125, prints \"call count: 2\""
   ]
  },
  {
   "cell_type": "code",
   "execution_count": null,
   "metadata": {},
   "outputs": [],
   "source": [
    "c = pow_count.call_count    # Accessible to caller's scope\n",
    "print(c)"
   ]
  },
  {
   "cell_type": "markdown",
   "metadata": {},
   "source": [
    "Where have we seen behavior like this before?\n",
    "\n",
    "It's worth noting that it is _very_ easy to write unclear code with a feature like this. Check out some [uses and abuses of this feature](https://stackoverflow.com/questions/338101/python-function-attributes-uses-and-abuses)."
   ]
  }
 ],
 "metadata": {
  "kernelspec": {
   "display_name": "Python 3",
   "language": "python",
   "name": "python3"
  },
  "language_info": {
   "codemirror_mode": {
    "name": "ipython",
    "version": 3
   },
   "file_extension": ".py",
   "mimetype": "text/x-python",
   "name": "python",
   "nbconvert_exporter": "python",
   "pygments_lexer": "ipython3",
   "version": "3.9.0"
  }
 },
 "nbformat": 4,
 "nbformat_minor": 1
}
