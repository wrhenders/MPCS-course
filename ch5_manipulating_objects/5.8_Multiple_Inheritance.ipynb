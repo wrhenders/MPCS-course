{
 "cells": [
  {
   "cell_type": "markdown",
   "metadata": {},
   "source": [
    "### [Video Explanation Here!](https://youtu.be/sHXoMeDSgHQ)\n",
    "\n",
    "### Multiple Inheritance \n",
    "\n",
    "We talked about inheritance where one class can inherit the existing code from a prexisitng class by doing the following: \n"
   ]
  },
  {
   "cell_type": "code",
   "execution_count": null,
   "metadata": {},
   "outputs": [],
   "source": [
    "class Subclass(Superclass):\n",
    "    pass "
   ]
  },
  {
   "cell_type": "markdown",
   "metadata": {},
   "source": [
    "However, in Python, a subclass can inherit from more than a single superclass. We call this **multiple inheritance**. You specify the inheritance in the ``()`` seperated by commas "
   ]
  },
  {
   "cell_type": "code",
   "execution_count": null,
   "metadata": {},
   "outputs": [],
   "source": [
    "class Subclass(Superclass1, Superclass2, Superclass3):\n",
    "    pass "
   ]
  },
  {
   "cell_type": "markdown",
   "metadata": {},
   "source": [
    "### Let's talk about Multiple Inheritance and what it means for Python.\n",
    "\n",
    "Most programming lessons depict inheritance as a tree, with subclasses stemming from the superclasses that they extend.\n",
    "\n",
    "![](../images/inheritance_as_tree.jpg)\n",
    "\n",
    "So a subclass inherits attributes and behavior from superclasses, the way a child might inherit physical attributes from a parent.\n",
    "\n",
    "Here’s where that analogy breaks down, though: most languages strictly support single inheritance: that is, a class can only inherit from one other class. That forces us into conceptualizing inheritance not as a tree, but as a set of concentric circles, with each subclass occupying a smaller circle inside that of its superclass.\n",
    "\n",
    "![](../images/inheritance_as_circles.jpg)\n",
    "\n",
    "In languages with single inheritance, you can't have any circle crossing over the boundary of one of its bigger circles. So each time we make a subclass, we’re making a wager that two things are true:\n",
    "\n",
    "1. What’s true of the superclass is true of the subclass.\n",
    "2. The subclass is only a special case of this superclass; not of anything else.\n",
    "\n",
    "That’s a pretty bold wager, and we often get it wrong. When we get it wrong and leave the inheritance structure intact, we have to do weird stuff like:\n",
    "\n",
    "- Override superclass methods with no-ops (when things that are true of the superclass are not true of the subclass)\n",
    "- Include modules or inject dependencies (when the subclass is a special case of something besides its superclass. This isn’t weird in and of itself, but you can end up in discussions about which thing should be the superclass and which should be the dependencies that force you to model the problem space in arbitrary, inaccurate ways).\n",
    "\n",
    "Python is one of the languages that supports the imperative paradigm with multiple inheritance, which allows a class to subclass multiple other classes. \n",
    "\n",
    "Allowing classes to inherit from multiple other classes frees us up to build structures that resemble generational family trees, with multiple ancestors. \n",
    "\n",
    "![](../images/multiple_inheritance.jpg)\n",
    "\n",
    "This de-risks the choice to make a subclass because the subclass does not have to be a special case of only this thing. If a class needs to inherit several behaviors, but different subclasses need those behaviors mixed and matched, then we can divide those behaviors into separate superclasses and have each subclass inherit only the relevant ones.\n",
    "\n",
    "It fits with the Python philosophy that the language would allow multiple inheritance. A language that allows multiple inheritance also allows single inheritance, and Python often strives for a single implementation that encompasses all use cases, as we have seen with the case statement and with Python's use of abstract base classes instead of an interface construct."
   ]
  },
  {
   "cell_type": "code",
   "execution_count": null,
   "metadata": {},
   "outputs": [],
   "source": []
  }
 ],
 "metadata": {
  "kernelspec": {
   "display_name": "Python 3",
   "language": "python",
   "name": "python3"
  },
  "language_info": {
   "codemirror_mode": {
    "name": "ipython",
    "version": 3
   },
   "file_extension": ".py",
   "mimetype": "text/x-python",
   "name": "python",
   "nbconvert_exporter": "python",
   "pygments_lexer": "ipython3",
   "version": "3.9.0"
  }
 },
 "nbformat": 4,
 "nbformat_minor": 4
}
