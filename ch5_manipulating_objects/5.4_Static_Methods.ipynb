{
 "cells": [
  {
   "cell_type": "markdown",
   "metadata": {},
   "source": [
    "### [Video Explanation Here!](https://youtu.be/6XLSDvr1VmI)\n",
    "\n",
    "### Static Methods\n",
    "\n",
    "We have covered instance methods and class methods. There is one last type of method to cover, which is **static methods**."
   ]
  },
  {
   "cell_type": "code",
   "execution_count": null,
   "metadata": {},
   "outputs": [],
   "source": [
    "class Car:\n",
    "    @staticmethod\n",
    "    def sound():\n",
    "        return \"vroom vroom\""
   ]
  },
  {
   "cell_type": "code",
   "execution_count": null,
   "metadata": {},
   "outputs": [],
   "source": [
    "Car.sound()"
   ]
  },
  {
   "cell_type": "markdown",
   "metadata": {},
   "source": [
    "This type of method can live on a class, but it takes neither a `cls` class argument nor a `self` instance argument. It can take whatever other arbitrary arguments you like, though!"
   ]
  },
  {
   "cell_type": "code",
   "execution_count": null,
   "metadata": {},
   "outputs": [],
   "source": [
    "class Car:\n",
    "    @staticmethod\n",
    "    def sound(use):\n",
    "        if use == \"commuting\":\n",
    "            return \"beep beep\"\n",
    "        elif use == \"racing\":\n",
    "            return \"ZZOOOOOOMMMM\"\n",
    "        else:\n",
    "            return \"vroom vroom\""
   ]
  },
  {
   "cell_type": "code",
   "execution_count": null,
   "metadata": {},
   "outputs": [],
   "source": [
    "Car.sound(\"commuting\")"
   ]
  },
  {
   "cell_type": "code",
   "execution_count": null,
   "metadata": {},
   "outputs": [],
   "source": [
    "Car.sound(\"racing\")"
   ]
  },
  {
   "cell_type": "code",
   "execution_count": null,
   "metadata": {},
   "outputs": [],
   "source": [
    "Car.sound(\"show\")"
   ]
  },
  {
   "cell_type": "markdown",
   "metadata": {},
   "source": [
    "In these cases, the state of the class itself has little to do with the method. Instead, the class mostly serves as a **namespace** for the static method: a convenient label on the front that:\n",
    "\n",
    "- Gives some more information about when to use the method\n",
    "- Makes it unique from other methods with the same _signature_ (taking the same arguments but doing different things).\n",
    "\n",
    "Example:"
   ]
  },
  {
   "cell_type": "code",
   "execution_count": null,
   "metadata": {},
   "outputs": [],
   "source": [
    "class Noun:\n",
    "    @staticmethod\n",
    "    def definition(word):\n",
    "        if word == \"stick\":\n",
    "            return \"A thin piece of wood that has fallen or been cut from a tree.\"\n",
    "\n",
    "class Verb:\n",
    "    @staticmethod\n",
    "    def definition(word):\n",
    "        if word == \"stick\":\n",
    "            return \"Adhere or cling to something.\""
   ]
  },
  {
   "cell_type": "code",
   "execution_count": null,
   "metadata": {},
   "outputs": [],
   "source": [
    "Noun.definition(\"stick\")"
   ]
  },
  {
   "cell_type": "code",
   "execution_count": null,
   "metadata": {},
   "outputs": [],
   "source": [
    "Verb.definition(\"stick\")"
   ]
  },
  {
   "cell_type": "code",
   "execution_count": null,
   "metadata": {},
   "outputs": [],
   "source": []
  }
 ],
 "metadata": {
  "kernelspec": {
   "display_name": "Python 3",
   "language": "python",
   "name": "python3"
  },
  "language_info": {
   "codemirror_mode": {
    "name": "ipython",
    "version": 3
   },
   "file_extension": ".py",
   "mimetype": "text/x-python",
   "name": "python",
   "nbconvert_exporter": "python",
   "pygments_lexer": "ipython3",
   "version": "3.9.0"
  }
 },
 "nbformat": 4,
 "nbformat_minor": 4
}
