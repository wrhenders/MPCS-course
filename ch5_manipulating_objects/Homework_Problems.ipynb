{
 "cells": [
  {
   "cell_type": "markdown",
   "metadata": {},
   "source": [
    "## Problem 0\n",
    "\n",
    "You know that you can get a class's method resolution order by checking its `.__mro__` attribute. Let's look at some unusual cases of method resolution order to better understand how it works."
   ]
  },
  {
   "cell_type": "code",
   "execution_count": null,
   "metadata": {},
   "outputs": [],
   "source": [
    "#This is called \"The Diamond Inheritance Pattern.\"\n",
    "class Uranus:\n",
    "    pass\n",
    "\n",
    "class Cronus(Uranus):\n",
    "    pass\n",
    "\n",
    "class Rhea(Uranus):\n",
    "    pass\n",
    "\n",
    "class Demeter(Cronus, Rhea):\n",
    "    pass\n",
    "\n",
    "Demeter.__mro__"
   ]
  },
  {
   "cell_type": "markdown",
   "metadata": {},
   "source": [
    "How would you describe method resolution order in the diamond pattern? Please put your answer in problem_0.md."
   ]
  },
  {
   "cell_type": "markdown",
   "metadata": {},
   "source": [
    "## Problem 1\n",
    "\n",
    "In the Swift programming language, the [Array](https://developer.apple.com/documentation/swift/array) datatype (somewhat equivalent to Python's `list`) has a number of methods which `list` in Python does not have. For this problem, you are to write a subclass of `list` that provides some of these methods.\n",
    "\n",
    "### Specifications\n",
    "\n",
    "- The class should be named `SwiftArray` and should inherit from the built-in `list` class.\n",
    "- The `allSatisfy(predicate)` method tests whether all items in the list satisfy a given _predicate_ (function of one argument that returns a Boolean value).\n",
    "- The `drop(predicate)` method returns a list containing only elements of the original list that do not satisfy the given predicate. As with the `allSatisfy` method, the predicate is a function taking one argument and returning a Boolean value. Elements in the returned list should be in the same order they appear in the SwiftArray.\n",
    "- The `min(by)` method returns the minimum element in the list. The `by` argument should take a default value of `None`, in which case elements are compared using their value directly. The `by` argument allows a non-default comparison to be made between elements; it should be a function taking two arguments and returning `True` if the first argument should be ordered before its second argument and `False` otherwise.\n",
    "- The `partition(predicate)` method reorders the elements of the list such that all elements that match the given predicate are after all element the elements that don't match. Note that this is an in-place operation, i.e., it should not return a new list. This method also returns the index of the first element in the reordered list that matches the predicate.\n",
    "\n",
    "### Example Interaction\n",
    "\n",
    "```pycon\n",
    ">>> x = SwiftArray([1, -3, 10, 5])\n",
    ">>> x.allSatisfy(lambda v: isinstance(v, int))\n",
    "True\n",
    ">>> def even(v):\n",
    "...     return v % 2 == 0\n",
    ">>> x.drop(even)\n",
    "[1, -3, 5]\n",
    ">>> x.min()\n",
    "-3\n",
    ">>> x.min(lambda a, b: abs(a) < abs(b))\n",
    "1\n",
    ">>> x.min(lambda a, b: a > b)\n",
    "10\n",
    ">>> first = x.partition(lambda v: v < 0)\n",
    ">>> x\n",
    "[1, 10, 5, -3]\n",
    ">>> x[first]\n",
    "-3\n",
    "```"
   ]
  },
  {
   "cell_type": "code",
   "execution_count": null,
   "metadata": {},
   "outputs": [],
   "source": [
    "# Don't worry about understanding these two lines.\n",
    "# They are commands we use to get this notebook to autoreload\n",
    "# so you don't have to rerun your kernel every time you change your homework files.\n",
    "%load_ext autoreload\n",
    "%autoreload 2\n",
    "\n",
    "import sys\n",
    "sys.path.insert(0, '..')\n",
    "from course_utils import Test\n",
    "sys.path.remove('..')\n",
    "\n",
    "from problem_1 import SwiftArray\n",
    "\n",
    "swift_array_examples = [\n",
    "    (str(isinstance(SwiftArray([33]), list)), \"True\"),\n",
    "    (str(isinstance(SwiftArray([33]), SwiftArray)), \"True\"),\n",
    "    (str(SwiftArray([1, 2, 3, 4]).allSatisfy(lambda x: x < 3)), \"False\"),\n",
    "    (str(SwiftArray([1, 2, 3, 4]).allSatisfy(lambda x: type(x) == int)), \"True\"),\n",
    "    (SwiftArray([1, 2, 3, 4]).drop(lambda x: x < 3), [3, 4]),\n",
    "    (SwiftArray([1, 2, -1, 4]).min(), -1),\n",
    "    (SwiftArray(['bb','a','ccc']).min(lambda x, y: len(x) < len(y)), \"a\"),\n",
    "    (SwiftArray([1, 2, 3, 4]).partition(lambda x: x < 2), 3)\n",
    "]\n",
    "\n",
    "Test(examples = swift_array_examples).equivalence()"
   ]
  },
  {
   "cell_type": "markdown",
   "metadata": {},
   "source": [
    "## Problem 2\n",
    "\n",
    "Write a class named `Fraction` that represents a rational number (a number that can be expressed as the quotient of two integers). It is required to implement the following methods:\n",
    "\n",
    "- The `__init__(self, numerator, denominator)` method should accept integer values for the `numerator` and `denominator` arguments and set instance attributes of the same name. If the `denominator` is 0, raise a `ZeroDivisionError` exception. Use the [math.gcd](https://docs.python.org/3/library/math.html#math.gcd) function to find the greatest common divisor (GCD) of the numerator and denominator and then divide each of them by it to \"normalize\" the fraction. For example, the fraction 28/20 will get normalized to 7/5 since the GCD of 28 and 20 is 4:\n",
    "\n",
    "   ```pycon\n",
    "   >>> x = Fraction(28, 20)\n",
    "   >>> x\n",
    "   Fraction(7, 5)\n",
    "   ```\n",
    "- Implement the basic binary operators (`+`, `-`, `*`, `/`) so that a `Fraction` can combined with either another fraction or an integer. All methods should return a new `Fraction`. Note that you may need to implement \"reversed\" operators for arithmetic with integers to fully work.\n",
    "- The `__neg__` method should return a new `Fraction` instance with the numerator negated.\n",
    "- The `__repr__` method should return a string of the form `Fraction(a, b)` where a and b are the numerator and denominator, respectively.\n",
    "- The `__eq__` method should should return a boolean indicating that both the numerator and denominator of any two fractions are identical"
   ]
  },
  {
   "cell_type": "markdown",
   "metadata": {},
   "source": [
    "The below should print `Fraction(5, 6)` and then raise a `ZeroDivisionError`"
   ]
  },
  {
   "cell_type": "code",
   "execution_count": null,
   "metadata": {},
   "outputs": [],
   "source": [
    "from problem_2_3 import Fraction\n",
    "print(Fraction(1, 2) + Fraction(1, 3))\n",
    "Fraction(4, 0)"
   ]
  },
  {
   "cell_type": "markdown",
   "metadata": {},
   "source": [
    "*NOTE*: In order for the test runner to work, the numerator and denominator attribtues must be named `numerator` and `denominator`"
   ]
  },
  {
   "cell_type": "code",
   "execution_count": null,
   "metadata": {},
   "outputs": [],
   "source": [
    "import sys\n",
    "sys.path.insert(0, '..')\n",
    "from course_utils import Test\n",
    "sys.path.remove('..')\n",
    "\n",
    "from  problem_2_3 import Fraction\n",
    "\n",
    "fraction_examples = [\n",
    "    (Fraction(6, 4), Fraction(3, 2)),\n",
    "    (Fraction(1, -2), Fraction(-1, 2)),\n",
    "    ((Fraction(1, 2) + Fraction(1, 3)), Fraction(5, 6)),\n",
    "    ((Fraction(3, 4) - Fraction(1, 8)), Fraction(5, 8)),\n",
    "    ((Fraction(6, 2) * Fraction(4, 3)), Fraction(4, 1)),\n",
    "    ((Fraction(4, 5) / Fraction(3, 1)), Fraction(4, 15)),\n",
    "]\n",
    "\n",
    "Test(examples=fraction_examples).equivalence()"
   ]
  },
  {
   "cell_type": "markdown",
   "metadata": {},
   "source": [
    "## Problem 3\n",
    "\n",
    "Make the arithmetic operations method work for fractions with floats and integers:\n",
    "\n",
    "```\n",
    "__repr__(Frac(1, 2) + 1) = Fraction(3/2)\n",
    "__repr__(1.0 - Frac(1, 2)) = Fraction(1/2)\n",
    "__repr__(Frac(1, 2) * 0.6) = Fraction(3/10)\n",
    "__repr__(0.1 / Frac(1, 2) = Fraction(2/10)\n",
    "```"
   ]
  },
  {
   "cell_type": "code",
   "execution_count": null,
   "metadata": {},
   "outputs": [],
   "source": [
    "import sys\n",
    "sys.path.insert(0, '..')\n",
    "from course_utils import Test\n",
    "sys.path.remove('..')\n",
    "\n",
    "from problem_2_3 import Fraction\n",
    "\n",
    "fraction_examples = [\n",
    "    ((Fraction(1, 2) + 1), Fraction(3, 2)),\n",
    "    ((Fraction(3, 4) - 0.125), Fraction(5, 8)),\n",
    "    ((Fraction(6, 2) * 5), Fraction(15, 1)),\n",
    "    ((Fraction(4, 5) / 0.4), Fraction(2, 1)),\n",
    "    ((0.5 + Fraction(1, 3)), Fraction(5, 6)),\n",
    "    ((1 - Fraction(1, 8)), Fraction(7, 8)),\n",
    "    ((3 * Fraction(4, 3)), Fraction(4, 1)),\n",
    "    ((0.8 / Fraction(3, 1)), Fraction(4, 15)),\n",
    "]\n",
    "\n",
    "Test(examples=fraction_examples).equivalence()"
   ]
  },
  {
   "cell_type": "markdown",
   "metadata": {},
   "source": [
    "## Problem 4\n",
    "\n",
    "In music, the [pitch](https://en.wikipedia.org/wiki/Pitch_(music)) of a note refers to how high or low the note is. For this problem, you will write a `Pitch` class that represents a musical pitch as identified by a musical note name and a number identifying the pitch's octave. It's easiest to think about pitches by looking at a piano. A piano features a repeating group of 12 keys, 7 of which are white and 5 of which are black:\n",
    "\n",
    "<img src=\"https://imgur.com/TrCgpIL.jpg\" width=\"200\">\n",
    "\n",
    "The white keys are ordered as C, D, E, F, G, A, and B. After B comes C in the next repeating group of 12 keys. Some pairs of white keys have a black key in between that is denoted either by a sharp (♯) or a flat (♭). Sharp means \"higher in pitch\", so C♯ is above C. Flat means \"lower in pitch\", so D♭ is below D. That is, we can refer to the black key between C and D as either C♯ or D♭.\n",
    "\n",
    "Since pianos have 88 keys in total, all the notes appear multiple times. In order to refer to a specific key on the piano, it's necessary to say not only the name of the note (e.g., F) but also which group of 12 keys it appears in. One common system for identifying a specific key (or pitch) is called [scientific pitch notation](https://en.wikipedia.org/wiki/Scientific_pitch_notation) (SPN). In SPN, we identify the name of the note along with what *octave* it appears in:\n",
    "\n",
    "<img src=\"https://upload.wikimedia.org/wikipedia/commons/thumb/2/2e/Piano_Frequencies.svg/2560px-Piano_Frequencies.svg.png\" width=700>\n",
    "\n",
    "The note colored in cyan is C in octave 4, so we refer to it as C4; the first note in octave 5 is C5, and so on. Some final terminology: the distance between two adjacent notes (e.g., C and C♯, E and F, G♯ and A, etc.) on a piano is called a *semitone*. Note that two white keys that have a black key in between are not considered adjacent, so C and D are two semitones apart, not one.\n",
    "\n",
    "### Specifications\n",
    "\n",
    "Your `Pitch` class will represent a musical pitch as identified by the note name and what octave it appears in (see picture above). To make the class useful, you are to overload several operators to perform arithmetic operations on it.\n",
    "\n",
    "- The `Pitch` constructor should take a single argument as a string in SPN format, e.g. \"D#2\". For simplicity, notes with a flat are not to be used. The constructor should work whether a lowercase or uppercase note name is used. Passing a string that is not valid should raise a `ValueError`.\n",
    "- After an instance is constructed, it should have two attributes `octave` and `semitone`.\n",
    "  - The `octave` attribute is an `int` that represents which octave the pitch appears in.\n",
    "  - The `semitone` attribute is also an `int` that represents which note within an octave the pitch is. You should assign the value 0 to C, 1 to C#, 2 to D, and so on until you get to 11 for B.\n",
    "- Adding or subtracting an integer, N, to a `Pitch` is to return a new pitch that is N semitones higher or lower, respectively. Augmented addition (`+=`) and subtraction (`-=`) should modify the `Pitch` object in-place.\n",
    "- Subtracting two `Pitch` objects should return the number of semitones separating them as an `int`.\n",
    "- The `frequency()` method should return the [frequency](https://en.wikipedia.org/wiki/Frequency#Sound) of the pitch as a `float` in units of hertz (Hz). To determine the frequency, we can use the fact that A4 (the yellow note on the picture above) has a frequency of exactly 440 Hz. The frequency of any other note can be determined as\n",
    "\n",
    "\n",
    "frequency = 440 * 2 <sup>(semitones between self and A4)/12</sup>\n",
    "\n",
    "  where `x` is the number of semitones separating the note from A4. For example, C5 is three semitones above A4, so its frequency can be determined by substituting 3 for `x` in the equation. Notes that are lower than A4 will have negative values for `x`.\n",
    "- The `from_frequency` method should be a `@classmethod` that takes a single argument, a frequency in Hz as a `float`, and returns the nearest `Pitch`. This allows us to construct a `Pitch` object only knowing the frequency rather than its representation in SPN. This can be done be inverting the equation above to solve for `x`. Since this will give a `float` for `x`, find the nearest integer using the [round](https://docs.python.org/3/library/functions.html#round) built-in function and then return the `Pitch` that is that many semitones away from A4 (since the frequency of A4 is 440 Hz).\n",
    "- Comparing two `Pitch` objects should return the result of comparing their frequencies. All comparison operators (`<`, `<=`, `>`, `>=`, `==`, `!=`) should work for the object. If you'd like you can use the [functools.total_ordering](https://docs.python.org/3/library/functools.html#functools.total_ordering) class decorator which allows you to define only two of the comparison operators and provides your class with the remainder.\n",
    "- Trying to add, subtract, or compare a `Pitch` object with another object that doesn't make sense should raise a `TypeError` exception. This can be achieved through use of the `NotImplemented` singleton.\n",
    "- The `__repr__()` method should return the pitch in SPN as a string.\n",
    "\n",
    "### Note:\n",
    "You should construct your class with a bias first towards having neither sharps nor flats (if a white key) and then towards only using sharps (in music, we might determine this based on the key, but for a pitch in isolation, we need to have rules. As such, while your class must be able to parse `d♭2` or `F♭4`, printing them would yield `C#2` and `E4`, respectively.\n"
   ]
  },
  {
   "cell_type": "markdown",
   "metadata": {},
   "source": [
    "### Error Tests"
   ]
  },
  {
   "cell_type": "code",
   "execution_count": null,
   "metadata": {},
   "outputs": [],
   "source": [
    "import sys\n",
    "sys.path.insert(0, '..')\n",
    "from course_utils import Test\n",
    "sys.path.remove('..')\n",
    "\n",
    "from problem_4 import Pitch\n",
    "\n",
    "pitch_errors = [\n",
    "    (\"Pitch('c$4')\", ValueError),\n",
    "    (\"Pitch('w#4')\", ValueError),\n",
    "    (\"Pitch('C4') + 4.5\", TypeError),\n",
    "    (\"Pitch('C4') - (lambda x: int(x))\", TypeError),\n",
    "    (\"Pitch('C4') > 'C4'\", TypeError),\n",
    "    (\"Pitch('C4') < 'C6'\", TypeError),\n",
    "    (\"Pitch('C4') >= 'A4'\", TypeError),\n",
    "]\n",
    "\n",
    "Test(examples=pitch_errors, test_class=Pitch).pitch_errors()\n"
   ]
  },
  {
   "cell_type": "markdown",
   "metadata": {},
   "source": [
    "### Functional Tests"
   ]
  },
  {
   "cell_type": "code",
   "execution_count": null,
   "metadata": {},
   "outputs": [],
   "source": [
    "import sys\n",
    "sys.path.insert(0, '..')\n",
    "from course_utils import Test\n",
    "sys.path.remove('..')\n",
    "\n",
    "from problem_4 import Pitch\n",
    "\n",
    "pitch_examples = [\n",
    "    (Pitch('c#2').__repr__(), 'C#2'),\n",
    "    (Pitch('G6').octave, 6),\n",
    "    (Pitch('D3').semitone, 2),\n",
    "    (Pitch('A3') + 4, Pitch('C#4')),\n",
    "    (Pitch('C#4') - 5, Pitch('G#3')),\n",
    "    ((Pitch('C7') + 4).semitone, 4),\n",
    "    ((Pitch('C7') + 4).octave, 7),\n",
    "    ((Pitch('C7') - 4).semitone, 8),\n",
    "    ((Pitch('c7') - 4).octave, 6),\n",
    "    (Pitch('c4') - Pitch('C3'), 12),\n",
    "    (Pitch('G#2') - Pitch('F#3'), -10),\n",
    "    (Pitch('A5').frequency(), 880.0),\n",
    "    (Pitch.from_frequency(170), Pitch('F3')),\n",
    "    (str(Pitch('A4') == Pitch('A4')), 'True'),\n",
    "    (str(Pitch('A4') != Pitch('A4')), 'False'),\n",
    "    (str(Pitch('A5') >= Pitch('A4')), 'True'),\n",
    "    (str(Pitch('c#3') < Pitch('A4')), 'True'),\n",
    "    (str(Pitch('A4') <= Pitch('A4')), 'True')\n",
    "]\n",
    "\n",
    "Test(examples=pitch_examples).equivalence()"
   ]
  }
 ],
 "metadata": {
  "kernelspec": {
   "display_name": "Python 3",
   "language": "python",
   "name": "python3"
  },
  "language_info": {
   "codemirror_mode": {
    "name": "ipython",
    "version": 3
   },
   "file_extension": ".py",
   "mimetype": "text/x-python",
   "name": "python",
   "nbconvert_exporter": "python",
   "pygments_lexer": "ipython3",
   "version": "3.9.0"
  }
 },
 "nbformat": 4,
 "nbformat_minor": 4
}
