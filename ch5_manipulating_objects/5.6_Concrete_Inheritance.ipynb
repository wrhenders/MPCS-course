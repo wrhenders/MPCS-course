{
 "cells": [
  {
   "cell_type": "markdown",
   "metadata": {},
   "source": [
    "### [Video Explanation Here!](https://youtu.be/rIMPHZRFEAU)\n",
    "\n",
    "We've discussed inheritance at the introductory level in [this previous video](https://www.youtube.com/watch?v=Ezwlq92BiAw&list=PLwWm3SC4yPMyOOdY0zozd9Cn5kHtticoI&index=13&ab_channel=ChelseaTroy), but now let's talk more in-depth.\n",
    "\n",
    "Suppose we wrote a class to represent a student. \n",
    "\n",
    "A student Python class might contain the information like: \n",
    "  - First name\n",
    "  - Last name\n",
    "  - Enrolled classes\n",
    "\n",
    "Might contain methods to do things like:\n",
    "  \n",
    "  - Get the name (the concatenation the first name and last name)\n",
    "  - Enroll in a class"
   ]
  },
  {
   "cell_type": "code",
   "execution_count": null,
   "metadata": {},
   "outputs": [],
   "source": [
    "from functools import reduce \n",
    "\n",
    "class Student: \n",
    "    \n",
    "    # Class attribute \"unique_id_counter\" is accessible \n",
    "    # to all instances of the Student class \n",
    "    unique_id_counter = 1 \n",
    "    \n",
    "    def __init__(self, first_name, last_name):\n",
    "        \n",
    "        self.first_name = first_name \n",
    "        self.last_name  = last_name \n",
    "        \n",
    "        # This is instance attribute \"id\" represents a student's actual id \n",
    "        self.id = self.unique_id_counter \n",
    "        \n",
    "        # Update the unique_id_counter for the next \"new\" student \n",
    "        Student.unique_id_counter = Student.unique_id_counter + 1  \n",
    "                \n",
    "        # the enrolled_Classes is a list of Course names that the student is currently enrolled in. \n",
    "        self.enrolled_classes = [] \n",
    "\n",
    "    @property\n",
    "    def name(self):\n",
    "        return self.first_name + \" \" + self.last_name \n",
    "            \n",
    "    def enroll (self, course_name):\n",
    "        '''\n",
    "        Attempts to enroll in the specified course. \n",
    "        Returns true if successful, false otherwise \n",
    "        ''' \n",
    "        self.enrolled_classes.append(course_name)"
   ]
  },
  {
   "cell_type": "code",
   "execution_count": null,
   "metadata": {},
   "outputs": [],
   "source": [
    "student1 = Student(\"Charlie\", \"Wilson\")\n",
    "student2 = Student(\"Bob\", \"Johnson\")\n",
    "student3 = Student(\"Pam\", \"Williams\") "
   ]
  },
  {
   "cell_type": "code",
   "execution_count": null,
   "metadata": {},
   "outputs": [],
   "source": [
    "print(student1.id)  # prints 1 \n",
    "print(student2.id)  # prints 2 \n",
    "print(student3.id)  # prints 3 "
   ]
  },
  {
   "cell_type": "markdown",
   "metadata": {},
   "source": [
    "Could we also create classes for other types of people affiliated with \n",
    "the University? How about `Alumni`? \n",
    "\n",
    "An alumn is a former student with many of the same **attributes** as a regular student: \n",
    "\n",
    "- They still have a name.\n",
    "- We still want to remember what classes they enrolled in.\n",
    "- \\*\\***New**\\*\\* We now want to record their year of graduation.\n",
    "- \\*\\***New**\\*\\* We now want to track their employer and job title.\n"
   ]
  },
  {
   "cell_type": "markdown",
   "metadata": {},
   "source": [
    "How about the **methods** associated with an alum? \n",
    "\n",
    "- \\*\\***New**\\*\\* We no longer want to allow them to enroll in courses.\n",
    "- \\*\\***New**\\*\\* We want to be able to calculate how long ago they graduated.\n",
    "- \\*\\***New**\\*\\* We still want to retrieve their name, but they are an alumn(us,a) now,so they get a year after their name (e.g. Alice Smith 1999).\n"
   ]
  },
  {
   "cell_type": "markdown",
   "metadata": {},
   "source": [
    "### How to implement the Alum Class? \n",
    "\n",
    "Should we copy all the code for a Student and paste it into a file called `Alum.py`? After all, we want to keep a lot of it.\n",
    "\n",
    "**Usually, no.** Duplicating code introduces risks:\n",
    "\n",
    " - If there's a mistake in this code, we have to fix it in multiple places. \n",
    " - If we want to add a feature to this code, we have to change it in multiple places. \n",
    " - When other developers are looking at this code, they have to compare the different copies to understand _why_ it's duplocated (i.e., if they are identical, or if they have some subtle difference.)\n",
    " \n",
    "Inheritance is one alternative to copying and pasting code that makes sense in some cases—especially cases where we want to introcude subtle differences in an otherwise identical **concept** (for example, an individual who at some point studied at this school)."
   ]
  },
  {
   "cell_type": "markdown",
   "metadata": {},
   "source": [
    "### Inheritance \n",
    "\n",
    "Inheritance is a relationship between: \n",
    "\n",
    "1. *subclass* (also known as a *child* or *derived class*): This is the new class that will inherit the code (i.e., attributes and methods) of another exisiting class. \n",
    "\n",
    "2. *superclass* (also known as a *parent* or *base class*): This is the pre-existing class that the subclass will inherit its attributes and methods. "
   ]
  },
  {
   "cell_type": "code",
   "execution_count": null,
   "metadata": {},
   "outputs": [],
   "source": [
    "# For example having a new subclass Alum inherit from Student \n",
    "class Alum(Student): \n",
    "    pass "
   ]
  },
  {
   "cell_type": "markdown",
   "metadata": {},
   "source": [
    "#### Benefits of Inheritance: Student and Alum\n",
    "\n",
    "At this point, without writing any additional code:\n",
    "\n",
    "-  Alum has all the same instance variables (i.e., attributes) as a Student\n",
    "-  Alum has the same class variables (i.e., attributes) as Student does\n",
    "-   Alum has the same methods as a Student, and they already work the same way they do for a student (i.e., the implementation is the same)"
   ]
  },
  {
   "cell_type": "markdown",
   "metadata": {},
   "source": [
    "#### Expressing Differences Between Student and Alum \n",
    "\n",
    "What do I write in my class file for Alum?\n",
    "\n",
    "- Additional instance variables and class variables that apply to Alums but not Students \n",
    "- Additional methods that apply to Alums but not Students \n",
    "- Different versions of methods: if there is a method in Student whose behavior is not appropriate for an Alum, then I can override it by providing a new definition.\n",
    "   - Good sign: adding behavior\n",
    "   - Risk sign: unrelated behavior\n",
    "   - Bad sign: removing behavior"
   ]
  },
  {
   "cell_type": "markdown",
   "metadata": {},
   "source": [
    "#### Initiliazing Subclass \n",
    "\n",
    "Inside the ``__init__(...)`` method of our subclass, we can define new attributes specific to instances of the subclass and initalize the attributes we inherited from the superclass. \n",
    "\n",
    "To initilaize the attributes of the superclass we inherited we need to call its ``__init__`` method. We can do so using the following syntax: \n",
    "\n",
    "``super().__init__(initial_arguments)`` \n",
    "\n",
    "We use the ``super()`` function to retrieve the instance of our superclass and then directly call the ``__init__`` with any required positional arguments. \n",
    "\n",
    "  - In general, ``super()`` also allows us to access methods of the superclass.  \n",
    "\n",
    "We can then define any **new** attributes as we normall define attributes using the ``self`` argument; however, these attributes are unique to the subclass instances. \n",
    "\n",
    "We can now update our ``Alum`` class as follows: "
   ]
  },
  {
   "cell_type": "code",
   "execution_count": null,
   "metadata": {},
   "outputs": [],
   "source": [
    "class Alum(Student):\n",
    "\n",
    "    def __init__(self, first_name, last_name, grad_year, emp, job_t):\n",
    "        super().__init__(first_name, last_name) # Initiliaze superclass attributes \n",
    "        self.year = 0  # Reset year since alum is now an active student \n",
    "        self.graduation_year = grad_year # New attribute for Alum instances \n",
    "        self.employer = emp  # New attribute for Alum instances \n",
    "        self.job_title = job_t # New attribute for Alum instances "
   ]
  },
  {
   "cell_type": "code",
   "execution_count": null,
   "metadata": {},
   "outputs": [],
   "source": [
    "alum = Alum(\"Charlie\", \"Wilson\", 2016, \"Mozilla\", \"Software Engineer\")\n",
    "print(alum)"
   ]
  },
  {
   "cell_type": "markdown",
   "metadata": {},
   "source": [
    "#### Inheriting Attributes and Methods \n",
    "\n",
    "What if we want to access attributes from our superclass and our newly created attributes? \n",
    "\n",
    "``print(alum.first_name + \" works at \" + alum.employer)``\n",
    "\n",
    "The object has the field first_name because it is also a ``Student`` (who also happens to be an Alum). The object has the second attribute, ``employer``, because Alum objects also have that attribute, as we just declared"
   ]
  },
  {
   "cell_type": "code",
   "execution_count": null,
   "metadata": {},
   "outputs": [],
   "source": [
    "# We inherit the computed property \"name\" and use the new employer attribute \n",
    "print(alum.first_name + \" works at \" + alum.employer)"
   ]
  },
  {
   "cell_type": "markdown",
   "metadata": {},
   "source": [
    "#### Modifying Behavior \n",
    "\n",
    "It does not make sense for a ``Alum`` to enroll in classes. Since ``Alum`` is a student, it inherits the ``enroll(class_name)`` method. **A subclass can change the implementation of any of the methods it inherits from its superclass**!"
   ]
  },
  {
   "cell_type": "code",
   "execution_count": null,
   "metadata": {},
   "outputs": [],
   "source": [
    "class Alum(Student):\n",
    "\n",
    "    def __init__(self, first_name, last_name, grad_year, emp, job_t):\n",
    "        super().__init__(first_name,last_name) # Initiliaze superclass attributes \n",
    "        self.year = 0  # Reset year since alum is now an active student \n",
    "        self.graduation_year = grad_year # New attribute for Alum instances \n",
    "        self.employer = emp  # New attribute for Alum instances \n",
    "        self.job_title = job_t # New attribute for Alum instances\n",
    "        \n",
    "    def enroll(self, className): \n",
    "        print(\"Sorry, \" + self.first_name + \". Alums are no longer able to take courses\")\n",
    "        return False"
   ]
  },
  {
   "cell_type": "markdown",
   "metadata": {},
   "source": [
    "we have *overridden* the ``Student`` version with a new one. If we have an object a\n",
    "of type ``Alum`` then:"
   ]
  },
  {
   "cell_type": "code",
   "execution_count": null,
   "metadata": {},
   "outputs": [],
   "source": [
    "alum = Alum(\"Charlie\", \"Wilson\", 2016, \"Mozilla\", \"Software Engineer\")"
   ]
  },
  {
   "cell_type": "code",
   "execution_count": null,
   "metadata": {},
   "outputs": [],
   "source": [
    "# Will result in executing the version of the code in Alum, and not \n",
    "# the version in Student.\n",
    "alum.enroll(\"CAPP 30122\")"
   ]
  },
  {
   "cell_type": "markdown",
   "metadata": {},
   "source": [
    "**So here's the problem, though.** We can do this, but what we've done here is _removed_ behavior that we inherited from a supeclass. The point of inheritance is to get behavior for free, not turn behavior off. This kind of pattern ends up being really confusing in the code base because someone writes a system, for example, that enrolls Students using the method on any `Student` class and doesn't realize it's not going to work.\n",
    "\n",
    "You will see engineers do this all over the place. In some languages youre kind of forced to, because single inheritance imposes limitations that make inheritance assumptions pretty risky ([see here for more details](https://chelseatroy.com/2020/11/28/inheritance-in-python/)). If you ever do this, make sure you're doing it because the existing system forces you to do it—not because it didn't occur to you not to do it.\n",
    "\n",
    "The alternative here would be to rework our hierarchy. If `Alums` can't do things that `Students` can, then they aren't the same in the way inheritance suggests they are. So what _is_ the common behavior, and how might we codify that in our inheritance structure?"
   ]
  },
  {
   "cell_type": "code",
   "execution_count": null,
   "metadata": {},
   "outputs": [],
   "source": [
    "class Student: \n",
    "    unique_id_counter = 1 \n",
    "    \n",
    "    def __init__(self, first_name, last_name):\n",
    "        self.first_name = first_name \n",
    "        self.last_name  = last_name         \n",
    "        self.id = self.unique_id_counter         \n",
    "        Student.unique_id_counter = Student.unique_id_counter + 1                  \n",
    "\n",
    "    @property\n",
    "    def name(self):\n",
    "        return self.first_name + \" \" + self.last_name \n",
    "\n",
    "class Alum(Student):\n",
    "    def __init__(self, first_name, last_name, grad_year, emp, job_t):\n",
    "        super().__init__(first_name,last_name) # Initiliaze superclass attributes \n",
    "        self.year = 0  # Reset year since alum is now an active student \n",
    "        self.graduation_year = grad_year # New attribute for Alum instances \n",
    "        self.employer = emp  # New attribute for Alum instances \n",
    "        self.job_title = job_t # New attribute for Alum instances\n",
    "        \n",
    "class Current(Student):\n",
    "    def __init__(self, first_name, last_name, grad_year, emp, job_t):\n",
    "        super().__init__(first_name,last_name) \n",
    "        self.enrolled_classes = [] \n",
    "\n",
    "    def enroll (self, course_name):\n",
    "        '''\n",
    "        Attempts to enroll in the specified course. \n",
    "        Returns tree if successful, false otherwise \n",
    "        ''' \n",
    "        self.enrolled_classes.append(course_name)"
   ]
  },
  {
   "cell_type": "markdown",
   "metadata": {},
   "source": [
    "### Modifying and Retrieving Superclass Behavior\n",
    "\n",
    "Let's write another property: ``name()``. Remember, the version in\n",
    "Student concatenated the first and last names. We still would like to\n",
    "do this, but we'd also like to add the year of graduation to the\n",
    "end. \n",
    "\n",
    "We can use ``super()`` to gain the instance of our superclass and then call specific methods or attributes defined in the superclass. "
   ]
  },
  {
   "cell_type": "code",
   "execution_count": null,
   "metadata": {},
   "outputs": [],
   "source": [
    "@property\n",
    "def name(self):\n",
    "    name = super().name\n",
    "    return f'{name} {self.graduation_year}'"
   ]
  },
  {
   "cell_type": "markdown",
   "metadata": {},
   "source": [
    "#### Defining new Behavior \n",
    "\n",
    "We can define new methods too; we are not limited to only keeping or providing new versions of the methods that were already in Student: "
   ]
  },
  {
   "cell_type": "code",
   "execution_count": null,
   "metadata": {},
   "outputs": [],
   "source": [
    "class Alum(Student):\n",
    "\n",
    "    def __init__(self, first_name, last_name, grad_year, emp, job_t):\n",
    "        super().__init__(first_name,last_name) \n",
    "        self.year = 0 \n",
    "        self.graduation_year = grad_year\n",
    "        self.employer = emp \n",
    "        self.job_title = job_t \n",
    "        \n",
    "    @property\n",
    "    def name(self):\n",
    "        name = super().name  # \"Charlie Wilson\"\n",
    "        return f'{name} {self.graduation_year}'  # Charlie Wilson 2016\n",
    "\n",
    "    #### New method only for alumni ####\n",
    "    def years_since_graduation(self, now):\n",
    "        return now - self.graduation_year"
   ]
  },
  {
   "cell_type": "code",
   "execution_count": null,
   "metadata": {},
   "outputs": [],
   "source": [
    "alum = Alum(\"Charlie\", \"Wilson\", 2016, \"Mozilla\", \"Software Engineer\")\n",
    "print(alum.name)\n",
    "print(alum.years_since_graduation(2021))"
   ]
  },
  {
   "cell_type": "markdown",
   "metadata": {},
   "source": [
    "### The Base Superclass (Object)\n",
    "\n",
    "All classes be default inherit from the base superclass `object`, which is the root of all classes in Python. \n",
    "\n",
    "In Python 3, if no base class is listed, the new class implicitly inherits from object"
   ]
  },
  {
   "cell_type": "code",
   "execution_count": null,
   "metadata": {},
   "outputs": [],
   "source": [
    "class Student: #automatically inherits from the base superclass \"object\" \n",
    "    pass \n",
    "\n",
    "# Sometimes you'll see it written as the following\n",
    "# This equivalent to the above syntax \n",
    "class Student(object): # Explicit version \n",
    "    pass "
   ]
  },
  {
   "cell_type": "markdown",
   "metadata": {},
   "source": [
    "### Method Resolution Order \n",
    "With inheritance, classes create hierarchies of classes, with each subclass implementing more specific attributes and behaviors than its superclasses.\n",
    "\n",
    "- When calling a method, how does Python know to call a subclass or one of the potential superclasses? \n",
    "        - Python walks up the chain of classes to determine the first one that has that method defined. This chain is called the *method resolution order*.\n",
    "        \n",
    "- use `help()` function to look at this hierachy"
   ]
  },
  {
   "cell_type": "code",
   "execution_count": null,
   "metadata": {},
   "outputs": [],
   "source": [
    "help(Alum)"
   ]
  },
  {
   "cell_type": "markdown",
   "metadata": {},
   "source": [
    "#### ``isinstance`` function \n",
    "\n",
    "An object of type ``Alum`` is also a ``Student``. ``Alum`` is just a ``Student`` with\n",
    "additional properties. So, we can use an ``Alum`` wherever we need a\n",
    "``Student``. For instance, we could say"
   ]
  },
  {
   "cell_type": "code",
   "execution_count": null,
   "metadata": {},
   "outputs": [],
   "source": [
    "alum = Alum(\"Charlie\", \"Wilson\", 2016, \"Mozilla\", \"Software Engineer\")\n",
    "student = Student(\"Bob\", \"Jackson\")"
   ]
  },
  {
   "cell_type": "markdown",
   "metadata": {},
   "source": [
    "``isinstance`` function returns True if the object is an instance of the specified Type. It also returns True if object is a subclass of the that type. "
   ]
  },
  {
   "cell_type": "code",
   "execution_count": null,
   "metadata": {},
   "outputs": [],
   "source": [
    "print(isinstance(alum, Student))      # True \n",
    "print(isinstance(alum,Alum))   "
   ]
  },
  {
   "cell_type": "code",
   "execution_count": null,
   "metadata": {},
   "outputs": [],
   "source": [
    "print(isinstance(student,Student))    # True \n",
    "print(isinstance(student,Alum))       # False  "
   ]
  },
  {
   "cell_type": "code",
   "execution_count": null,
   "metadata": {},
   "outputs": [],
   "source": []
  }
 ],
 "metadata": {
  "kernelspec": {
   "display_name": "Python 3",
   "language": "python",
   "name": "python3"
  },
  "language_info": {
   "codemirror_mode": {
    "name": "ipython",
    "version": 3
   },
   "file_extension": ".py",
   "mimetype": "text/x-python",
   "name": "python",
   "nbconvert_exporter": "python",
   "pygments_lexer": "ipython3",
   "version": "3.9.0"
  }
 },
 "nbformat": 4,
 "nbformat_minor": 4
}
