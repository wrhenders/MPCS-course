{
 "cells": [
  {
   "cell_type": "markdown",
   "metadata": {},
   "source": [
    "### [Video Explanation Here!](https://youtu.be/2vG7F2nro24)\n",
    "\n",
    "### Class Attributes and Methods \n",
    "\n",
    "We saw **instance methods** that access and modify the independent data associated with a specific instance: \n"
   ]
  },
  {
   "cell_type": "code",
   "execution_count": null,
   "metadata": {},
   "outputs": [],
   "source": [
    "from datetime import date\n",
    "class Car: \n",
    "    \n",
    "    def __init__(self, make, model, year):\n",
    "        self.make = make \n",
    "        self.model = model \n",
    "        self.year = year\n",
    "        \n",
    "    def compute_age(self):\n",
    "        current_year = int(date.today().year)\n",
    "        return current_year - self.year "
   ]
  },
  {
   "cell_type": "code",
   "execution_count": null,
   "metadata": {},
   "outputs": [],
   "source": [
    "car_1 = Car(\"Honda\", \"Accord\", 2019)"
   ]
  },
  {
   "cell_type": "code",
   "execution_count": null,
   "metadata": {},
   "outputs": [],
   "source": [
    "car_2 = Car(\"Toyota\", \"RAV4\", 2006)"
   ]
  },
  {
   "cell_type": "code",
   "execution_count": null,
   "metadata": {},
   "outputs": [],
   "source": [
    "# make attribute is different for the two instances because their data (i.e. attributes)\n",
    "# are unique to that instance \n",
    "\n",
    "print(f'Car 1 make = {car_1.make}\\nCar 2 make = {car_2.make}') "
   ]
  },
  {
   "cell_type": "markdown",
   "metadata": {},
   "source": [
    "However, what if we wanted to share data between **all** instances of a class? \n",
    "For example, cars have 4 wheels so we may want to define a ``wheels`` that is accessible to all instances that we create for the Car class. \n",
    "\n",
    "A *class attribute* attribute is accessible and modifiable by any instance of a class. Class attributes can be defined anywhere outside the methods within a class.\n",
    "\n",
    "However, normally we place them right before the ``__init__`` method. "
   ]
  },
  {
   "cell_type": "code",
   "execution_count": null,
   "metadata": {},
   "outputs": [],
   "source": [
    "from datetime import date\n",
    "class Car: \n",
    "    #class attribute \n",
    "    wheels = 4\n",
    "    \n",
    "    def __init__(self, make, model, year):\n",
    "        self.make = make \n",
    "        self.model = model \n",
    "        self.year = year\n",
    "        \n",
    "    def compute_age(self):\n",
    "        current_year = int(date.today().year)\n",
    "        return current_year - self.year "
   ]
  },
  {
   "cell_type": "markdown",
   "metadata": {},
   "source": [
    "Only one copy of ``wheels`` attribute is shared with all objects. Any changes made to that variable will be reflected in all other objects. \n",
    "\n",
    "Similiar to instance attributes, we can modify and access class attributes using dot notation on any instance of the class *or* by using the class name dot the attribute name (i.e., ``Class_Name.class_attribute``) "
   ]
  },
  {
   "cell_type": "code",
   "execution_count": null,
   "metadata": {},
   "outputs": [],
   "source": [
    "car_1 = Car(\"Honda\", \"Accord\", 2019)\n",
    "car_2 = Car(\"Toyota\", \"RAV4\", 2006)    "
   ]
  },
  {
   "cell_type": "code",
   "execution_count": null,
   "metadata": {},
   "outputs": [],
   "source": [
    "print(car_1.wheels) # Accessing the class attribute via an instance of the Car class"
   ]
  },
  {
   "cell_type": "code",
   "execution_count": null,
   "metadata": {},
   "outputs": [],
   "source": [
    "print(car_2.wheels) # Accessing the class attribute via an instance of the Car class"
   ]
  },
  {
   "cell_type": "code",
   "execution_count": null,
   "metadata": {},
   "outputs": [],
   "source": [
    "print(Car.wheels) # Accessing the class attribute via using the class name "
   ]
  },
  {
   "cell_type": "code",
   "execution_count": null,
   "metadata": {},
   "outputs": [],
   "source": [
    "# Any modification to the class attribute is reflected via all instances \n",
    "Car.wheels = \"Oops wheels is now a string\""
   ]
  },
  {
   "cell_type": "code",
   "execution_count": null,
   "metadata": {},
   "outputs": [],
   "source": [
    "print(car_1.wheels) # Accessing the class attribute via an instance of the Car class"
   ]
  },
  {
   "cell_type": "code",
   "execution_count": null,
   "metadata": {},
   "outputs": [],
   "source": [
    "print(car_2.wheels) # Accessing the class attribute via an instance of the Car class"
   ]
  },
  {
   "cell_type": "code",
   "execution_count": null,
   "metadata": {},
   "outputs": [],
   "source": [
    "print(Car.wheels) # Accessing the class attribute via using the class name"
   ]
  },
  {
   "cell_type": "markdown",
   "metadata": {},
   "source": [
    "In practice, an attribute like `wheels` doesn't really make sense as a class attribute. If a wheel falls off of one car, that doesn't mean that _none_ of the cars should have 4 wheels! Since all cars can access a class attribute and any car can modify it, it makes sense to use class attributes for something _all_ cars should know and _any_ car could contribute to. For example, a registry:"
   ]
  },
  {
   "cell_type": "code",
   "execution_count": null,
   "metadata": {},
   "outputs": [],
   "source": [
    "from datetime import date\n",
    "class Car: \n",
    "    registry = []\n",
    "    \n",
    "    def __init__(self, make, model, year):\n",
    "        self.make = make \n",
    "        self.model = model \n",
    "        self.year = year\n",
    "        self.__class__.registry.append(self)\n",
    "        \n",
    "    def compute_age(self):\n",
    "        current_year = int(date.today().year)\n",
    "        return current_year - self.year \n",
    "    \n",
    "    def __repr__(self):\n",
    "        return f\"Car(make: {self.make}, model: {self.model}, year: {self.year})\"\n",
    "    \n",
    "    def contemporaries(self):\n",
    "        return [car for car in self.__class__.registry if car is not self and car.year == self.year]"
   ]
  },
  {
   "cell_type": "code",
   "execution_count": null,
   "metadata": {},
   "outputs": [],
   "source": [
    "car_1 = Car(\"Honda\", \"Accord\", 2019)\n",
    "car_2 = Car(\"Toyota\", \"RAV4\", 2006)\n",
    "car_3 = Car(\"Ford\", \"F150\", 2006)"
   ]
  },
  {
   "cell_type": "code",
   "execution_count": null,
   "metadata": {},
   "outputs": [],
   "source": [
    "car_1.contemporaries()"
   ]
  },
  {
   "cell_type": "markdown",
   "metadata": {},
   "source": [
    "### Class methods \n",
    "\n",
    "We can also define *class methods*, which are methods that are accessible to all instances of the class. There are few caveats to class methods: \n",
    "\n",
    "  1. Class methods cannot access the instance attributes of a class. \n",
    "  2. The first argument to the method is not ``self`` but rather ``cls`` by convention. ``cls`` is the class object instead of an instance of the class. \n",
    "  3. You can access class attributes in class methods. \n",
    "\n",
    "For example, lets define a class method that returns a string that indiciates the number of wheels for the car along with a PSI (tire pressure for the car). For example, \n",
    "\n",
    "``Car has 4 wheels with a tire pressure for each wheel = 35 PSI``"
   ]
  },
  {
   "cell_type": "markdown",
   "metadata": {},
   "source": [
    " To define a class method you place the ``@classmethod`` *decorator*  before the ``def`` statement when defining a method. "
   ]
  },
  {
   "cell_type": "code",
   "execution_count": null,
   "metadata": {},
   "outputs": [],
   "source": [
    "from datetime import date\n",
    "\n",
    "class Car: \n",
    "    \n",
    "    # wheels class attribute \n",
    "    wheels = 4\n",
    "    \n",
    "    # tire pressure class attribute  \n",
    "    psi = 35 \n",
    "    \n",
    "    def __init__(self, make, model, year):\n",
    "        self.make = make \n",
    "        self.model = model \n",
    "        self.year = year\n",
    "    \n",
    "    def compute_age(self):\n",
    "        current_year = int(date.today().year)\n",
    "        return current_year - self.year \n",
    "    \n",
    "    @classmethod \n",
    "    def compute_tire_description(cls):\n",
    "        return f'Car has {cls.wheels} with a tire pressure of {Car.psi}' "
   ]
  },
  {
   "cell_type": "markdown",
   "metadata": {},
   "source": [
    "Notice I was able to access the class attributes using the name direclty ``Car.psi`` or by using the class object passed into the function ``cls.wheels``. Similar to the ``def`` statement, when we define a function it assigns the function name to the function object: \n",
    "\n",
    "``function_name = <function object>``\n",
    "\n",
    "This is the same for classes. For example, \n",
    "\n",
    "``Car = <Car class object>`` "
   ]
  },
  {
   "cell_type": "code",
   "execution_count": null,
   "metadata": {},
   "outputs": [],
   "source": [
    "def foo():\n",
    "    return \"example\"\n",
    "\n",
    "print(foo) # foo is just a name that references a function object named foo\n",
    "print(Car) # Car is just a name that references a class object named Car "
   ]
  },
  {
   "cell_type": "code",
   "execution_count": null,
   "metadata": {},
   "outputs": [],
   "source": [
    "car_1 = Car(\"Honda\", \"Accord\", 2019)\n",
    "car_2 = Car(\"Toyota\", \"RAV4\", 2006) \n",
    "\n",
    "print(car_1.compute_tire_description())\n",
    "print(car_2.compute_tire_description())"
   ]
  },
  {
   "cell_type": "code",
   "execution_count": null,
   "metadata": {},
   "outputs": [],
   "source": [
    "print(Car.compute_tire_description())"
   ]
  },
  {
   "cell_type": "markdown",
   "metadata": {},
   "source": [
    "We can also access class attributes and methods from inside instance methods by using the class name to access them. "
   ]
  },
  {
   "cell_type": "code",
   "execution_count": null,
   "metadata": {},
   "outputs": [],
   "source": [
    "from datetime import date\n",
    "class Car: \n",
    "    \n",
    "    # wheels class attribute \n",
    "    wheels = 4\n",
    "    \n",
    "    # tire pressure amount \n",
    "    psi = 35 \n",
    "    \n",
    "    def __init__(self, make, model, year):\n",
    "        self.make = make \n",
    "        self.model = model \n",
    "        self.year = year\n",
    "    \n",
    "    def compute_age(self):\n",
    "        current_year = int(date.today().year)\n",
    "        return current_year - self.year \n",
    "    \n",
    "    @classmethod \n",
    "    def compute_tire_description(cls):\n",
    "        return f'Car has {cls.wheels} wheels, each with a tire pressure of {Car.psi}' \n",
    "\n",
    "    def __repr__(self): \n",
    "        instance_str =   f'Car(make={self.make}, model={self.model}, year={self.year}, '\n",
    "        instance_str = instance_str + f'wheels = {Car.wheels}, ' + Car.compute_tire_description()\n",
    "        return instance_str + ')'"
   ]
  },
  {
   "cell_type": "code",
   "execution_count": null,
   "metadata": {},
   "outputs": [],
   "source": [
    "car_1 = Car(\"Honda\", \"Accord\", 2019)\n",
    "car_2 = Car(\"Toyota\", \"RAV4\", 2006) \n",
    "print(car_1)\n",
    "print(car_2)"
   ]
  },
  {
   "cell_type": "markdown",
   "metadata": {},
   "source": [
    "### Multiple Constructors \n",
    "\n",
    "One reason to define class methods is to be able to define different ways to initialize an instance. Since there can only be **one** initializer in a class (i.e., ``__init__`` method) we cannot provide different ways to initialize an object (unlike in, say, Java or Swift). \n",
    "\n",
    "For example, we can use a class method to convert strings with ``Car`` data (e.g., maybe coming from a CSV file) that we want to turn into ``Car`` instances. \n",
    "\n",
    "``car1str = 'Tesla,Model3,1920'``  \n",
    "\n",
    "``car2str = 'Ford,Mustang,2020'``\n",
    "\n",
    "``car3str = 'Hyundai,Sonata,2007'``\n"
   ]
  },
  {
   "cell_type": "code",
   "execution_count": null,
   "metadata": {},
   "outputs": [],
   "source": [
    "from datetime import date\n",
    "class Car: \n",
    "    \n",
    "    def __init__(self, make, model, year):\n",
    "        self.make = make \n",
    "        self.model = model \n",
    "        self.year = year\n",
    "    \n",
    "    @classmethod \n",
    "    def from_string(cls, string):\n",
    "        make, model, year = string.split(\",\")\n",
    "        return cls(make, model, year)  # Car(make, model, year)\n",
    "    \n",
    "    def __repr__(self): \n",
    "        return f'Car(make={self.make}, model={self.model}, year={self.year})'\n"
   ]
  },
  {
   "cell_type": "code",
   "execution_count": null,
   "metadata": {},
   "outputs": [],
   "source": [
    "# Now we can use this alternative constructor to create a Car instance \n",
    "car_3 = Car.from_string('Tesla,Model3,1920')\n",
    "car_4 = Car.from_string('Ford,Mustang,2020')\n",
    "car_5 = Car.from_string('Hyundai,Sonata,2007')"
   ]
  },
  {
   "cell_type": "code",
   "execution_count": null,
   "metadata": {},
   "outputs": [],
   "source": [
    "print(car_3)"
   ]
  },
  {
   "cell_type": "code",
   "execution_count": null,
   "metadata": {},
   "outputs": [],
   "source": [
    "print(car_4)"
   ]
  },
  {
   "cell_type": "code",
   "execution_count": null,
   "metadata": {},
   "outputs": [],
   "source": [
    "print(car_5)"
   ]
  },
  {
   "cell_type": "markdown",
   "metadata": {},
   "source": [
    "Various classes defined in the standard library use class methods to define “alternate” constructors:\n",
    "\n",
    " - ``int.from_bytes()``\n",
    " - ``float.fromhex()`` \n",
    " - ``datetime.date.fromtimestamp()``\n",
    " - ``itertools.chain.from_iterable()``\n",
    " - ``inspect.Signature.from_callable()``"
   ]
  },
  {
   "cell_type": "code",
   "execution_count": null,
   "metadata": {},
   "outputs": [],
   "source": []
  }
 ],
 "metadata": {
  "kernelspec": {
   "display_name": "Python 3",
   "language": "python",
   "name": "python3"
  },
  "language_info": {
   "codemirror_mode": {
    "name": "ipython",
    "version": 3
   },
   "file_extension": ".py",
   "mimetype": "text/x-python",
   "name": "python",
   "nbconvert_exporter": "python",
   "pygments_lexer": "ipython3",
   "version": "3.9.0"
  }
 },
 "nbformat": 4,
 "nbformat_minor": 4
}
