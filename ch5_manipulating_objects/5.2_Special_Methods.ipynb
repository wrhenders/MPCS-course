{
 "cells": [
  {
   "cell_type": "markdown",
   "metadata": {},
   "source": [
    "### [Video Explanation Here!](https://youtu.be/_12lkx9gF4s)\n",
    "\n",
    "### What comes with a class?\n",
    "\n",
    "We can design a class in Python with any kind of blueprint we like, but even before we add our custom behavior, we get some things out of the box. Let's take a look:"
   ]
  },
  {
   "cell_type": "code",
   "execution_count": null,
   "metadata": {},
   "outputs": [],
   "source": [
    "class Car:\n",
    "    pass\n",
    "\n",
    "dir(Car)"
   ]
  },
  {
   "cell_type": "markdown",
   "metadata": {},
   "source": [
    "The `dir` function in Python allows us to see what functions and attributes a class has. This brand new class has a whole bunch of them! Do you notice any similarities between all these?\n",
    "\n",
    "They all begin and end with a double underscore. These are a type of special method in Python called a **double underscore** method, or a **dunder method** for short."
   ]
  },
  {
   "cell_type": "markdown",
   "metadata": {},
   "source": [
    "### Dunder Methods\n",
    "\n",
    "Dunder methods (also known as special methods) allows us to define methods that make our user-defined types behave like the built-in types. For example, printing out the contents within an object is easily done with ``str``, ``list``, ``dict`` and many other built-in types. "
   ]
  },
  {
   "cell_type": "code",
   "execution_count": null,
   "metadata": {},
   "outputs": [],
   "source": [
    "print([1,2,3,5])"
   ]
  },
  {
   "cell_type": "code",
   "execution_count": null,
   "metadata": {},
   "outputs": [],
   "source": [
    "print(\"This is a string\")"
   ]
  },
  {
   "cell_type": "markdown",
   "metadata": {},
   "source": [
    "However, with our current implementation of the ``Car`` method, we do not see our atttributes."
   ]
  },
  {
   "cell_type": "code",
   "execution_count": null,
   "metadata": {},
   "outputs": [],
   "source": [
    "car = Car()"
   ]
  },
  {
   "cell_type": "code",
   "execution_count": null,
   "metadata": {},
   "outputs": [],
   "source": [
    "print(car)"
   ]
  },
  {
   "cell_type": "markdown",
   "metadata": {},
   "source": [
    "This is the default *string representation* of the object.  ``print(car)``, for some objects, prints out the address of where the object lives within memory and not the its actual contents. \n",
    "\n",
    "\n",
    "We can override this behaviour by adding a ``__repr__`` method. This method returns a string that will be used anytime we need to print our new data types internal contents. \n",
    "\n",
    "**Note**: there is also another string representation method called ``__str__``. The differences between the two are subtle; however, we will go over them when we go over dunder methods in more detail later.\n",
    "\n",
    "Now, lets add the ``__repr__`` method to our ``Car`` class. "
   ]
  },
  {
   "cell_type": "code",
   "execution_count": null,
   "metadata": {},
   "outputs": [],
   "source": [
    "class Car: \n",
    "    def __init__(self, make, model, year):\n",
    "        self.__make = make \n",
    "        self.__model = model \n",
    "        self.__year = year\n",
    "        \n",
    "    def __repr__(self): \n",
    "        return f'Car(make={self.__make}, model={self.__model}, year={self.__year})'"
   ]
  },
  {
   "cell_type": "code",
   "execution_count": null,
   "metadata": {},
   "outputs": [],
   "source": [
    "# Now we are able to see a better string representation for Car objects \n",
    "car = Car(\"Honda\",\"Accord\", 2019)\n",
    "print(car)"
   ]
  },
  {
   "cell_type": "markdown",
   "metadata": {},
   "source": [
    "There is also a dunder that allows us to check equality between two objects (i.e., using the ``==`` operator). By default, Python checks whether objects refer to the same memory locations in memory but not if there internal data is the same."
   ]
  },
  {
   "cell_type": "code",
   "execution_count": null,
   "metadata": {},
   "outputs": [],
   "source": [
    "car_1 = Car(\"Honda\",\"Accord\", 2019)\n",
    "car_2 = Car(\"Honda\",\"Accord\", 2019)\n",
    "\n",
    "#False, because although their internal data is the same they are two completely different \n",
    "# objects in memory. \n",
    "print(car_1 == car_2)"
   ]
  },
  {
   "cell_type": "markdown",
   "metadata": {},
   "source": [
    "However, we can implement an ``__eq__`` method to define how Python should interpret the ``==`` operator."
   ]
  },
  {
   "cell_type": "code",
   "execution_count": null,
   "metadata": {},
   "outputs": [],
   "source": [
    "class Car: \n",
    "    def __init__(self, make, model, year):\n",
    "        self.__make = make \n",
    "        self.__model = model \n",
    "        self.__year = year\n",
    "    \n",
    "    def __eq__(self, other): \n",
    "        return self.__make == other.__make \\\n",
    "        and self.__model == other.__model \\\n",
    "        and self.__year == other.__year\n",
    "    \n",
    "    def __repr__(self): \n",
    "        return f'Car(make={self.__make}, model={self.__model}, year={self.__year})'"
   ]
  },
  {
   "cell_type": "code",
   "execution_count": null,
   "metadata": {},
   "outputs": [],
   "source": [
    "# Before defining equal \n",
    "car_1 = Car(\"Honda\",\"Accord\", 2019)\n",
    "car_2 = Car(\"Honda\",\"Accord\", 2019)\n",
    "\n",
    "#True, because we have implement the \"__eq__\" method which overrides the default implementation \n",
    "# and now we are checking the internal data, which is the same. \n",
    "print(car_1 == car_2)"
   ]
  },
  {
   "cell_type": "markdown",
   "metadata": {},
   "source": [
    "### Operator Overloading \n",
    "\n",
    "So as you can see, Python allows classes their own implementations for predefined Python operators. We call this **operator overloading**."
   ]
  },
  {
   "cell_type": "markdown",
   "metadata": {},
   "source": [
    "#### Motivating Example \n",
    "\n",
    "To demonstrate operator overloading, we'll implement a sequence type seen in other languages known as a *static array*:\n",
    "\n",
    "- A static array is a sequence type where there is a fixed capacity to number of items the collection can hold.\n",
    "\n",
    "- Resizing of the array is not allowed after initialization. \n",
    "\n",
    "- We will define a class ``StaticArray`` that will allow use to use built-in python operators.\n",
    "\n",
    "It'll work like so:\n",
    "\n",
    "```\n",
    ">>> s_array = StaticArray([1,2,3])\n",
    ">>> print(s_array * 2) \n",
    "(cap = 10, items = [1, 2, 3, None, None, 1, 2, 3, None, None])\n",
    "\n",
    ">>> print(s_array[1]) \n",
    " 2     \n",
    "```"
   ]
  },
  {
   "cell_type": "markdown",
   "metadata": {},
   "source": [
    "Lets now take a look at the ``__init__`` method for ``Static Array``:"
   ]
  },
  {
   "cell_type": "code",
   "execution_count": null,
   "metadata": {},
   "outputs": [],
   "source": [
    "class StaticArray:\n",
    "\n",
    "    def __init__(self, initial_value = [None], capacity = 5):\n",
    "        self.capacity = capacity\n",
    "\n",
    "        if len(initial_value) > capacity:\n",
    "            raise Exception(\"That's too many values for this list!\")\n",
    "        else: \n",
    "            self.items = list(initial_value)\n",
    "            [self.items.append(None) for leftover_slot in range(capacity - len(initial_value))]\n"
   ]
  },
  {
   "cell_type": "code",
   "execution_count": null,
   "metadata": {},
   "outputs": [],
   "source": [
    "s_array = StaticArray([1,2,3])"
   ]
  },
  {
   "cell_type": "code",
   "execution_count": null,
   "metadata": {},
   "outputs": [],
   "source": [
    "#Printing doesn't provide use any useful information about the object.\n",
    "# Lets fix that now. \n",
    "print(s_array)"
   ]
  },
  {
   "cell_type": "markdown",
   "metadata": {},
   "source": [
    "#### String Representations \n",
    "\n",
    "There are two functions for getting a string representation of an object:\n",
    "    \n",
    "1. `repr()` - Used to specify an unambiguous string representation of an instance. Mostly used for debugging and development. **Note**: the interpreter in the REPL calls the `__repr__` function when executing a variable that holds an object. \n",
    "    \n",
    "2. `str()` - Used to specify a handy, readable string representation of an instance. Mostly used for creating output for end users. **Note**: ``print`` calls the `__str__` implementation. \n",
    "    \n",
    "As we seen previously, we just need to define ``__repr__`` and ``__str__`` methods to provide string representations for our classes. \n",
    "\n",
    "**Note**: ``__str__`` defaults to ``__repr__`` when not present. \n",
    "\n",
    "In the remainder of the examples for this piece, I will _inherit_ in each `StaticArray` implementation from the previous one, so we don't have to keep copying and pasting the initializer and all the previous code we wrote. Since you're familiar with inheritance now, you know how this works—each class will also have all of the behavior of the class it is inheriting from, and all the classes _that_ class inherits from!"
   ]
  },
  {
   "cell_type": "code",
   "execution_count": null,
   "metadata": {},
   "outputs": [],
   "source": [
    "class StaticArray2(StaticArray):\n",
    "    \n",
    "    #### String Representations \n",
    "    def __repr__(self):\n",
    "        return f'(cap = {self.capacity}, items = {self.items})'\n",
    "    \n",
    "    def __str__(self):\n",
    "        # Printing it in just list form is more user friendly. \n",
    "        return f'{self.items}'"
   ]
  },
  {
   "cell_type": "code",
   "execution_count": null,
   "metadata": {},
   "outputs": [],
   "source": [
    "s_array = StaticArray2([1,2,3])"
   ]
  },
  {
   "cell_type": "code",
   "execution_count": null,
   "metadata": {},
   "outputs": [],
   "source": [
    "s_array  # Calling the _repr_ implementation"
   ]
  },
  {
   "cell_type": "code",
   "execution_count": null,
   "metadata": {},
   "outputs": [],
   "source": [
    "print(s_array) # Calling the __str__ implementation"
   ]
  },
  {
   "cell_type": "markdown",
   "metadata": {},
   "source": [
    "#### Emulating Collections/Sequences \n",
    "\n",
    "**What makes an object a collection**? \n",
    "\n",
    "- Can take its length: ``len(obj)``\n",
    "- Can query meembership: ``x in obj``\n",
    "- Can iterate over it: ``for x in obj`` \n",
    "\n",
    "**What makes an object a sequence**?\n",
    "\n",
    "- Everything a collection can do \n",
    "- Can index it: ``obj[i]``\n"
   ]
  },
  {
   "cell_type": "markdown",
   "metadata": {},
   "source": [
    "#### Collections and Sequences \n",
    "\n",
    "| You Write...   | Python calls...          |\n",
    "| ---            | ---                      |\n",
    "| ``len(obj)``   | ``obj.__len__()``        |\n",
    "| ``x in obj``   | ``obj.__contains__(x)``  |\n",
    "| ``obj[i]``     | ``obj.__getitem__(i)``   |\n",
    "| ``obj[i] = x`` | ``obj.__setitem__(i,x)`` |\n",
    "| ``del obj[i]`` | ``obj.__delitem__(i)``   |"
   ]
  },
  {
   "cell_type": "code",
   "execution_count": null,
   "metadata": {},
   "outputs": [],
   "source": [
    "from collections.abc import Iterable\n",
    "\n",
    "class StaticArray3(StaticArray2):\n",
    "\n",
    "    ############################################\n",
    "    #### Sequence Operartions implementation ###\n",
    "    def __len__(self):\n",
    "        return self.capacity \n",
    "    \n",
    "    def __contains__(self, x):\n",
    "        return x in self.items \n",
    "    \n",
    "    def __getitem__(self, i):\n",
    "        if i >= self.capacity or i < -self.capacity:\n",
    "            raise IndexError # an Invalid index\n",
    "        return self.items[i]\n",
    "    \n",
    "    def __setitem__(self, i, x):\n",
    "        if i >= self.capacity or i < -self.capacity:\n",
    "            raise IndexError # an Invalid index\n",
    "        self.items[i] = x \n",
    "        \n",
    "    def __delitem__(self,i):\n",
    "        raise NotImplementedError(\"Cannot delete from a static array\")"
   ]
  },
  {
   "cell_type": "code",
   "execution_count": null,
   "metadata": {},
   "outputs": [],
   "source": [
    "s_array = StaticArray3([1,'hi',True])"
   ]
  },
  {
   "cell_type": "code",
   "execution_count": null,
   "metadata": {},
   "outputs": [],
   "source": [
    "len(s_array)"
   ]
  },
  {
   "cell_type": "code",
   "execution_count": null,
   "metadata": {},
   "outputs": [],
   "source": [
    "34 in s_array"
   ]
  },
  {
   "cell_type": "code",
   "execution_count": null,
   "metadata": {},
   "outputs": [],
   "source": [
    "'hi' in s_array"
   ]
  },
  {
   "cell_type": "code",
   "execution_count": null,
   "metadata": {},
   "outputs": [],
   "source": [
    "s_array[1]"
   ]
  },
  {
   "cell_type": "code",
   "execution_count": null,
   "metadata": {},
   "outputs": [],
   "source": [
    "s_array[32]"
   ]
  },
  {
   "cell_type": "code",
   "execution_count": null,
   "metadata": {},
   "outputs": [],
   "source": [
    "del s_array[1]"
   ]
  },
  {
   "cell_type": "markdown",
   "metadata": {},
   "source": [
    "### Iterating Over Sequence \n",
    "\n",
    "Python requires very little to get iteration working. If ``__getitem__(i)`` is present then the interpreter will try to index the object sequentially until ``IndexError`` is rasied. \n"
   ]
  },
  {
   "cell_type": "code",
   "execution_count": null,
   "metadata": {},
   "outputs": [],
   "source": [
    "s_array = StaticArray3([1,'hi',True])"
   ]
  },
  {
   "cell_type": "code",
   "execution_count": null,
   "metadata": {},
   "outputs": [],
   "source": [
    "# We can do this because we have defined __getitem__\n",
    "for x in s_array:\n",
    "    print(x)"
   ]
  },
  {
   "cell_type": "markdown",
   "metadata": {},
   "source": [
    " However, sequences are not the only things that are iterable. We've seen many examples of things that are iterable: \n",
    " \n",
    " - Lists, sets, dictionaries \n",
    " - ``dict.keys()``, ``dict.values()``\n",
    " - ``map(...)``, ``filter(...)`` \n",
    " - Generators \n",
    "\n",
    "**What makes an object iterable**? \n",
    "\n",
    "- Any object that implements ``__iter__()`` is iterable"
   ]
  },
  {
   "cell_type": "code",
   "execution_count": null,
   "metadata": {},
   "outputs": [],
   "source": [
    "# the following code: \n",
    "for item in s_array: \n",
    "    print(item)\n",
    "    \n",
    "### is equivalent to \n",
    "it = iter(s_array)            # obj.__iter__()\n",
    "while True:\n",
    "    try:\n",
    "        item = next(it)   # it.__next__()\n",
    "        print(item)\n",
    "    except StopIteration:\n",
    "        del it\n",
    "        break"
   ]
  },
  {
   "cell_type": "markdown",
   "metadata": {},
   "source": [
    "### Iterable vs. Iterator (Review) \n",
    "\n",
    "There is a difference between an *iterable* and *iterator*:\n",
    "\n",
    "- Instances of a class can be ``iterable`` objects if the class defines an ``__iter__`` method, which returns an iterator. \n",
    "\n",
    "- A class can be an iterator if it: \n",
    "    - Defines a ``__next__()`` method, which returns successive values in the iterable \n",
    "        - Raises a ``StopIteration`` when no values remain.  \n",
    "    - Defines a ``__iter__()`` method, which returns self. \n",
    "\n",
    "For example, a generator is both an iterator and interable but list is only an iterable: "
   ]
  },
  {
   "cell_type": "code",
   "execution_count": null,
   "metadata": {},
   "outputs": [],
   "source": [
    "from collections.abc import Iterable, Iterator"
   ]
  },
  {
   "cell_type": "code",
   "execution_count": null,
   "metadata": {},
   "outputs": [],
   "source": [
    "g = (2**x for x in range(10))\n",
    "print(isinstance(g, Iterable))\n",
    "print(isinstance(g, Iterator))"
   ]
  },
  {
   "cell_type": "code",
   "execution_count": null,
   "metadata": {},
   "outputs": [],
   "source": [
    "l = [1,2,3]\n",
    "print(isinstance(l,Iterable))\n",
    "print(isinstance(l,Iterator))"
   ]
  },
  {
   "cell_type": "markdown",
   "metadata": {},
   "source": [
    "### Iteration Advice \n",
    "\n",
    "1. Do not implement the ``__next__()`` in a class that should only be an iterable. \n",
    "2. In order to support multiple traversals, the iterator must be a seperate object. \n",
    "3. A common design pattern is to delegate iteration from an iterable to a separate class that is an iterator.\n",
    "\n",
    "For example, you could define a ``StaticArrayIterator`` class that iterates through the objects within an ``StaticArray`` object. "
   ]
  },
  {
   "cell_type": "code",
   "execution_count": null,
   "metadata": {},
   "outputs": [],
   "source": [
    "class StaticArrayIterator:\n",
    "    def __init__(self,values):\n",
    "        self.values = values \n",
    "        self.position = 0 \n",
    "        \n",
    "    def __iter__(self):\n",
    "        return self\n",
    "    \n",
    "    def __next__(self):\n",
    "        if self.position >= len(self.values):\n",
    "            raise StopIteration\n",
    "        item = self.values[self.position]\n",
    "        self.position += 1\n",
    "        return item"
   ]
  },
  {
   "cell_type": "markdown",
   "metadata": {},
   "source": [
    "Now we can make the ``StaticArray`` delegate the iteration to the ``StaticArrayIterator``"
   ]
  },
  {
   "cell_type": "code",
   "execution_count": null,
   "metadata": {},
   "outputs": [],
   "source": [
    "class StaticArray4(StaticArray3):\n",
    "\n",
    "    ###########################################\n",
    "    ########### Iterable definition ###########\n",
    "    def __iter__(self):\n",
    "        return StaticArrayIterator(self.items[:])"
   ]
  },
  {
   "cell_type": "markdown",
   "metadata": {},
   "source": [
    "We can use an iteration context (e.g., ``for``) to iterate through the components of the ``StaticArray``:"
   ]
  },
  {
   "cell_type": "code",
   "execution_count": null,
   "metadata": {},
   "outputs": [],
   "source": [
    "s_array = StaticArray4(['a','b','c'],10)"
   ]
  },
  {
   "cell_type": "code",
   "execution_count": null,
   "metadata": {},
   "outputs": [],
   "source": [
    "for x in s_array:\n",
    "    print(x)"
   ]
  },
  {
   "cell_type": "markdown",
   "metadata": {},
   "source": [
    "### Emulating numeric operators \n",
    "\n",
    "\n",
    "| You Write...   | Python calls...          |\n",
    "| ---            | ---                      |\n",
    "| ``x + y``   | ``x.__add__(y)``        |\n",
    "| ``x - y``   | ``x.__sub__(y)``  |\n",
    "| ``x * y``     | ``x.__mul__(y)``   |\n",
    "| ``x / y`` | ``x.__truediv__(y)`` |\n",
    "| ``x // y`` | ``x.__floordiv__(y)``   |\n",
    "| ``x ** y`` | ``x.__pow__(y)``   |\n",
    "| ``x @ y`` | ``x.__matmul__(y)``   |"
   ]
  },
  {
   "cell_type": "markdown",
   "metadata": {},
   "source": [
    "Binary operators often require more than one special method:"
   ]
  },
  {
   "cell_type": "code",
   "execution_count": null,
   "metadata": {},
   "outputs": [],
   "source": [
    "class StaticArray5(StaticArray4):\n",
    "\n",
    "    ##################################\n",
    "    ###### mul numeric operator ######\n",
    "    def __mul__(self, other):\n",
    "        t = self.items * other \n",
    "        return StaticArray5(t, len(t))"
   ]
  },
  {
   "cell_type": "code",
   "execution_count": null,
   "metadata": {},
   "outputs": [],
   "source": [
    "s_array = StaticArray5([1,2,3])\n",
    "s_array"
   ]
  },
  {
   "cell_type": "code",
   "execution_count": null,
   "metadata": {},
   "outputs": [],
   "source": [
    "s_array * 2"
   ]
  },
  {
   "cell_type": "code",
   "execution_count": null,
   "metadata": {},
   "outputs": [],
   "source": [
    "2 * s_array"
   ]
  },
  {
   "cell_type": "markdown",
   "metadata": {},
   "source": [
    "#### Operand Order \n",
    "\n",
    "  ![alt text](../images/reverse_operators.png )"
   ]
  },
  {
   "cell_type": "code",
   "execution_count": null,
   "metadata": {},
   "outputs": [],
   "source": [
    "class StaticArray6(StaticArray5): \n",
    "    \n",
    "    ###############################\n",
    "    ##### Augmented add method ####\n",
    "    \n",
    "    def __mul__(self, other):\n",
    "        t = self.items * other \n",
    "        return StaticArray6(t, len(t))\n",
    "    \n",
    "    __rmul__ = __mul__"
   ]
  },
  {
   "cell_type": "code",
   "execution_count": null,
   "metadata": {},
   "outputs": [],
   "source": [
    "s_array = StaticArray6([1,2,3])"
   ]
  },
  {
   "cell_type": "code",
   "execution_count": null,
   "metadata": {},
   "outputs": [],
   "source": [
    "s_array * 2 # Calls  the __mul__ method"
   ]
  },
  {
   "cell_type": "code",
   "execution_count": null,
   "metadata": {},
   "outputs": [],
   "source": [
    "2 * s_array # Calls the __rmul___ method"
   ]
  },
  {
   "cell_type": "code",
   "execution_count": null,
   "metadata": {},
   "outputs": [],
   "source": [
    "s_array"
   ]
  },
  {
   "cell_type": "markdown",
   "metadata": {},
   "source": [
    "#### Augmented (in-place) assignment operators \n",
    "\n",
    "\n",
    "| You Write...   | Python calls...          |\n",
    "| ---            | ---                      |\n",
    "| ``x += y``   | ``x.__iadd__(y)``        |\n",
    "| ``x -= y``   | ``x.__isub__(y)``  |\n",
    "| ``x *= y``     | ``x.__imul__(y)``   |\n",
    "| ``x /= y`` | ``x.__itruediv__(y)`` |\n",
    "| ``x //= y`` | ``x.__ifloordiv__(y)``   |\n",
    "| ``x **= y`` | ``x.__ipow__(y)``   |\n",
    "| ``x @= y`` | ``x.__imatmul__(y)``   |"
   ]
  },
  {
   "cell_type": "code",
   "execution_count": null,
   "metadata": {},
   "outputs": [],
   "source": [
    "class StaticArray7(StaticArray6):\n",
    "    \n",
    "    #############################\n",
    "    ##### Augmented methods ###\n",
    "    def __imul__(self, other):\n",
    "        return self.__mul__(other)"
   ]
  },
  {
   "cell_type": "code",
   "execution_count": null,
   "metadata": {},
   "outputs": [],
   "source": [
    "s_array = StaticArray7([1,2,3])"
   ]
  },
  {
   "cell_type": "code",
   "execution_count": null,
   "metadata": {},
   "outputs": [],
   "source": [
    "s_array"
   ]
  },
  {
   "cell_type": "code",
   "execution_count": null,
   "metadata": {},
   "outputs": [],
   "source": [
    "s_array *= 2"
   ]
  },
  {
   "cell_type": "code",
   "execution_count": null,
   "metadata": {},
   "outputs": [],
   "source": [
    "s_array"
   ]
  },
  {
   "cell_type": "markdown",
   "metadata": {},
   "source": [
    "#### Rich Comparison\n",
    "\n",
    "- Python allows you to also overload comparison operators:\n",
    "   - ``==``, ``!=``, ``>``, ``>=``, ``<``, and ``<=``\n",
    "   \n",
    "  \n",
    "  | You Write...   | Python calls...          |\n",
    "| ---            | ---                      |\n",
    "| ``x == y``   | ``x.__eq__(y)``        |\n",
    "| ``x != y``   | ``x.__ne__(y)``  |\n",
    "| ``x < y``     | ``x.__lt__(y)``   |\n",
    "| ``x > y`` | ``x.__gt__(y)`` |\n",
    "| ``x <= y`` | ``x.__le__(y)``   |\n",
    "| ``x >= y`` | ``x.__ge__(y)``   |\n"
   ]
  },
  {
   "cell_type": "markdown",
   "metadata": {},
   "source": [
    "### Equality fallback \n",
    "\n",
    "**What happends when the interpreter encounters x == y?**\n",
    "\n",
    "1. Try ``x.__eq__(y)``\n",
    "2. If Step #1 fails then Try ``y.__eq__(x)``\n",
    "3. If ``__eq__()`` is not defined for either, \n",
    "    ``return id(x) == id(y)```"
   ]
  },
  {
   "cell_type": "code",
   "execution_count": null,
   "metadata": {},
   "outputs": [],
   "source": [
    "class StaticArray8(StaticArray7):\n",
    "    \n",
    "    #############################\n",
    "    ### eq method implementation ###\n",
    "    def __eq__(self, other):\n",
    "        if isinstance(other, StaticArray8):\n",
    "            return self.capacity == other.capacity \\\n",
    "            and self.items == other.items\n",
    "        return False"
   ]
  },
  {
   "cell_type": "code",
   "execution_count": null,
   "metadata": {},
   "outputs": [],
   "source": [
    "s_array = StaticArray8([3, 2, 1])"
   ]
  },
  {
   "cell_type": "code",
   "execution_count": null,
   "metadata": {},
   "outputs": [],
   "source": [
    "s_array2 = StaticArray8([3, 2, 1])"
   ]
  },
  {
   "cell_type": "code",
   "execution_count": null,
   "metadata": {},
   "outputs": [],
   "source": [
    "s_array3 = StaticArray8([1, 2, 3])"
   ]
  },
  {
   "cell_type": "code",
   "execution_count": null,
   "metadata": {},
   "outputs": [],
   "source": [
    "s_array == s_array2"
   ]
  },
  {
   "cell_type": "code",
   "execution_count": null,
   "metadata": {},
   "outputs": [],
   "source": [
    "s_array == s_array3"
   ]
  },
  {
   "cell_type": "markdown",
   "metadata": {},
   "source": [
    "### Callable Objects\n",
    "\n",
    "Instances of classes can be made callable themselves. For example, a class representing a sum of multiple functions. \n",
    "\n",
    "You just need to define ``__call__(...)`` method. This can take in N arguments that you can use in its definition. "
   ]
  },
  {
   "cell_type": "code",
   "execution_count": null,
   "metadata": {},
   "outputs": [],
   "source": [
    "import math\n",
    "\n",
    "class SumFuncs:\n",
    "    \n",
    "    def __init__(self, funcs):\n",
    "        self.funcs = funcs\n",
    "        \n",
    "    def __call__(self, x):\n",
    "        return sum(f(x) for f in self.funcs)"
   ]
  },
  {
   "cell_type": "code",
   "execution_count": null,
   "metadata": {},
   "outputs": [],
   "source": [
    "funtion_sum = SumFuncs((math.floor, math.ceil)) # math.floor(x) + math.ceil(x)"
   ]
  },
  {
   "cell_type": "code",
   "execution_count": null,
   "metadata": {},
   "outputs": [],
   "source": [
    "funtion_sum(3.45)"
   ]
  },
  {
   "cell_type": "code",
   "execution_count": null,
   "metadata": {},
   "outputs": [],
   "source": [
    "funtion_sum(3)"
   ]
  },
  {
   "cell_type": "code",
   "execution_count": null,
   "metadata": {},
   "outputs": [],
   "source": []
  }
 ],
 "metadata": {
  "kernelspec": {
   "display_name": "Python 3",
   "language": "python",
   "name": "python3"
  },
  "language_info": {
   "codemirror_mode": {
    "name": "ipython",
    "version": 3
   },
   "file_extension": ".py",
   "mimetype": "text/x-python",
   "name": "python",
   "nbconvert_exporter": "python",
   "pygments_lexer": "ipython3",
   "version": "3.9.0"
  }
 },
 "nbformat": 4,
 "nbformat_minor": 1
}
