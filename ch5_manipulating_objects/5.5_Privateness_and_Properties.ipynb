{
 "cells": [
  {
   "cell_type": "markdown",
   "metadata": {},
   "source": [
    "### [Video Explanation Here!](https://youtu.be/fgUc00QkZ-w)\n",
    "\n",
    "### Restricting Access to Attributes (Information Hiding) \n",
    "\n",
    "So far, anyone who instantiates a car can reassign the attributes directly:"
   ]
  },
  {
   "cell_type": "markdown",
   "metadata": {},
   "source": [
    "```\n",
    ">>> car_1 = Car(\"Honda\",\"Accord\", 2019)\n",
    ">>> car_1.year = 2017 \n",
    "```"
   ]
  },
  {
   "cell_type": "markdown",
   "metadata": {},
   "source": [
    "Why is accessing the attribute not always a good idea?\n",
    "\n",
    "A few months later, we want to change the ``year`` attribute of the ``Car`` class to ``str`` (e.g., ``\"2019\"``) instead of ``int`` to potentially allow the user to specify variations of the  year like \"Spring 2019\". \n",
    "\n",
    "Well it's too late now because we allowed the ``year`` attribute to be public and the developers may be using it in conjunction with set operators throughout their code. Making the modification will break their code. \n",
    "\n",
    "Is there a way to allow this change to happen without affecting our users? Yes, and it's one of the strengths of object oriented programming! It's called **encapsulation**.\n"
   ]
  },
  {
   "cell_type": "markdown",
   "metadata": {},
   "source": [
    "### Encapsulation\n",
    "\n",
    ">``[Encapsulation] allows the implementation of an object's interface to be changed without impacting the users of that object.\""
   ]
  },
  {
   "cell_type": "markdown",
   "metadata": {},
   "source": [
    "The main idea of encapsulation is to hide implementation details from the users of an object. You only expose a public interface to the users.\n",
    "\n",
    "Remember, external users of our object shouldn't have to know *how* the implementation happens. Simply that the behavior we want happens. For example, with our `Car` we simply want to `car.start()` (if we added a `start` instance method). We don't want to have to understand everything that happens under the hood to _make_ the car start!\n",
    "\n",
    "There are a few ways to handle  encapsulation in Python: \n",
    "\n",
    "- Private Attributes\n",
    "- Getter/Setters \n",
    "- Properties"
   ]
  },
  {
   "cell_type": "markdown",
   "metadata": {},
   "source": [
    "### Private Attributes \n",
    "\n",
    "Often, Python programmers give attributes names starting with two underscore to signal to programmers that these attributes are \"private\" and shouldn't be changed.\n"
   ]
  },
  {
   "cell_type": "code",
   "execution_count": null,
   "metadata": {},
   "outputs": [],
   "source": [
    "class Car: \n",
    "    def __init__(self, make, model, year):\n",
    "        self.__make = make \n",
    "        self.__model = model \n",
    "        self.__year = year"
   ]
  },
  {
   "cell_type": "code",
   "execution_count": null,
   "metadata": {},
   "outputs": [],
   "source": [
    "car_1 = Car(\"Honda\",\"Accord\", 2019)"
   ]
  },
  {
   "cell_type": "markdown",
   "metadata": {},
   "source": [
    "**Note**: The definition of the double underscores don't technically make these variables \"private\". \n",
    "\n",
    "The double underscores only *name mangle* the private attributes. The names will be modified with a prefix or suffix added to the name (usually the class). \n",
    "\n",
    "You can see this by calling the ``__dir__()`` method, which lists all atributes (public and private) of an instance. "
   ]
  },
  {
   "cell_type": "code",
   "execution_count": null,
   "metadata": {},
   "outputs": [],
   "source": [
    "# dir(car_1)"
   ]
  },
  {
   "cell_type": "code",
   "execution_count": null,
   "metadata": {},
   "outputs": [],
   "source": [
    "car_1.__year"
   ]
  },
  {
   "cell_type": "markdown",
   "metadata": {},
   "source": [
    "**Aside**: You may also see private attributes implemented with a single underscore. This is by convention that they also mean that these attributes are private and should not be accessed or modified. However, there is no name mangling and no way to stop users from using them directly. "
   ]
  },
  {
   "cell_type": "code",
   "execution_count": null,
   "metadata": {},
   "outputs": [],
   "source": [
    "# Alternative way of defining \"private\" attributes with a single underscore\n",
    "class Car: \n",
    "    def __init__(self, make, model, year):\n",
    "        self._make = make \n",
    "        self._model = model \n",
    "        self._year = year"
   ]
  },
  {
   "cell_type": "code",
   "execution_count": null,
   "metadata": {},
   "outputs": [],
   "source": [
    "car = Car(\"Honda\", \"Civic\", 2017)\n",
    "\n",
    "#No name managling and directly accessible outside the class. However by convention these should not be accessed \n",
    "print(car._make)\n",
    "car._make = \"Hoooonda\"\n",
    "print(car._make)"
   ]
  },
  {
   "cell_type": "markdown",
   "metadata": {},
   "source": [
    "### Name Mangling & Naming with Underscores\n",
    "\n",
    "Name mangling and naming conventions were introduced with [PEP 8](https://pep8.org/#descriptive-naming-styles).\n",
    "\n",
    "*Naming with underscores in Python*\n",
    "\n",
    "- As noted above, a single underscore is another convention for setting private attributes but lacks name mangling, thereby meaning you can access and mutate these attributes directly\n",
    "\n",
    "```\n",
    "b._make = \"Hyundai\"\n",
    "print(b._make)\n",
    "```\n",
    "- A leading or trailing double underscore are for \"magic\" or \"dunder methods\", like `__init__`, `__repr__`. These are used for Python's internal type and class implementation. Additionally as a convention it reduces name collision with user defined variables.\n",
    "\n",
    "- Single underscore postfix are used for temporary assignments\n",
    "\n",
    "```\n",
    "for _ in range(10):\n",
    "    print(\"Hello\")\n",
    "```\n",
    "\n",
    "- Used as a visual separator in numbers for Python 3.6+ \n",
    "\n",
    "```\n",
    "ten_million_easy_to_read = 10_000_000\n",
    "ten_million_harder_to_read = 10000000\n",
    "```"
   ]
  },
  {
   "cell_type": "markdown",
   "metadata": {},
   "source": [
    "### Getters/Setters\n",
    "\n",
    "Another common pattern to hide private data used in other OOP languages (e.g., Java and C++) is to have *getter* and *setter* methods that control access to private attributes.\n",
    "\n",
    "To access a private attribute you should only call method with the prefix ``get_`` followed by the name of the attribute: \n",
    "\n",
    " - ``get_age(self):`` : returns a private attribute named \"age\" \n",
    " \n",
    "\n",
    "To modify a private attribute you should only call the method with the prefix ``set_`` followed by the name of the attribute. You pass to method the new value for the attribute. \n",
    "\n",
    "- ``set_age(self,new_value)`` : update a private attribute named ``age`` with ``new_value``. \n",
    "\n",
    "\n",
    "**With these methods, you can control how users access and modify your private data correctly. This way ensures they don't invalidate the data.** \n",
    "\n",
    "For example, ensuring that a person’s age is never negative in a ``Person`` class: "
   ]
  },
  {
   "cell_type": "code",
   "execution_count": null,
   "metadata": {},
   "outputs": [],
   "source": [
    "class Person:\n",
    "    def __init__(self, name, age):\n",
    "        self.__name = name #  Assume it has getter/setters \n",
    "        self.set_age(age)\n",
    "\n",
    "    def get_age(self):\n",
    "        return self.__age\n",
    "\n",
    "    def set_age(self, age):\n",
    "        if age < 0:\n",
    "            raise ValueError(\"Person can't have a negative age!\")\n",
    "        self.__age = age"
   ]
  },
  {
   "cell_type": "code",
   "execution_count": null,
   "metadata": {},
   "outputs": [],
   "source": [
    "p = Person(\"Sally Jackson\", 45)"
   ]
  },
  {
   "cell_type": "code",
   "execution_count": null,
   "metadata": {},
   "outputs": [],
   "source": [
    "p.get_age()"
   ]
  },
  {
   "cell_type": "code",
   "execution_count": null,
   "metadata": {},
   "outputs": [],
   "source": [
    "p.set_age(74)"
   ]
  },
  {
   "cell_type": "code",
   "execution_count": null,
   "metadata": {},
   "outputs": [],
   "source": [
    "p.get_age()"
   ]
  },
  {
   "cell_type": "code",
   "execution_count": null,
   "metadata": {},
   "outputs": [],
   "source": [
    "p.set_age(-23)"
   ]
  },
  {
   "cell_type": "markdown",
   "metadata": {},
   "source": [
    "However, the main problem with using getter/setters this way is:  \n",
    "\n",
    "1. It can become tedious to always have to write `get_...` or `set_...`. It was much cleaner to use the name of the attribute directly. \n",
    "\n",
    "2. It can also be tedious to define the methods themselves. At least with Java, some editors provide keyboard shortcuts to generate these for you. Python ones don't (at least at present).\n",
    "\n",
    "3. They still do not stop a user from directly accessing the private attributes.  \n",
    "\n",
    "Getter/setters are not commonly use in Python. "
   ]
  },
  {
   "cell_type": "markdown",
   "metadata": {},
   "source": [
    "### Properties \n",
    "\n",
    "The Pythonic way to deal with the above problem is to define a *property*, which allows you to directly control the accessing of private data while still only using the attribute name directly. \n",
    "\n",
    "There are a few ways to define a property. You can use the built-in ``property()`` function that creates and returns a property object.\n",
    "\n",
    "``property(fget=None, fset=None, fdel=None, doc=None)``\n",
    "\n",
    "- ``fget`` is a function to get value of the attribute \n",
    "- ``fset`` is a function to set value of the attribute \n",
    "- ``fdel`` is a function to delete the attribute \n",
    "- ``doc`` is a string (like a comment)\n",
    "\n",
    "We can define ``age`` attribute to now be a property with the following getter/setter methods:\n",
    "\n",
    "``age = property(get_age, set_age)``"
   ]
  },
  {
   "cell_type": "code",
   "execution_count": null,
   "metadata": {},
   "outputs": [],
   "source": [
    "class Person:\n",
    "    def __init__(self, name, age):\n",
    "        self.name = name # Note: Assume this is also a property \n",
    "        self.age = age \n",
    "\n",
    "    def get_age(self):\n",
    "        print(\"Called Get Age\")\n",
    "        return self._age\n",
    "\n",
    "    def set_age(self, age):\n",
    "        print(\"Called Set Age\")\n",
    "        if age < 0:\n",
    "            raise ValueError(\"Person can't have a negative age!\")\n",
    "        self._age = age\n",
    "        \n",
    "    age = property(get_age,set_age)"
   ]
  },
  {
   "cell_type": "markdown",
   "metadata": {},
   "source": [
    "We can now use the ``age`` property to update the age of a ``Person`` without the need to call the getter/setter methods. "
   ]
  },
  {
   "cell_type": "code",
   "execution_count": null,
   "metadata": {},
   "outputs": [],
   "source": [
    "p = Person(\"Sally Jackson\",45) "
   ]
  },
  {
   "cell_type": "code",
   "execution_count": null,
   "metadata": {},
   "outputs": [],
   "source": [
    "p.age"
   ]
  },
  {
   "cell_type": "code",
   "execution_count": null,
   "metadata": {},
   "outputs": [],
   "source": [
    "p.age = 68"
   ]
  },
  {
   "cell_type": "code",
   "execution_count": null,
   "metadata": {},
   "outputs": [],
   "source": [
    "print(p.age)"
   ]
  },
  {
   "cell_type": "code",
   "execution_count": null,
   "metadata": {},
   "outputs": [],
   "source": [
    "p.age = -1"
   ]
  },
  {
   "cell_type": "code",
   "execution_count": null,
   "metadata": {},
   "outputs": [],
   "source": [
    "p_2 = Person(\"Fred Jackson\", 23)\n",
    "print(p_2.age)\n",
    "print(p.age)"
   ]
  },
  {
   "cell_type": "markdown",
   "metadata": {},
   "source": [
    "Similar to defining a class using the ``@classmethod`` decorator, we can also define properties using ``@property``.\n",
    "\n",
    "- Place the ``@property`` directly above the function header of the getter function. \n",
    "\n",
    "- Place the code ``@name_of_property.setter`` above the function header of the setter function. You need to replace the ``name_of_property`` with the actual name of the property. \n",
    "\n",
    "- The function names for both the setter/getter need to match. \n"
   ]
  },
  {
   "cell_type": "code",
   "execution_count": null,
   "metadata": {},
   "outputs": [],
   "source": [
    "class Person:\n",
    "    def __init__(self, name, age):\n",
    "        self.name = name\n",
    "        self.age = age\n",
    "        \n",
    "    @property\n",
    "    def age(self):\n",
    "        print(\"inside prop getter\")\n",
    "        return self._age\n",
    "    \n",
    "    @age.setter\n",
    "    def age(self, age):\n",
    "        print(\"inside prop setter\")\n",
    "        if age < 0:\n",
    "            raise ValueError(\"Person can't have a negative age!\")\n",
    "        self._age = age"
   ]
  },
  {
   "cell_type": "code",
   "execution_count": null,
   "metadata": {},
   "outputs": [],
   "source": [
    "p = Person(\"Sally Jackson\",45) "
   ]
  },
  {
   "cell_type": "code",
   "execution_count": null,
   "metadata": {},
   "outputs": [],
   "source": [
    "p.age = 68"
   ]
  },
  {
   "cell_type": "code",
   "execution_count": null,
   "metadata": {},
   "outputs": [],
   "source": [
    "p.age"
   ]
  },
  {
   "cell_type": "code",
   "execution_count": null,
   "metadata": {},
   "outputs": [],
   "source": [
    "p.age = -1"
   ]
  },
  {
   "cell_type": "markdown",
   "metadata": {},
   "source": [
    "You still need have for each property, the line ``self.age = age`` in the ``__init__`` method and the property method is used to check the limits of the age value.\n",
    "\n",
    "**Important Note**\n",
    "\n",
    "You do not need to have all data in your class be private. Sometimes it make sense to allow the data to be change publicly. For example, a simple Point class doesn't necessarily need ``x`` and ``y`` to be private because most likely you may be updating the object frequently. \n",
    "\n",
    "``Class Point \n",
    "     def __init__(self,x,y):\n",
    "       self.x = x \n",
    "       self.y = y \n",
    "``\n",
    "\n",
    "However, if you want the class implementation to have full control over how the users update private data then you can use use properties for data encaspulation. "
   ]
  },
  {
   "cell_type": "markdown",
   "metadata": {},
   "source": [
    "### Aside: Computed Properties \n",
    "\n",
    "Properties also allow us to define *computed attributes*, attributes that are not actually stored, but are calculated dynmically on demand. \n",
    "\n",
    "For example, lets say we wanted to compute the area of a rectangle for a ``Rectangle`` class: "
   ]
  },
  {
   "cell_type": "code",
   "execution_count": null,
   "metadata": {},
   "outputs": [],
   "source": [
    "class Rectangle: \n",
    "    \n",
    "    def __init__(self,width,height):\n",
    "        self.width = width \n",
    "        self.height = height \n",
    "    \n",
    "    @property \n",
    "    def area(self):\n",
    "        return self.width * self.height "
   ]
  },
  {
   "cell_type": "code",
   "execution_count": null,
   "metadata": {},
   "outputs": [],
   "source": [
    "rect = Rectangle(3,5)"
   ]
  },
  {
   "cell_type": "code",
   "execution_count": null,
   "metadata": {},
   "outputs": [],
   "source": [
    "# Can directly call ``area`` as if it was a normal attribute; however this computed on \n",
    "# demand \n",
    "rect.area"
   ]
  },
  {
   "cell_type": "code",
   "execution_count": null,
   "metadata": {},
   "outputs": [],
   "source": [
    "# We can change the attributes that it uses in its implementation to see newly computed \n",
    "# value. \n",
    "rect.width = 7 \n",
    "rect.height = 5 \n",
    "\n",
    "print(rect.area)"
   ]
  },
  {
   "cell_type": "markdown",
   "metadata": {},
   "source": [
    "Without specifying a ``.setter property`` we will not be able to \"store\" a value for ``area``. An error will be thrown if we did. "
   ]
  },
  {
   "cell_type": "code",
   "execution_count": null,
   "metadata": {},
   "outputs": [],
   "source": [
    "# Error will be thrown. \n",
    "rect.area = 19"
   ]
  },
  {
   "cell_type": "code",
   "execution_count": null,
   "metadata": {},
   "outputs": [],
   "source": []
  }
 ],
 "metadata": {
  "kernelspec": {
   "display_name": "Python 3",
   "language": "python",
   "name": "python3"
  },
  "language_info": {
   "codemirror_mode": {
    "name": "ipython",
    "version": 3
   },
   "file_extension": ".py",
   "mimetype": "text/x-python",
   "name": "python",
   "nbconvert_exporter": "python",
   "pygments_lexer": "ipython3",
   "version": "3.9.0"
  }
 },
 "nbformat": 4,
 "nbformat_minor": 4
}
