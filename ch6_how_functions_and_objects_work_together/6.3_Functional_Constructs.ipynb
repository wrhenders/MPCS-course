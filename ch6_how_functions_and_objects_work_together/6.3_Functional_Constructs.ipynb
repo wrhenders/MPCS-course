{
 "cells": [
  {
   "cell_type": "markdown",
   "metadata": {},
   "source": [
    "### [Video Explanation Here!](https://youtu.be/FivUQTtcDhI)\n",
    "\n",
    "### Functional Programming \n",
    "\n",
    "Python is a multiparadigm language that also provides a set of built-ins used  for *functional programming*: in Python's case, tools that apply functions to sequences and other iterables.\n",
    "\n",
    "What are some of the built-in functional programming functions? ``map``, ``filter``. We look at each now."
   ]
  },
  {
   "cell_type": "markdown",
   "metadata": {},
   "source": [
    "#### Map \n",
    "- ``map(function, iterable, ...)``: Applies the given ``function`` argument to each item in the ``iterable`` argument. It returns a new iterable object with all those new values.\n",
    "\n",
    "- The return iterable object is a map object. \n",
    "- Can use both ``def`` and ``lambda`` statements to generate the function objects. "
   ]
  },
  {
   "cell_type": "code",
   "execution_count": null,
   "metadata": {},
   "outputs": [],
   "source": [
    "map_obj = map(lambda x: x + 2, [1,2,3])\n",
    "\n",
    "# This object contains the new collection of values, which are \n",
    "# 3,4,5. We cannot see them if we were to print them out  \n",
    "map_obj"
   ]
  },
  {
   "cell_type": "code",
   "execution_count": null,
   "metadata": {},
   "outputs": [],
   "source": [
    "#Since a map object is an iterable object. We can use a iteration\n",
    "# context to go through it. \n",
    "for item in map_obj:\n",
    "    print(item)"
   ]
  },
  {
   "cell_type": "code",
   "execution_count": null,
   "metadata": {},
   "outputs": [],
   "source": [
    "list_added_two = list(map_obj)\n",
    "list_added_two"
   ]
  },
  {
   "cell_type": "code",
   "execution_count": null,
   "metadata": {},
   "outputs": [],
   "source": [
    "# What happens when we try to use map_obj again?\n",
    "for item in map_obj:\n",
    "    print(item)"
   ]
  },
  {
   "cell_type": "code",
   "execution_count": null,
   "metadata": {},
   "outputs": [],
   "source": [
    "# Or we could convert the map iterable object into another iterable\n",
    "# object \n",
    "map_obj = map(lambda x: x + 2, [1,2,3])\n",
    "lst = set(map_obj)\n",
    "print(lst)"
   ]
  },
  {
   "cell_type": "code",
   "execution_count": null,
   "metadata": {},
   "outputs": [],
   "source": [
    "# The previous example used a lambda but we can also use function objects\n",
    "# defined with def \n",
    "list(map(len, [[1,2,3],[4],[5,6]]))"
   ]
  },
  {
   "cell_type": "markdown",
   "metadata": {},
   "source": [
    "The ``operator`` modules provides the standard operators in Python as expressions, which you can use in these tools. "
   ]
  },
  {
   "cell_type": "code",
   "execution_count": null,
   "metadata": {},
   "outputs": [],
   "source": [
    "import operator \n",
    "list(map(operator.abs,[-2,53,-43]))"
   ]
  },
  {
   "cell_type": "markdown",
   "metadata": {},
   "source": [
    "The ``map`` function can also take in a N-argument functions to work with  N-iterable objects"
   ]
  },
  {
   "cell_type": "code",
   "execution_count": null,
   "metadata": {},
   "outputs": [],
   "source": [
    "# \"pow\" is a binary function (takes 2 operands);\n",
    "# therefore we canprovide map with two iterables\n",
    "list(map(pow,[1,2,3],[4,5,3]))"
   ]
  },
  {
   "cell_type": "markdown",
   "metadata": {},
   "source": [
    "Binary functions from the  ``operator`` modules can also be used: "
   ]
  },
  {
   "cell_type": "code",
   "execution_count": null,
   "metadata": {},
   "outputs": [],
   "source": [
    "list(map(operator.sub,[20,19],range(2)))"
   ]
  },
  {
   "cell_type": "markdown",
   "metadata": {},
   "source": [
    "#### Filter \n",
    "\n",
    "- ``filter(function, iterable)``: Returns an iterable that contains  all items from the ``iterable`` argument for which the ``function`` argument is returns ``True``. Each element from the iterable object is passed as an argument to ``function``.  "
   ]
  },
  {
   "cell_type": "code",
   "execution_count": null,
   "metadata": {},
   "outputs": [],
   "source": [
    "list(filter(str.isupper,['a',\"ABC\", 'def']))"
   ]
  },
  {
   "cell_type": "code",
   "execution_count": null,
   "metadata": {},
   "outputs": [],
   "source": [
    "list(filter(lambda x: x%2 != 0, [1,2,3,4,5]))"
   ]
  },
  {
   "cell_type": "markdown",
   "metadata": {},
   "source": [
    "#### Functools \n",
    "\n",
    "In Python, the ``functools`` module provides more  functional programming functions in Python. For example,\n",
    "\n",
    "   - ``functools.reduce(function, iterable[, initializer])``: Apply ``function`` to pairs of items successively and return a single value as the result. You can optionally specify the initial value.\n"
   ]
  },
  {
   "cell_type": "code",
   "execution_count": null,
   "metadata": {},
   "outputs": [],
   "source": [
    "import functools \n",
    "import operator \n",
    "\n",
    "# 1st iteration: Call operator.add(1,2) -> 3 \n",
    "# 2nd iteration: Call operator.add(3,3) -> 6 \n",
    "# 3rd iteration: Call operator.add(6,4) -> 10 \n",
    "# final result = 10 \n",
    "functools.reduce(operator.add, [1,2,3,4])"
   ]
  },
  {
   "cell_type": "code",
   "execution_count": null,
   "metadata": {},
   "outputs": [],
   "source": [
    "# What happens if you pass in an initial value \n",
    "# 1st iteration: Call operator.mul(2,1) -> 2 \n",
    "# 2nd iteration: Call operator.mul(2,2) -> 4 \n",
    "# 3rd iteration: Call operator.mul(4,3) -> 12 \n",
    "# 4th iteration: Call operator.mul(12,4) -> 48 \n",
    "# Final result = 48 \n",
    "functools.reduce(operator.mul, [1,2,3,4], 2)"
   ]
  },
  {
   "cell_type": "code",
   "execution_count": null,
   "metadata": {},
   "outputs": [],
   "source": [
    "# User-defined functions must take in 2 arguments:\n",
    "# 1st iteration: lambda(2,1): pow(2,1) -> 2 \n",
    "# 2nd iteration: lambda(2,3): pow(2,3) -> 8\n",
    "# Final result = 8 \n",
    "functools.reduce(lambda x, y: pow(x,y), [2,3])"
   ]
  },
  {
   "cell_type": "markdown",
   "metadata": {},
   "source": [
    "The functional methods in Python pretty clearly communicate the maintainer's disdain for them by being crappy to use. It's GVR's position that modern Python constructs like list comprehensions obviate the need for map and filter, and wanted to remove them in Python 3 but didn't due to community backlash.\n",
    "\n",
    "He thought reduce, in particular, sucked because \"it was only ever used to add things together or write illegible code.\" But rather than remove it completely and incite a firestorm, they demoted it from a builtin function to the functools module, which is, by his own admission, where Guido stuffs things he doesn't care about :-). "
   ]
  }
 ],
 "metadata": {
  "kernelspec": {
   "display_name": "Python 3",
   "language": "python",
   "name": "python3"
  },
  "language_info": {
   "codemirror_mode": {
    "name": "ipython",
    "version": 3
   },
   "file_extension": ".py",
   "mimetype": "text/x-python",
   "name": "python",
   "nbconvert_exporter": "python",
   "pygments_lexer": "ipython3",
   "version": "3.9.0"
  }
 },
 "nbformat": 4,
 "nbformat_minor": 4
}
