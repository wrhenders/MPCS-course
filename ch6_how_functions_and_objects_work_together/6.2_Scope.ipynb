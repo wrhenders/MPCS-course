{
 "cells": [
  {
   "cell_type": "markdown",
   "metadata": {},
   "source": [
    "### [Video Explanation Here!](https://youtu.be/RyMtH8BZz4E)\n",
    "\n",
    "### Scoping in Python \n",
    "\n",
    "#### Namespaces \n",
    "\n",
    "*What is a namespace*? \n",
    "> \"When you use a name in a program, Python creates, changes, or looks up the name in what is known as a namespace— a place where names live.\"<cite> Learning Python, 2013 </cite> \n",
    "\n",
    "The location of an object to a name in source code determines the scope of its visibility in your code.\n",
    "\n",
    "Functions introduce an additional namespace layer: \n",
    "    - Local variables (i.e., names) cannot be seen outside of the ``def``\n",
    "    - Local variables inside the function do not clash with variables outside the function.\n",
    "    - In other words, \n",
    "> \"By default, all names assigned inside a functionare associated with that function’s namespace and no other\".<cite> Learning Python, 2013 </cite> "
   ]
  },
  {
   "cell_type": "code",
   "execution_count": null,
   "metadata": {},
   "outputs": [],
   "source": [
    "# integer = 0\n",
    "\n",
    "def functino():\n",
    "    integer = 2\n",
    "    return integer\n",
    "\n",
    "number = functino()\n",
    "number"
   ]
  },
  {
   "cell_type": "code",
   "execution_count": null,
   "metadata": {},
   "outputs": [],
   "source": [
    "integer"
   ]
  },
  {
   "cell_type": "markdown",
   "metadata": {},
   "source": [
    "#### Scope \n",
    "\n",
    "*How is scope determined?*\n",
    "\n",
    "- Names assigned at the top-level (outside of a function) in a file have ``global`` scope: \n",
    "    - Everything assigned at the top level of a module is global to that module.\n",
    "    - Variables that are global inside of a module (A) will also be global variables in in a module (B) that imports a (i.e., ``import A``). \n",
    "- Global scope only covers a single file \n",
    "- Names inside a function are *local* unless specified otherwise, \n",
    "    - Functions provide a nested namespaces that localize the names they use.\n",
    "    - Every call to a function creates a new local scope. \n",
    "   "
   ]
  },
  {
   "cell_type": "markdown",
   "metadata": {},
   "source": [
    "#### Name Resolution in Functions \n",
    "\n",
    "- Assignment statements create or change local names by default\n",
    "- Referencing a name in an expression searches four scopes: \n",
    "    - Local (L) scope of the function \n",
    "    - Local scope of any enclosing (E) functions\n",
    "    - Global (G) scope of the file\n",
    "    - Built-in (B) scope\n",
    "- This scheme is called the **LEGB** rule\n",
    "- If the name is not found in any of the four scopes searched, Python will raise an exception. "
   ]
  },
  {
   "cell_type": "code",
   "execution_count": null,
   "metadata": {},
   "outputs": [],
   "source": [
    "x = 3 \n",
    "# Causes a runtime exception because \"undefined_name\" is not accessible in any scope\n",
    "print(x + undefined_name)"
   ]
  },
  {
   "cell_type": "markdown",
   "metadata": {},
   "source": [
    "#### The global Statement \n",
    "\n",
    "- If you want to modify a name defined in global scope inside of a function then use the ``global`` statement.\n",
    "\n",
    "- This redefines the variable in the function to have global scope"
   ]
  },
  {
   "cell_type": "code",
   "execution_count": null,
   "metadata": {},
   "outputs": [],
   "source": [
    "## Without global declaration \n",
    "x = 2\n",
    "def f():\n",
    "    x = 2\n",
    "    x += 1\n",
    "    print(x) # prints: 3\n",
    "f() "
   ]
  },
  {
   "cell_type": "code",
   "execution_count": null,
   "metadata": {},
   "outputs": [],
   "source": [
    "print(x) # prints: 2"
   ]
  },
  {
   "cell_type": "code",
   "execution_count": null,
   "metadata": {},
   "outputs": [],
   "source": [
    "## With global declaration \n",
    "x = 2\n",
    "def f():\n",
    "    global x\n",
    "    x += 1\n",
    "    print(x) # prints: 3\n",
    "f() "
   ]
  },
  {
   "cell_type": "code",
   "execution_count": null,
   "metadata": {},
   "outputs": [],
   "source": [
    "print(x) # prints: 3"
   ]
  },
  {
   "cell_type": "markdown",
   "metadata": {},
   "source": [
    "#### Nested functions \n",
    "As stated earlier, ``def`` is just an executable statement that binds a name to a function object. \n",
    "\n",
    "- It's legal syntax to place a ``def`` anywhere a statement is expected\n"
   ]
  },
  {
   "cell_type": "code",
   "execution_count": null,
   "metadata": {},
   "outputs": [],
   "source": [
    "def f1():\n",
    "    x = 'hello world'\n",
    "    ## The first nested function within the function f1 \n",
    "    def f2():\n",
    "        ## The second nested function withim f2 \n",
    "        def f3():\n",
    "            print(x)\n",
    "        f3()     \n",
    "    f2()"
   ]
  },
  {
   "cell_type": "code",
   "execution_count": null,
   "metadata": {},
   "outputs": [],
   "source": [
    "f1()"
   ]
  },
  {
   "cell_type": "markdown",
   "metadata": {},
   "source": [
    "In fact, we saw this before: when we were implementing decorators!"
   ]
  },
  {
   "cell_type": "markdown",
   "metadata": {},
   "source": [
    "### Closures \n",
    "\n",
    "- When a function is nested inside another function, it remembers the enclosing scope\n",
    "\n",
    "- The combination of a function and variables defined in the enclosing scope (non-local variables) is called a closure\n"
   ]
  },
  {
   "cell_type": "code",
   "execution_count": null,
   "metadata": {},
   "outputs": [],
   "source": [
    "def f1():\n",
    "    eighty_eight = 88\n",
    "    def f2():\n",
    "        print(eighty_eight)\n",
    "    return f2\n",
    "action = f1()\n",
    "action"
   ]
  },
  {
   "cell_type": "code",
   "execution_count": null,
   "metadata": {},
   "outputs": [],
   "source": [
    "action()"
   ]
  },
  {
   "cell_type": "markdown",
   "metadata": {},
   "source": [
    "### Where/why might you want to use closures?\n",
    "\n",
    "Useful way to create event handlers \"in response to conditions at runtime.\""
   ]
  },
  {
   "cell_type": "code",
   "execution_count": null,
   "metadata": {},
   "outputs": [],
   "source": [
    "# Closures allow functions to store state\n",
    "def remember():\n",
    "    history = []\n",
    "    def f(*args):\n",
    "        history.append(args)\n",
    "        return history\n",
    "    return f"
   ]
  },
  {
   "cell_type": "code",
   "execution_count": null,
   "metadata": {},
   "outputs": [],
   "source": [
    "stateful_func = remember()"
   ]
  },
  {
   "cell_type": "code",
   "execution_count": null,
   "metadata": {},
   "outputs": [],
   "source": [
    "stateful_func(3)"
   ]
  },
  {
   "cell_type": "code",
   "execution_count": null,
   "metadata": {},
   "outputs": [],
   "source": [
    "stateful_func(\"MPCS\")"
   ]
  },
  {
   "cell_type": "code",
   "execution_count": null,
   "metadata": {},
   "outputs": [],
   "source": [
    "stateful_func((3,4))"
   ]
  },
  {
   "cell_type": "markdown",
   "metadata": {},
   "source": [
    "#### The nonlocal Statement \n",
    "\n",
    "Similar to ``global``, the ``nonlocal`` statement allows us to change variables defined in an enclosing scope"
   ]
  },
  {
   "cell_type": "code",
   "execution_count": null,
   "metadata": {},
   "outputs": [],
   "source": [
    "def square(x):\n",
    "    return x * x\n",
    "\n",
    "def count_calls(func):\n",
    "    count = 0\n",
    "\n",
    "    def inner(*args, **kwargs):\n",
    "        nonlocal count\n",
    "        count += 1\n",
    "        print(f'Called {count} times')\n",
    "        return func(*args, **kwargs)\n",
    "\n",
    "    return inner"
   ]
  },
  {
   "cell_type": "code",
   "execution_count": null,
   "metadata": {},
   "outputs": [],
   "source": [
    "call_func = count_calls(square)"
   ]
  },
  {
   "cell_type": "code",
   "execution_count": null,
   "metadata": {},
   "outputs": [],
   "source": [
    "print(call_func(2))  # What gets printed? \n",
    "print(call_func(3))  # What gets printed?\n",
    "print(call_func(4))"
   ]
  },
  {
   "cell_type": "markdown",
   "metadata": {},
   "source": [
    "#### Summary of Scope \n",
    "\n",
    "![alt text](../images/scope.png \"Learning Python 2013\") -- <cite>Learning Python 2013</cite>"
   ]
  }
 ],
 "metadata": {
  "kernelspec": {
   "display_name": "Python 3",
   "language": "python",
   "name": "python3"
  },
  "language_info": {
   "codemirror_mode": {
    "name": "ipython",
    "version": 3
   },
   "file_extension": ".py",
   "mimetype": "text/x-python",
   "name": "python",
   "nbconvert_exporter": "python",
   "pygments_lexer": "ipython3",
   "version": "3.9.0"
  }
 },
 "nbformat": 4,
 "nbformat_minor": 1
}
