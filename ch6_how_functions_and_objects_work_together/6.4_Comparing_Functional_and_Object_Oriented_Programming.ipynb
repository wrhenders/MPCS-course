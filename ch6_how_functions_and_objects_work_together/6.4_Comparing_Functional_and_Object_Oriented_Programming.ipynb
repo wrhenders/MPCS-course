{
 "cells": [
  {
   "cell_type": "markdown",
   "metadata": {},
   "source": [
    "### [Video Explanation Here!](https://youtu.be/HfEM1MKfwFw)\n",
    "\n",
    "# So first of all"
   ]
  },
  {
   "cell_type": "markdown",
   "metadata": {},
   "source": [
    "Let's talk about terminology, because there's a massive lack of precision on this floating around the programming community that makes all these concepts harder to understand than they have to be.\n",
    "\n",
    "### What is a Paradigm?\n",
    "\n",
    "Let's talk about two different **paradigms**, that is, different ideas about **how** solving a programming problem can work:\n",
    "\n",
    "1. **imperative**: describes a way of thinking about a programming problem. Specifically, thinking about a programming problem in terms of how to perform tasks and how to manage state\n",
    "1. **declarative**: describes a way of thinking about a programming problem. Specifically, thinking about a programming problem in terms of what _output_ we want, without having to know the details of how we got there.\n",
    "\n",
    "Different programming languages adopt each of these to different degrees. \n",
    "\n",
    "For example, in Ruby, when you want to write a web app, you inherit from classes (usually defined by a framework like Rails or Sinatra) that are specifically designed to help you keep track of _state_ (database records, attributes on objects) and _behavior_ (which requests are supposed to route to what actions). \n",
    "\n",
    "By comparison, in SQL, you write a statement declaring what data you want out of the database and how you want it organized. SQL decides for you how to get the thing you want—whether to use indices, what order to do things in, et cetera—without bothering you to specify that information.\n",
    "\n",
    "### How do we implement the paradigms?\n",
    "\n",
    "**Chiefly, programming languages _implement_ these two paradigms with object-based implementations or function-based implementations**\n",
    "\n",
    "1. **object-based**: describes the implementation of a solution in code. Specifically, a solution that depends on the instantiation of, use of, and inheritance from objects.\n",
    "1. **function-based**: describes the implementation of a solution in code. Specifically, a solution that depends on the definition of, use of, and passing of functions to functions.\n",
    "\n",
    "These are not the only ways to implement the paradigms. Huge, common example: SQL is largely not a functional language. You aren't passing functions around to functions. But it does implement the declarative _paradigm_ (how SQL works is a whole fascinating subject that I'm not talking about in this class because I'm supposed to teach you Python, but I think this is a _fantastic_ example of where understanding multiple different languages makes you better at understanding each individual language). The point is, the paradigms and the implementations are not equivalent things.\n",
    "\n",
    "### What does \"oriented\" mean?\n",
    " \n",
    "**When a programming language is _oriented_ in a certain direction, it means that the constructs available in that language loan themselves better to one implementation or the other.**\n",
    "\n",
    "- **object-oriented**: describes a programming language. Specifically, one whose constructs make **object-based** solutions convenient to implement.\n",
    "- **functionally-oriented**: describes a programming language. Specifically, one whose constructs make **function-based** solutions convenient to implement.\n",
    "\n",
    "Now, it is _possible_ (though kinda difficult) to make a language that _only_ supports _one_ type of solution. Haskell is pretty close to a **functional** language. Alloy is pretty close to an **object** language. However, the utility of a language drops off pretty fast if it _only_ does one or the other because both are at least a _little_ useful in most programming areas. So **-oriented** means \"one is more convenient, but you can kinda do both.\"\n",
    "\n",
    "Colloquial terminology absolutely butchers this by referring to functionally oriented languages as \"functional\" and object languages as \"object-oriented\" and languages that are oriented either way as \"dual paradigm\" despite the fact that the _paradigm_ is an _idea_, not an _implementation_, and a programming language does not have a _paradigm_. \n",
    "\n",
    "(I firmly believe that the reason that this functional vs. OOP idea is so hard for people is that we use the same term to mean six different things, two of which are sometimes opposites.)\n",
    "\n",
    "I found this chart to provide a visual, but it _also_ butchered the terminology, so I fixed it:\n",
    "\n",
    "![](../images/comparing_paradigms.png)\n",
    "- Image from [here](https://docs.microsoft.com/en-us/dotnet/standard/linq/functional-vs-imperative-programming#:~:text=Functional%20programming%20is%20a%20form,support%20imperative%20(procedural)%20programming.) but I had to annotate it to fix the terminology\n",
    "\n",
    "### Python is an object-oriented language.\n",
    "\n",
    "People will argue with me on this point that Python is \"in fact, dual-paradigm.\" I disagree for reasons that you are now intimately familiar with. Python is object-oriented. You _can_ do functional programming in it. It is designed, however, to prioritize object-based programming. We'll come back to this.\n",
    "\n",
    "### Different Implementations by Example"
   ]
  },
  {
   "cell_type": "code",
   "execution_count": null,
   "metadata": {},
   "outputs": [],
   "source": [
    "class RedShoulderedBlackbird():\n",
    "    def respond(self):\n",
    "        print(\"I'm going to land on your head, scream at you, then steal your hot dog\")\n",
    "\n",
    "class BigBird():\n",
    "    def respond(self):\n",
    "        print(\"I'm going to teach you a letter of the alphabet!\")\n",
    "        \n",
    "class Parrot():\n",
    "    def __init__(self):\n",
    "        self.annoyed_level = 0\n",
    "        \n",
    "    def respond(self):\n",
    "        self.annoyed_level += 1\n",
    "        if self.annoyed_level < 3:\n",
    "            print(\"I'm going to bite you\")\n",
    "        else:\n",
    "            print(\"OKAY THAT'S IT BUCKO, YOU'RE GETTING THE BEAK!!!!!!!\")\n",
    "        \n",
    "        \n",
    "def eye_contact_with(bird):\n",
    "    bird.respond()"
   ]
  },
  {
   "cell_type": "code",
   "execution_count": null,
   "metadata": {},
   "outputs": [],
   "source": [
    "red_shouldered_blackbird = RedShoulderedBlackbird()\n",
    "big_bird = BigBird()\n",
    "parrot = Parrot()"
   ]
  },
  {
   "cell_type": "code",
   "execution_count": null,
   "metadata": {},
   "outputs": [],
   "source": [
    "eye_contact_with(red_shouldered_blackbird)\n",
    "eye_contact_with(big_bird)\n",
    "eye_contact_with(parrot)"
   ]
  },
  {
   "cell_type": "code",
   "execution_count": null,
   "metadata": {},
   "outputs": [],
   "source": [
    "def make_eye_contact_with(bird):\n",
    "    if bird == \"Parrot\":\n",
    "        print(\"I'm going to bite you\")\n",
    "    elif bird == \"RedShoulderedBlackbird\":\n",
    "        print(\"I'm going to land on your head, scream at you, then steal your hot dog\")\n",
    "    elif bird == \"BigBird\":\n",
    "        print(\"I'm going to teach you a letter of the alphabet!\")\n",
    "\n",
    "make_eye_contact_with(\"Parrot\")\n",
    "make_eye_contact_with(\"RedShoulderedBlackbird\")\n",
    "make_eye_contact_with(\"BigBird\")      "
   ]
  },
  {
   "cell_type": "markdown",
   "metadata": {},
   "source": [
    "### When to use What\n",
    "\n",
    "- Imperative programming is often particularly useful for describing and drecting the interactions between different concepts\n",
    "- Declarative programming is often particularly useful for manipulating collections of data where the datums are independent (not specifically interacting with one another).\n",
    "\n",
    "This is the reason that:\n",
    "\n",
    "- Many web frameworks and mobile frameworks have you inherit from objects. The superclasses can handle all these objects' instantiation and relationships with each other while you happily add in what the pages should look like or which data the endpoints should fetch\n",
    "- Golang (a functionally-oriented language) hasn't gotten as much traction as a language for writing APIs or web apps, and the tooling around doing so with Golang is about as mature as it is for Swift, an object-oriented language that is seven years younger\n",
    "- SQL (a declarative language) is used for fetching collections of data out of databases\n",
    "- Functional approaches are popular in ETL pipelines that do something to a bunch of data and then move it somewhere\n",
    "- Functional approaches are popular for transforming a bunch of data pulled from an API before displaying it\n",
    "- People always get \"functional programming\" and \"functions that specifically manipulate lists\" mixed up—in fact, most Python resources do this. If you look up \"functional programming in Python\" 95% of what you find is just \"how to use map and filter, tada!\"\n",
    "\n",
    "SPEAKING OF MAP AND FILTER"
   ]
  },
  {
   "cell_type": "markdown",
   "metadata": {},
   "source": [
    "### Why Python's Functional Constructs Suck\n",
    "\n",
    "1. You have to convert everything in and out of list format"
   ]
  },
  {
   "cell_type": "code",
   "execution_count": null,
   "metadata": {},
   "outputs": [],
   "source": [
    "listo = [1, 2, 3, 4, 5, 6, 7, 8, 9, 10]\n",
    "\n",
    "evens = filter(lambda x: x % 2 == 0, listo)\n",
    "evens"
   ]
  },
  {
   "cell_type": "markdown",
   "metadata": {},
   "source": [
    "How is that helpful"
   ]
  },
  {
   "cell_type": "code",
   "execution_count": null,
   "metadata": {},
   "outputs": [],
   "source": [
    "list(evens)"
   ]
  },
  {
   "cell_type": "markdown",
   "metadata": {},
   "source": [
    "Well, if I can't look at a filter object without making it a list, perhaps I can at least keep doing functional pricessing on it?"
   ]
  },
  {
   "cell_type": "code",
   "execution_count": null,
   "metadata": {},
   "outputs": [],
   "source": [
    "squared_evens = map(lambda x: x **2, evens)"
   ]
  },
  {
   "cell_type": "markdown",
   "metadata": {},
   "source": [
    "Yay it worked!"
   ]
  },
  {
   "cell_type": "code",
   "execution_count": null,
   "metadata": {},
   "outputs": [],
   "source": [
    "list(squared_evens)"
   ]
  },
  {
   "cell_type": "markdown",
   "metadata": {},
   "source": [
    "W H A T\n",
    "\n",
    "This is the second problem with Python's functional constructs:"
   ]
  },
  {
   "cell_type": "markdown",
   "metadata": {},
   "source": [
    "2. When you don't convert everything in and out of a list for every operation, they don't even throw an exception: instead they look like they worked except that they don't, which is super unclear."
   ]
  },
  {
   "cell_type": "markdown",
   "metadata": {},
   "source": [
    "This means that:"
   ]
  },
  {
   "cell_type": "markdown",
   "metadata": {},
   "source": [
    "3. The functional methods don't support a **fluent interface**. I have to save everything off as a variable, which I then have to either explicitly delete like I'm writing code in the seventies and am in charge of my own memory management, or else take up multiple times as much memory as I'd need for the final thing I'm actually asking for"
   ]
  },
  {
   "cell_type": "code",
   "execution_count": null,
   "metadata": {},
   "outputs": [],
   "source": [
    "listo = [1, 2, 3, 4, 5, 6, 7, 8, 9, 10]     #I don't need this anymore\n",
    "evens = filter(lambda x: x % 2 == 0, listo) #or this\n",
    "evens_as_list = list(evens)                 #never referencing this again\n",
    "squareds = map(lambda x: x **2, evens_as_list) #this either  \n",
    "squared_as_list = list(squareds) #but they're all still in memory until I\n",
    "\n",
    "# This is not 1969 I should not have to do this\n",
    "del listo, evens, evens_as_list, squareds\n",
    "\n",
    "squared_as_list"
   ]
  },
  {
   "cell_type": "markdown",
   "metadata": {},
   "source": [
    "I could avoid the extra memory load by assigning each step back to the same variable name it transformed, but that would mean at every step having a name that doesn't actually represent what's happening:"
   ]
  },
  {
   "cell_type": "code",
   "execution_count": null,
   "metadata": {},
   "outputs": [],
   "source": [
    "listo = [1, 2, 3, 4, 5, 6, 7, 8, 9, 10]     #name is accurate\n",
    "listo = filter(lambda x: x % 2 == 0, listo) #literally not a list\n",
    "listo = list(listo) #Unclear how is this differs from pre-transformed value\n",
    "listo = map(lambda x: x **2, listo) #Not a list again, named listo  \n",
    "listo = list(listo) #COME ON\n",
    "\n",
    "listo"
   ]
  },
  {
   "cell_type": "markdown",
   "metadata": {},
   "source": [
    "The whole point of Python's design is to be explicit and this is _less_ explicit about what's going on because a misleading name is worse than no name at all. \n",
    "\n",
    "**Conclusion: functional programming isn't bad, Python is just bad at it.**"
   ]
  },
  {
   "cell_type": "markdown",
   "metadata": {},
   "source": [
    "What is a **fluent interface** and how does it solve this problem? You will implement one in your homework!\n",
    "\n",
    "### Bonus:\n",
    "\n",
    "What if I need the strengths of both object-based and function-based programming in some area of my code? \n",
    "\n",
    "The **visitor pattern** is sort of a way to get this. It's out of scope for this class, but [I think this tutorial](https://www.tutorialspoint.com/design_pattern/visitor_pattern.htm) explains it well!"
   ]
  }
 ],
 "metadata": {
  "kernelspec": {
   "display_name": "Python 3",
   "language": "python",
   "name": "python3"
  },
  "language_info": {
   "codemirror_mode": {
    "name": "ipython",
    "version": 3
   },
   "file_extension": ".py",
   "mimetype": "text/x-python",
   "name": "python",
   "nbconvert_exporter": "python",
   "pygments_lexer": "ipython3",
   "version": "3.9.0"
  }
 },
 "nbformat": 4,
 "nbformat_minor": 4
}
