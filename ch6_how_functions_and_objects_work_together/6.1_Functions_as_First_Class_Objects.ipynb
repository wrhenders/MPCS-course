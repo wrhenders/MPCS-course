{
 "cells": [
  {
   "cell_type": "markdown",
   "metadata": {},
   "source": [
    "### [Video Explanation Here!](https://youtu.be/vWi8luPDkFg)\n",
    "\n",
    "In Python, functions are objects, which means we can: \n",
    "  - Store functions in variables \n",
    "  - Pass functions as parameter to another function \n",
    "  - Return functions within other functions \n",
    "  - Store functions within other data structures (i.e, lists, dictionaries, sets, etc.) \n",
    "  \n",
    "The ``def`` statement is an executable statement that binds a name to the function object: "
   ]
  },
  {
   "cell_type": "code",
   "execution_count": null,
   "metadata": {},
   "outputs": [],
   "source": [
    "def echo(message):\n",
    "    print(message)\n",
    "\n",
    "def echo(message):\n",
    "    print(f'{message} ... {message}')\n",
    "    \n",
    "print(f'echo = {echo}')\n",
    "print(f'type of echo = {type(echo)}')"
   ]
  },
  {
   "cell_type": "code",
   "execution_count": null,
   "metadata": {},
   "outputs": [],
   "source": [
    "class Smingity:\n",
    "    def what():\n",
    "        pass\n",
    "\n",
    "Smingity.__dict__ #THIS IS NAUGTY DO NOT DO THIS, I'M JUST SHOWING YOU "
   ]
  },
  {
   "cell_type": "code",
   "execution_count": null,
   "metadata": {},
   "outputs": [],
   "source": [
    "# Since \"echo\" is just a variable. we can have multiple variables\n",
    "# reference the same object it points to. \n",
    "\n",
    "import sys\n",
    "print(sys.getrefcount(echo))\n",
    "\n",
    "x = echo \n",
    "y = echo \n",
    "\n",
    "print(sys.getrefcount(echo))"
   ]
  },
  {
   "cell_type": "code",
   "execution_count": null,
   "metadata": {},
   "outputs": [],
   "source": [
    "# Since \"y\", \"x\" and \"echo\" reference a function object, we can call \n",
    "# the function objects normally by using the variable names followed\n",
    "# by any required position arguments. \n",
    "x(\"Hello\")\n",
    "y(\"World\")"
   ]
  },
  {
   "cell_type": "code",
   "execution_count": null,
   "metadata": {},
   "outputs": [],
   "source": [
    "del x\n",
    "del y\n",
    "\n",
    "print(sys.getrefcount(echo))\n",
    "\n",
    "echo(\"Goodbye\")"
   ]
  },
  {
   "cell_type": "code",
   "execution_count": null,
   "metadata": {},
   "outputs": [],
   "source": [
    "#We can pass functions to other functions \n",
    "def echo(message):\n",
    "    print(message)\n",
    "    \n",
    "def indirect(func, arg):\n",
    "    func(arg)\n",
    "    \n",
    "indirect(echo, 'Argument call!')"
   ]
  },
  {
   "cell_type": "code",
   "execution_count": null,
   "metadata": {},
   "outputs": [],
   "source": [
    "# We can return functions within other functions \n",
    "def add(a, b):\n",
    "    return a + b\n",
    "\n",
    "def get_add_func():\n",
    "    return add \n",
    "\n",
    "adder = get_add_func()\n",
    "print(adder(\"hello \",\"world\"))"
   ]
  },
  {
   "cell_type": "markdown",
   "metadata": {},
   "source": [
    "### Anonymous (lambda) Functions \n",
    "\n",
    "Python also provides another way to generate function objects, via *anonymous functions* (aka lambda functions), which: \n",
    "\n",
    "-  Are expressions (not statements) that return a function object that can be called later  without providing a name (hence \"anonymous\") \n",
    "- Can be used in places where ``def`` statement is not syntactically legal (inside a literal list, inlined as a function argument, etc.) \n",
    "\n",
    "The body of a lambda function is a single expression, not a block of statements. \n",
    "    - The body is similar to a return statement in a  def statement  \n",
    "Syntax: ``lambda arg1,arg2,arg3,...,argN: expression``\n",
    "    "
   ]
  },
  {
   "cell_type": "code",
   "execution_count": null,
   "metadata": {},
   "outputs": [],
   "source": [
    "(lambda arg1, arg2: arg1 + arg2)(2,3)"
   ]
  },
  {
   "cell_type": "code",
   "execution_count": null,
   "metadata": {},
   "outputs": [],
   "source": [
    "lam = lambda x, y: x * y\n",
    "print(lam)"
   ]
  },
  {
   "cell_type": "code",
   "execution_count": null,
   "metadata": {},
   "outputs": [],
   "source": [
    "print(lam(2,3)) "
   ]
  },
  {
   "cell_type": "code",
   "execution_count": null,
   "metadata": {},
   "outputs": [],
   "source": [
    "# Notice this just returns the function object. It does not execute\n",
    "# the object. \n",
    "lambda a,b,c: a + b + c"
   ]
  },
  {
   "cell_type": "markdown",
   "metadata": {},
   "source": [
    "#### Why use lambda functions? \n",
    "\n",
    ">\"Lambda comes in handy as a sort of function shorthand that allows you to embed a function’s definition within the code that uses it\" <cite> Learning Python, 2013 </cite> \n",
    "\n",
    "- One use (of many) for lambdas is for *jump tables*,  which are lists or dictionaries of actions to be performed on demand"
   ]
  },
  {
   "cell_type": "code",
   "execution_count": null,
   "metadata": {},
   "outputs": [],
   "source": [
    "powers = [\n",
    "    lambda x: x ** 0,    \n",
    "    lambda x: x ** 1,    \n",
    "    lambda x: x ** 2,    \n",
    "    lambda x: x ** 3, \n",
    "    lambda x: x ** 4\n",
    "]       "
   ]
  },
  {
   "cell_type": "code",
   "execution_count": null,
   "metadata": {},
   "outputs": [],
   "source": [
    "for power in powers: print(power(2)) "
   ]
  },
  {
   "cell_type": "code",
   "execution_count": null,
   "metadata": {},
   "outputs": [],
   "source": [
    "print(powers[0](3))         "
   ]
  },
  {
   "cell_type": "code",
   "execution_count": null,
   "metadata": {},
   "outputs": [],
   "source": []
  }
 ],
 "metadata": {
  "kernelspec": {
   "display_name": "Python 3",
   "language": "python",
   "name": "python3"
  },
  "language_info": {
   "codemirror_mode": {
    "name": "ipython",
    "version": 3
   },
   "file_extension": ".py",
   "mimetype": "text/x-python",
   "name": "python",
   "nbconvert_exporter": "python",
   "pygments_lexer": "ipython3",
   "version": "3.8.5"
  }
 },
 "nbformat": 4,
 "nbformat_minor": 4
}
