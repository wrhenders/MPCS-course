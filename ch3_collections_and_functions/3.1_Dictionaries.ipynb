{
 "cells": [
  {
   "cell_type": "markdown",
   "metadata": {},
   "source": [
    "### Video Explanation [Available Here](https://www.youtube.com/watch?v=bODBNuuJHlc)!\n",
    "\n",
    "\n",
    "### Dictionaries \n",
    "\n",
    "We already learned about lists, which allow you to store a collection of Python objects, indexed with an integer.\n",
    "\n",
    "A dictionary allows you to store a collection of Python objects indexed with _any_ hashable type (most of the time in practice, people use a string)."
   ]
  },
  {
   "cell_type": "markdown",
   "metadata": {},
   "source": [
    "#### Dictionary Literals \n",
    "\n",
    "  ![alt text](../images/dictionary_literals.png \"Learning Python 2013\") -- <cite>Learning Python 2013</cite>\n"
   ]
  },
  {
   "cell_type": "markdown",
   "metadata": {},
   "source": [
    "#### Dictionary Operations \n",
    "\n",
    "Basic dictionary operations include: \n",
    " - Accessing a value ``D[key]`` and modifying key-value pairs ``D[key]=new_value``.\n",
    "         \n",
    " - Retrieving the length (``len``), key membership checking (``in``), and creating lists (``list``)\n",
    " "
   ]
  },
  {
   "cell_type": "code",
   "execution_count": null,
   "metadata": {},
   "outputs": [],
   "source": [
    "# Creating a dictionary literal \n",
    "test_averages={'test1':84, 'test2':76, 'test3':94}"
   ]
  },
  {
   "cell_type": "code",
   "execution_count": null,
   "metadata": {},
   "outputs": [],
   "source": [
    "# Accessing a value \n",
    "test_averages['test1']"
   ]
  },
  {
   "cell_type": "markdown",
   "metadata": {},
   "source": [
    "If you try to access a key that isn't in the dictionary, you'll get a `KeyError`"
   ]
  },
  {
   "cell_type": "code",
   "execution_count": null,
   "metadata": {},
   "outputs": [],
   "source": [
    "test_averages['test4']"
   ]
  },
  {
   "cell_type": "markdown",
   "metadata": {},
   "source": [
    "You can use the `get` method instead, which returns None if the key isn't in the dictionary."
   ]
  },
  {
   "cell_type": "code",
   "execution_count": null,
   "metadata": {},
   "outputs": [],
   "source": [
    "print(test_averages.get('test4'))"
   ]
  },
  {
   "cell_type": "markdown",
   "metadata": {},
   "source": [
    "You can even give it a default value to return instead in that case:"
   ]
  },
  {
   "cell_type": "code",
   "execution_count": null,
   "metadata": {},
   "outputs": [],
   "source": [
    "print(test_averages.get('test5', 'DEFAULT!'))"
   ]
  },
  {
   "cell_type": "code",
   "execution_count": null,
   "metadata": {},
   "outputs": [],
   "source": [
    "# Changing a key's value\n",
    "test_averages['test3'] = 96"
   ]
  },
  {
   "cell_type": "code",
   "execution_count": null,
   "metadata": {},
   "outputs": [],
   "source": [
    "# Now we see the update to the dictionary \n",
    "test_averages"
   ]
  },
  {
   "cell_type": "code",
   "execution_count": null,
   "metadata": {},
   "outputs": [],
   "source": [
    "# Using 'in' checks to see if a key inside the dictionary \n",
    "print('test2' in test_averages)\n",
    "\n",
    "# 'Bob' is not a key in the test_averages dictionary\n",
    "print('Bob' in test_averages)\n",
    "\n",
    "# This is false because 96 is a value in the dictionary and not a key!\n",
    "print(96 in test_averages)"
   ]
  },
  {
   "cell_type": "code",
   "execution_count": null,
   "metadata": {},
   "outputs": [],
   "source": [
    "# Number of (key,value) entries in the dictionary \n",
    "len(test_averages)"
   ]
  },
  {
   "cell_type": "code",
   "execution_count": null,
   "metadata": {},
   "outputs": [],
   "source": [
    "# Create a list of keys. Use the .keys method to retrieve all the keys \n",
    "# in the dictionary \n",
    "keys = list(test_averages.keys())\n",
    "print(keys)\n",
    "print('---')\n",
    "\n",
    "# Create a list of values. Use the .values method to retrieve all the keys \n",
    "# in the dictionary \n",
    "values = list(test_averages.values())\n",
    "print(values)\n"
   ]
  },
  {
   "cell_type": "markdown",
   "metadata": {},
   "source": [
    "#### Mutability of Dictionaries\n",
    "\n",
    "Dictionaries are mutable, so you can change, expand, and shrink them in place without making new dictionaries."
   ]
  },
  {
   "cell_type": "code",
   "execution_count": null,
   "metadata": {},
   "outputs": [],
   "source": [
    "# Lets a define a new dictionary \n",
    "D = {'eggs': 3, 'spam':2, 'ham': 1}"
   ]
  },
  {
   "cell_type": "code",
   "execution_count": null,
   "metadata": {},
   "outputs": [],
   "source": [
    "# Change an entry, we already saw this above\n",
    "D['ham'] = ['grill','bake','fry']\n",
    "D"
   ]
  },
  {
   "cell_type": "code",
   "execution_count": null,
   "metadata": {},
   "outputs": [],
   "source": [
    "# Delete an entry in the dictionary \n",
    "# Syntax: del dictionary_name[key]\n",
    "del D['eggs']\n",
    "D"
   ]
  },
  {
   "cell_type": "code",
   "execution_count": null,
   "metadata": {},
   "outputs": [],
   "source": [
    "# Add a new entry is just the same syntax as updating an entry \n",
    "# We are going to add 'brunch' as a key and the value of 'Bacon'\n",
    "D['brunch'] = 'Bacon'\n",
    "D"
   ]
  },
  {
   "cell_type": "code",
   "execution_count": null,
   "metadata": {},
   "outputs": [],
   "source": [
    "### For loop idioms with dictionaries \n",
    "test_averages={'test1':84,'test2':76,'test3':94}\n",
    "\n",
    "# For loop 'in' idiom returns all the keys in the dictionary \n",
    "for key in test_averages:\n",
    "    print(key)"
   ]
  },
  {
   "cell_type": "code",
   "execution_count": null,
   "metadata": {},
   "outputs": [],
   "source": [
    "# Use the .items() method to return the key-value pair entries \n",
    "for key, value in test_averages.items():\n",
    "    fmt_str = f'Key = {key}, value = {value}'\n",
    "    print(fmt_str)"
   ]
  },
  {
   "cell_type": "markdown",
   "metadata": {},
   "source": [
    "#### Dictionary methods \n",
    "\n",
    "  ![alt text](../images/dictionary_methods.png \"Learning Python 2013\") -- <cite>Learning Python 2013</cite>\n",
    "  \n",
    "Documentation:https://docs.python.org/3/library/stdtypes.html#typesmapping2Source: \n"
   ]
  },
  {
   "cell_type": "markdown",
   "metadata": {},
   "source": [
    "#### Dictionary View Objects \n",
    "\n",
    "The objects returned by ``dict.keys()``, ``dict.values()`` and ``dict.items()`` are *view objects*:\n",
    "\n",
    " - Provide a dynamic view on the dictionary’s entries, which means that when the dictionary changes the view reflects these changes.\n",
    " \n",
    " - Advantage to these views is that they require a small and fixed amount of memory and processor time."
   ]
  },
  {
   "cell_type": "code",
   "execution_count": null,
   "metadata": {},
   "outputs": [],
   "source": [
    "dishes = {'eggs':2,'sausage':1,'bacon':1,'spam':500}"
   ]
  },
  {
   "cell_type": "code",
   "execution_count": null,
   "metadata": {},
   "outputs": [],
   "source": [
    "# Keys is a view object of the keys from the dishes dictionary\n",
    "keys = dishes.keys() \n",
    "values = dishes.values() \n",
    "items  = dishes.items() \n",
    "\n",
    "print(keys)\n",
    "print(values)\n",
    "print(items)"
   ]
  },
  {
   "cell_type": "code",
   "execution_count": null,
   "metadata": {},
   "outputs": [],
   "source": [
    "# View objects are dynamic and reflect dictionary changes \n",
    "\n",
    "# Lets delete the 'eggs' entry \n",
    "del dishes['eggs']\n",
    "\n",
    "# Notice the both the views have removed key and its value \n",
    "print(keys)\n",
    "print(values)\n",
    "print(items)"
   ]
  },
  {
   "cell_type": "code",
   "execution_count": null,
   "metadata": {},
   "outputs": [],
   "source": []
  }
 ],
 "metadata": {
  "kernelspec": {
   "display_name": "Python 3",
   "language": "python",
   "name": "python3"
  },
  "language_info": {
   "codemirror_mode": {
    "name": "ipython",
    "version": 3
   },
   "file_extension": ".py",
   "mimetype": "text/x-python",
   "name": "python",
   "nbconvert_exporter": "python",
   "pygments_lexer": "ipython3",
   "version": "3.9.0"
  }
 },
 "nbformat": 4,
 "nbformat_minor": 1
}
