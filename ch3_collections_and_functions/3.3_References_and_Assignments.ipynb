{
 "cells": [
  {
   "cell_type": "markdown",
   "metadata": {},
   "source": [
    "### Video Explanation [Available Here](https://www.youtube.com/watch?v=Qr9pQS22iZw)!\n",
    "\n",
    "\n",
    "### References & Assignments \n",
    "\n",
    "All data/values in Python are **objects**: pieces of memory with values (state) and associated operations (behavior). \n",
    "\n",
    "- For example, Numeric objects (ints, float, complex) with their assoicated arithmetic operations (+,-,/). "
   ]
  },
  {
   "cell_type": "markdown",
   "metadata": {},
   "source": [
    "#### Types Live With Objects, Not Variables \n",
    "\n",
    "- Variables in Python are referred to as *names* or *identifiers* \n",
    "- Name binding is the association of a name with an object (value)\n",
    " \n",
    "  ![alt text](../images/shared_ref1.png \"Learning Python 2013\") -- <cite>Learning Python 2013</cite>\n",
    "  \n",
    "- A names does not uniquely identify an object! "
   ]
  },
  {
   "cell_type": "markdown",
   "metadata": {},
   "source": [
    "#### Shared References \n",
    "\n",
    "Setting a variable to a new value does not alter the original object, but rather causes the variable to reference an entirely different object."
   ]
  },
  {
   "cell_type": "code",
   "execution_count": null,
   "metadata": {},
   "outputs": [],
   "source": [
    "x = 10 \n",
    "y = x \n",
    "x = 20 \n",
    "y\n",
    "\n",
    "y = \"hello\"\n",
    "y"
   ]
  },
  {
   "cell_type": "markdown",
   "metadata": {},
   "source": [
    "Be careful when working with *mutable* objects and in-place changes:"
   ]
  },
  {
   "cell_type": "code",
   "execution_count": null,
   "metadata": {},
   "outputs": [],
   "source": [
    "x = [1,2,3]\n",
    "y = x \n",
    "x.append(4)\n",
    "print(y)\n",
    "print(x)"
   ]
  },
  {
   "cell_type": "markdown",
   "metadata": {},
   "source": [
    "#### Identity \n",
    "\n",
    "The built-in ``id(...)`` function returns the  *identity* of an object, which is an integer value guaranteed to be unique and constant for lifetime of object"
   ]
  },
  {
   "cell_type": "code",
   "execution_count": null,
   "metadata": {},
   "outputs": [],
   "source": [
    "x = \"MPCS\"\n",
    "print(id(x)) # Unique integer-value for the object pointed by x"
   ]
  },
  {
   "cell_type": "markdown",
   "metadata": {},
   "source": [
    "In the CPython Interpeter (i.e., the one we are using in this class), it is the address of the memory location storing the object. \n",
    "\n",
    "Objects having the same value can have different identities:"
   ]
  },
  {
   "cell_type": "code",
   "execution_count": null,
   "metadata": {},
   "outputs": [],
   "source": [
    "fruit1 = ('Apples', 4)\n",
    "fruit2 = ('Apples', 4)\n",
    "\n",
    "print(f'Fruit1 id = {id(fruit1)}\\nFruit2 id = {id(fruit2)}')"
   ]
  },
  {
   "cell_type": "markdown",
   "metadata": {},
   "source": [
    "#### Equality vs. Identity\n",
    "\n",
    "Two different ways of testing for ``equality\":\n",
    "\n",
    " - **Equality operator**(``==``): Returns true if two objects are equal (i.e., have the same value)\n",
    " - **Identity operator**(``is``): Returns true if two objects identities are the same: \n",
    "             a is b <==> id(a) == id(b) \n"
   ]
  },
  {
   "cell_type": "code",
   "execution_count": null,
   "metadata": {},
   "outputs": [],
   "source": [
    "fruit1 is fruit2"
   ]
  },
  {
   "cell_type": "code",
   "execution_count": null,
   "metadata": {},
   "outputs": [],
   "source": [
    "a = [1, 2, 3]\n",
    "b = [1, 2, 3]\n",
    "a == b"
   ]
  },
  {
   "cell_type": "code",
   "execution_count": null,
   "metadata": {},
   "outputs": [],
   "source": [
    "print(id(a))\n",
    "print(id(b))\n",
    "print(a is b) # The id values are different"
   ]
  },
  {
   "cell_type": "markdown",
   "metadata": {},
   "source": [
    "### Object Creation \n",
    "\n",
    " > Each time you generate a new value in your script by running an expression, Python creates a new object (i.e., a chunk of memory) to represent that value.  -- <cite>Learning Python 2013</cite>\n",
    " \n",
    "  Not fully true, CPython caches and reuses some immutable objects to save time and memory: "
   ]
  },
  {
   "cell_type": "code",
   "execution_count": null,
   "metadata": {},
   "outputs": [],
   "source": [
    "# CPython caches small integers \n",
    "a = 1000 \n",
    "b = 1000 \n",
    "\n",
    "# Makes sense two different integer objects so they have different ids\n",
    "print(a is b)  "
   ]
  },
  {
   "cell_type": "code",
   "execution_count": null,
   "metadata": {},
   "outputs": [],
   "source": [
    "a = 100 \n",
    "b = 100 \n",
    "\n",
    "# However, for small integer objects, CPython caches them \n",
    "# this means that a and b point to the same object \n",
    "print(a is b)"
   ]
  },
  {
   "cell_type": "code",
   "execution_count": null,
   "metadata": {},
   "outputs": [],
   "source": [
    "# CPython does the same for short strings \n",
    "str1 = 'MPCS'\n",
    "str2 = 'MPCS'\n",
    "str1 is str2"
   ]
  },
  {
   "cell_type": "markdown",
   "metadata": {},
   "source": [
    "#### Copying Objects \n",
    "\n",
    "If ``y = x`` does not make a copy, how does one get a copy? \n",
    "\n",
    " - The ``copy`` module provies functions for generating **shallow** and **deep** copies:\n",
    "    - Shallow copy: constructs a new compound object and then inserts references into it of the objects found in the original.\n",
    "    - Deep copy: constructs a new compound object and then, recursively, inserts copies into it from the objects found in the original object."
   ]
  },
  {
   "cell_type": "code",
   "execution_count": null,
   "metadata": {},
   "outputs": [],
   "source": [
    "# Shallow Copy example \n",
    "import copy\n",
    "\n",
    "x = [[1, 2], [3, 4]]\n",
    "y = copy.copy(x)\n",
    "\n",
    "print(x is y)\n",
    "print(y[0] is x[0])"
   ]
  },
  {
   "cell_type": "code",
   "execution_count": null,
   "metadata": {},
   "outputs": [],
   "source": [
    "#For sequences, you can also make a shallow copy with a slice:\n",
    "\n",
    "z = x[:]\n",
    "print(x is z)"
   ]
  },
  {
   "cell_type": "code",
   "execution_count": null,
   "metadata": {},
   "outputs": [],
   "source": [
    "# Deep copy example \n",
    "z = copy.deepcopy(x)\n",
    "z[0] is x[0]"
   ]
  },
  {
   "cell_type": "markdown",
   "metadata": {},
   "source": [
    "#### Garbage Collection \n",
    "\n",
    "> Whenever a name is assigned to a new object, the space held by the prior object is reclaimed if it is not referenced by any other name or object. This automatic reclamation of objects' space is known as **garbage collection** -- <cite>Learning Python 2013</cite>\n",
    "\n",
    "Behind the scenes, an object has two header fields: \n",
    " - Type designator: The object's type (a pointer to an object of type type)\n",
    " - Reference counter: Count of names/objects referencing the object\n",
    "\n",
    "Python interpreter will reclaim an object's memory exactly when the objects' reference count drops to zero.\n",
    "  - Reclaimed memory is free to be used for future objects. "
   ]
  },
  {
   "cell_type": "code",
   "execution_count": null,
   "metadata": {},
   "outputs": [],
   "source": [
    "import sys\n",
    "intel_amd_apple = ['Intel', 'AMD', 'Apple']\n",
    "\n",
    "sys.getrefcount(intel_amd_apple)"
   ]
  },
  {
   "cell_type": "markdown",
   "metadata": {},
   "source": [
    "Why do you think there are there TWO references instead of one?"
   ]
  },
  {
   "cell_type": "markdown",
   "metadata": {},
   "source": [
    "### Deleting Names \n",
    "\n",
    "Use the ``del`` statement to explicitly remove a predefined variable"
   ]
  },
  {
   "cell_type": "code",
   "execution_count": null,
   "metadata": {},
   "outputs": [],
   "source": [
    "y = x\n",
    "del x\n",
    "y"
   ]
  },
  {
   "cell_type": "code",
   "execution_count": null,
   "metadata": {},
   "outputs": [],
   "source": [
    "# Trying to access x will cause an error because you deleted the name.\n",
    "x"
   ]
  },
  {
   "cell_type": "code",
   "execution_count": null,
   "metadata": {},
   "outputs": [],
   "source": [
    "# Deleting a name does not delete an object. \n",
    "# Deletion just decreases the reference count for the \n",
    "# associated object.  \n",
    "del y[1:]\n",
    "y"
   ]
  },
  {
   "cell_type": "markdown",
   "metadata": {},
   "source": [
    "#### Multiple Assigment Summary \n",
    "\n",
    "![alt text](../images/assignment_forms.png \"Learning Python 2013\") -- <cite>Learning Python 2013</cite>\n",
    "\n"
   ]
  },
  {
   "cell_type": "code",
   "execution_count": null,
   "metadata": {},
   "outputs": [],
   "source": [
    "spam = ham = 'lunch'\n",
    "print(spam)\n",
    "print(ham)"
   ]
  },
  {
   "cell_type": "code",
   "execution_count": null,
   "metadata": {},
   "outputs": [],
   "source": [
    "# Deep Nesting example \n",
    "((lst,num),y), letter  = [((['a','b'],3), 4), 'a'] \n",
    "print(lst)\n",
    "print(num)"
   ]
  }
 ],
 "metadata": {
  "kernelspec": {
   "display_name": "Python 3",
   "language": "python",
   "name": "python3"
  },
  "language_info": {
   "codemirror_mode": {
    "name": "ipython",
    "version": 3
   },
   "file_extension": ".py",
   "mimetype": "text/x-python",
   "name": "python",
   "nbconvert_exporter": "python",
   "pygments_lexer": "ipython3",
   "version": "3.9.0"
  }
 },
 "nbformat": 4,
 "nbformat_minor": 1
}
