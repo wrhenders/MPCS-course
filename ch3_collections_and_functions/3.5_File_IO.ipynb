{
 "cells": [
  {
   "cell_type": "markdown",
   "metadata": {},
   "source": [
    "### Video Explanation [Available Here](https://www.youtube.com/watch?v=OJFmJM-tjEY)!\n",
    "\n",
    "\n",
    "### File I/O \n",
    "\n",
    "Often times when programming, you may need to read some data from a file. The common pattern with working with file data is the following. \n",
    "\n",
    "1. Read the contents of a file (or files) and load them into the program (sometimes referrred to as \"loading into memory\"). \n",
    "    - This means we read in the contents from a file and place it inside of a data structure for further processing. \n",
    "    \n",
    "2. Manipulate the data in some way. \n",
    "\n",
    "3. (Optional) Write the data back to disk. \n",
    "\n",
    "**Note**: When working with large files, it may be more efficient to slectively access parts of the file (to avoid reading in the whole dataset into memory); however, we will not worry about that case. "
   ]
  },
  {
   "cell_type": "markdown",
   "metadata": {},
   "source": [
    "#### Reading from a File \n",
    "\n",
    "--> This is the content of the file ``uchicago-emails.txt``\n",
    "\n",
    "    bob@uchicago.edu \n",
    "    philb@uchicago.edu \n",
    "    sally@uchicago.edu \n",
    "    rebeccaw@uchicago.edu \n",
    "    joan@uchicago.edu\n",
    "\n",
    "This is a text file with five lines. Files can also contain binary data, but we will not work with that format for now. \n",
    "\n",
    "To access the contents of a file, we first need to open it: \n"
   ]
  },
  {
   "cell_type": "code",
   "execution_count": null,
   "metadata": {},
   "outputs": [],
   "source": [
    "f = open('../uchicago-emails.txt')"
   ]
  },
  {
   "cell_type": "markdown",
   "metadata": {},
   "source": [
    "``f`` is a file object. Here are some command operations on file objects. "
   ]
  },
  {
   "cell_type": "markdown",
   "metadata": {},
   "source": [
    "Reading the entire contents of the file "
   ]
  },
  {
   "cell_type": "code",
   "execution_count": null,
   "metadata": {},
   "outputs": [],
   "source": [
    "emails = f.read()"
   ]
  },
  {
   "cell_type": "code",
   "execution_count": null,
   "metadata": {},
   "outputs": [],
   "source": [
    "emails"
   ]
  },
  {
   "cell_type": "markdown",
   "metadata": {},
   "source": [
    "As you can see ``.read()`` returns the entire contents of the file as a string. "
   ]
  },
  {
   "cell_type": "code",
   "execution_count": null,
   "metadata": {},
   "outputs": [],
   "source": [
    "print(emails)"
   ]
  },
  {
   "cell_type": "markdown",
   "metadata": {},
   "source": [
    "When reading from a file, the OS keeps track of the position it has read. In this case, the file pointer has already reached the end-of-file (or EOF). So, if I call read() again, I don't get the contents of the file."
   ]
  },
  {
   "cell_type": "code",
   "execution_count": null,
   "metadata": {},
   "outputs": [],
   "source": [
    "more_data = f.read()"
   ]
  },
  {
   "cell_type": "code",
   "execution_count": null,
   "metadata": {},
   "outputs": [],
   "source": [
    "print(more_data)"
   ]
  },
  {
   "cell_type": "markdown",
   "metadata": {},
   "source": [
    "When you reach EOF, `read()` returns the empty string."
   ]
  },
  {
   "cell_type": "markdown",
   "metadata": {},
   "source": [
    "### Closing a File \n",
    "\n",
    "You should close a file when you no longer need it by calling the ``close()`` method on the file object. \n",
    "\n",
    "**Note**: Once you close the file you no longer have access to it. "
   ]
  },
  {
   "cell_type": "code",
   "execution_count": null,
   "metadata": {},
   "outputs": [],
   "source": [
    "f.close()"
   ]
  },
  {
   "cell_type": "markdown",
   "metadata": {},
   "source": [
    "**Why is it important to close a file?**\n",
    "\n",
    " 1. It frees resources associated with the file \n",
    " 2. When writing to a file, it ensures the actual contents get written to disk. \n",
    " \n",
    "\n",
    "You can also use the ``with`` statement to ensure that file is closed once we're don with it. This is an example of a **context manager**, which we will learn more about later. \n",
    "\n",
    "**Note**: This is the more common way to work with a file in Python. "
   ]
  },
  {
   "cell_type": "code",
   "execution_count": null,
   "metadata": {},
   "outputs": [],
   "source": [
    "with open('../uchicago-emails.txt') as file: \n",
    "    emails = file.read() \n",
    "    print(emails.split())"
   ]
  },
  {
   "cell_type": "markdown",
   "metadata": {},
   "source": [
    "At the end of the ``with`` block, file ``f`` is automatically closed. "
   ]
  },
  {
   "cell_type": "markdown",
   "metadata": {},
   "source": [
    "#### Reading lines within a File \n",
    "\n",
    "A file object is an iterable object so you can use for loop to iterate over its contents:"
   ]
  },
  {
   "cell_type": "code",
   "execution_count": null,
   "metadata": {},
   "outputs": [],
   "source": [
    "with open('../uchicago-emails.txt') as file:\n",
    "    for line in file: \n",
    "        print(line)"
   ]
  },
  {
   "cell_type": "markdown",
   "metadata": {},
   "source": [
    "*Why the extra empty line?*\n",
    " - Each line includes a newline at the end, and print() adds a newline as well.\n",
    "\n",
    "When reading lines from a file, we will usually want to use the strip() method to remove any leading and trailing whitespace (including newlines):"
   ]
  },
  {
   "cell_type": "code",
   "execution_count": null,
   "metadata": {},
   "outputs": [],
   "source": [
    "with open(\"../uchicago-emails.txt\") as f:\n",
    "    for line in f:\n",
    "        print(line.strip())"
   ]
  },
  {
   "cell_type": "markdown",
   "metadata": {},
   "source": [
    "#### Loading data into a data structure "
   ]
  },
  {
   "cell_type": "code",
   "execution_count": null,
   "metadata": {},
   "outputs": [],
   "source": [
    "emails = []\n",
    "with open(\"../uchicago-emails.txt\") as f:\n",
    "    for line in f:\n",
    "        email = line.strip()\n",
    "        emails.append(email)"
   ]
  },
  {
   "cell_type": "code",
   "execution_count": null,
   "metadata": {},
   "outputs": [],
   "source": [
    "emails"
   ]
  },
  {
   "cell_type": "markdown",
   "metadata": {},
   "source": [
    "#### Writing data to a file \n",
    "\n",
    "You can use the ``open(..)`` function from before to write to a file. You specify an additional argument (i.e., the mode) with the string ``'w'``. "
   ]
  },
  {
   "cell_type": "code",
   "execution_count": null,
   "metadata": {},
   "outputs": [],
   "source": [
    "with open(\"names.txt\", \"w\") as f:\n",
    "    f.write(\"Bob\\n\")\n",
    "    f.write(\"Phil\\n\")\n",
    "    f.write(\"Sally\\n\")\n",
    "    f.write(\"Rebecca\\n\")\n",
    "    f.write(\"Joan\\n\")"
   ]
  },
  {
   "cell_type": "markdown",
   "metadata": {},
   "source": [
    "**Very important**: If you open an existing file in write mode, it will wipe all its contents! If you open a file that doesn't exist, it will create the file. \n",
    "\n",
    "You can use `open(\"a_file.txt','a')` to append to a file"
   ]
  },
  {
   "cell_type": "code",
   "execution_count": null,
   "metadata": {},
   "outputs": [],
   "source": [
    "with open(\"names.txt\", 'a') as f:\n",
    "    f.write(\"Tim\\n\")"
   ]
  },
  {
   "cell_type": "markdown",
   "metadata": {},
   "source": [
    "*Tip*: Use the ``print`` function to include the newline by default.  "
   ]
  },
  {
   "cell_type": "code",
   "execution_count": null,
   "metadata": {},
   "outputs": [],
   "source": [
    "with open(\"names2.txt\", \"w\") as f:\n",
    "    print(\"Bob\", file=f)\n",
    "    print(\"Sally\", file=f)\n",
    "    print(\"Joe\", file=f)"
   ]
  },
  {
   "cell_type": "markdown",
   "metadata": {},
   "source": [
    "#### Reading, Manipulating, and Writing Data "
   ]
  },
  {
   "cell_type": "code",
   "execution_count": null,
   "metadata": {},
   "outputs": [],
   "source": [
    "# Transform the data\n",
    "cnetids = []\n",
    "for email in emails:\n",
    "    cnetid, domain = email.split(\"@\")\n",
    "    cnetids.append(cnetid)\n",
    "    \n",
    "cnetids"
   ]
  },
  {
   "cell_type": "code",
   "execution_count": null,
   "metadata": {},
   "outputs": [],
   "source": [
    "# Write the data\n",
    "with open(\"uchicago-cnetids.txt\", \"w\") as f:\n",
    "    for cnetid in cnetids:\n",
    "        print(cnetid, file=f)\n",
    "\n",
    "open('uchicago-cnetids.txt').read()"
   ]
  },
  {
   "cell_type": "markdown",
   "metadata": {},
   "source": [
    "#### Other Useful File Methods \n",
    "![alt text](../images/files.png \"Learning Python 2013\") -- <cite>Learning Python 2013</cite>"
   ]
  }
 ],
 "metadata": {
  "kernelspec": {
   "display_name": "Python 3",
   "language": "python",
   "name": "python3"
  },
  "language_info": {
   "codemirror_mode": {
    "name": "ipython",
    "version": 3
   },
   "file_extension": ".py",
   "mimetype": "text/x-python",
   "name": "python",
   "nbconvert_exporter": "python",
   "pygments_lexer": "ipython3",
   "version": "3.9.0"
  }
 },
 "nbformat": 4,
 "nbformat_minor": 1
}
