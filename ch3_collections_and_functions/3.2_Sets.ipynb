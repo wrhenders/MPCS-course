{
 "cells": [
  {
   "cell_type": "markdown",
   "metadata": {},
   "source": [
    "### Video Explanation [Available Here](https://www.youtube.com/watch?v=-M2Np1QDX_A)!\n",
    "\n",
    "\n",
    "### Sets \n",
    "\n",
    "A set is a collection of unordered, unique, immutable values."
   ]
  },
  {
   "cell_type": "code",
   "execution_count": null,
   "metadata": {},
   "outputs": [],
   "source": [
    "# Defining a set using '{...}' syntax \n",
    "colors={'red','black','white','blue'}\n",
    "colors "
   ]
  },
  {
   "cell_type": "code",
   "execution_count": null,
   "metadata": {},
   "outputs": [],
   "source": [
    "# Defining a set using the 'set(iterable)' syntax \n",
    "colors2=set([\"red\",\"blue\",\"black\",\"blue\",\"blue\"])\n",
    "\n",
    "# Notice there are no duplicates{'black','blue','red'}\n",
    "colors2"
   ]
  },
  {
   "cell_type": "code",
   "execution_count": null,
   "metadata": {},
   "outputs": [],
   "source": [
    "#Note: You can't use a literal to create an empty set because Python thinks it's a dictionary\n",
    "\n",
    "new_variable = {}\n",
    "type(new_variable)"
   ]
  },
  {
   "cell_type": "code",
   "execution_count": null,
   "metadata": {},
   "outputs": [],
   "source": [
    "#Here is a hack to get around that\n",
    "\n",
    "new_variable = {1}\n",
    "new_variable.remove(1)\n",
    "type(new_variable)"
   ]
  },
  {
   "cell_type": "markdown",
   "metadata": {},
   "source": [
    "You can even convert a set from a string, though I confess I'm not clear why you would do this."
   ]
  },
  {
   "cell_type": "code",
   "execution_count": null,
   "metadata": {},
   "outputs": [],
   "source": [
    "#The following creates a set of single strings 'a','b','c','d','e'\n",
    "# and another set of single strings 'b','d','x','y','z'\n",
    "A = set('abcde')\n",
    "B = set('bdxyz')\n",
    "\n",
    "print(A)\n",
    "print(\"--\")\n",
    "print(B)"
   ]
  },
  {
   "cell_type": "markdown",
   "metadata": {},
   "source": [
    "###  Set Theory Operations \n",
    "\n",
    "Sets are fundamentally mathematical in nature and contain operations based on set theory.  They allow the following operations:  \n",
    "  \n",
    "### Union (``union()`` or ``|``}: A set containing all elements that are in both sets\n",
    "  "
   ]
  },
  {
   "cell_type": "code",
   "execution_count": null,
   "metadata": {},
   "outputs": [],
   "source": [
    "# Union Operation \n",
    "new_set = A | B \n",
    "print(new_set)\n",
    "print('---')\n",
    "new_set = A.union(B) # Same operation as above but using method \n",
    "print(new_set)"
   ]
  },
  {
   "cell_type": "markdown",
   "metadata": {},
   "source": [
    "### Difference (``difference()`` or ``-``): A set that consists of elements that are in one set but not the other.\n",
    "  \n",
    "  **Fun language fact:** In Ruby, you can subtract Arrays: `arr = [1, 2, 3] - [1, 3]` will give you a, `arr` of `[2]` in Ruby. \n",
    "  \n",
    "  Python _does not_ support this: you have to convert the lists to sets in order to do this, so the same operation in Python would have to be `arr = list(set([1, 2, 3]) - set([1, 3]))`.\n",
    "  \n",
    "  Why do you think this is?"
   ]
  },
  {
   "cell_type": "code",
   "execution_count": null,
   "metadata": {},
   "outputs": [],
   "source": [
    "# Difference Operation \n",
    "new_set = A - B \n",
    "print(new_set)\n",
    "new_set = B.difference(A)\n",
    "print(new_set)"
   ]
  },
  {
   "cell_type": "markdown",
   "metadata": {},
   "source": [
    "### Intersection (``intersection`` or ``&``): A set that consists of all elements that are in both sets. "
   ]
  },
  {
   "cell_type": "code",
   "execution_count": null,
   "metadata": {},
   "outputs": [],
   "source": [
    "# Intersection Operation \n",
    "new_set = A & B \n",
    "print(new_set)\n",
    "print('---')\n",
    "new_set = A.intersection(B) # same operation as above but using method \n",
    "print(new_set)"
   ]
  },
  {
   "cell_type": "markdown",
   "metadata": {},
   "source": [
    "### Set Methods \n",
    "\n",
    "The set object provides methods that support set changes, in-place unions, and deletions of items from the set\n",
    "\n",
    "Documentation:https://docs.python.org/3/library/stdtypes.html#set13/30\n"
   ]
  },
  {
   "cell_type": "code",
   "execution_count": null,
   "metadata": {},
   "outputs": [],
   "source": [
    "letters={'a','b','c'} "
   ]
  },
  {
   "cell_type": "code",
   "execution_count": null,
   "metadata": {},
   "outputs": [],
   "source": [
    "# Add a new item to the set \n",
    "letters.add('d') \n",
    "letters"
   ]
  },
  {
   "cell_type": "code",
   "execution_count": null,
   "metadata": {},
   "outputs": [],
   "source": [
    "# Merge: This is a in-place union \n",
    "letters.update(set(['x','y','a','b']))\n",
    "letters "
   ]
  },
  {
   "cell_type": "code",
   "execution_count": null,
   "metadata": {},
   "outputs": [],
   "source": [
    "# Delete on item \n",
    "letters.remove('a') \n",
    "letters "
   ]
  },
  {
   "cell_type": "code",
   "execution_count": null,
   "metadata": {},
   "outputs": [],
   "source": [
    "# Simple iteration through a set using a for-loop \n",
    "letters = {'a','b','c'} \n",
    "for item in letters: \n",
    "    print(item)"
   ]
  },
  {
   "cell_type": "markdown",
   "metadata": {},
   "source": [
    "### Immutable Constraints on Sets \n",
    "\n",
    "- Sets can only contain immutable (a.k.a. “hashable”) object types. \n",
    "- Lists and dictionaries cannot be embedded in sets, but tuples can if you need to store compound values"
   ]
  },
  {
   "cell_type": "code",
   "execution_count": null,
   "metadata": {},
   "outputs": [],
   "source": [
    "S = {1.23}"
   ]
  },
  {
   "cell_type": "code",
   "execution_count": null,
   "metadata": {},
   "outputs": [],
   "source": [
    "# Running this code section will through an error because lists are\n",
    "# not hashable types \n",
    "S.add([1,2,3])"
   ]
  },
  {
   "cell_type": "code",
   "execution_count": null,
   "metadata": {},
   "outputs": [],
   "source": [
    "# Running this code section will through an error because dictionaries are\n",
    "# not hashable types \n",
    "S.add({'a':1})"
   ]
  },
  {
   "cell_type": "code",
   "execution_count": null,
   "metadata": {},
   "outputs": [],
   "source": [
    "# This is the same for dictionary types. The keys must be immutable \n",
    "# therefore a key cannot be a list or another dictionary. \n",
    "d = {'a': 1, 'b':2}\n",
    "d[['a']] = 3"
   ]
  },
  {
   "cell_type": "code",
   "execution_count": null,
   "metadata": {},
   "outputs": [],
   "source": [
    "# However, tuples work because they immutable. \n",
    "S.add((1,2,3))\n",
    "S"
   ]
  },
  {
   "cell_type": "code",
   "execution_count": null,
   "metadata": {},
   "outputs": [],
   "source": [
    "# Sets themselves are mutable too, and so cannot be nested \n",
    "# in other sets directly.\n",
    "S.add(set((1,2,3)))\n",
    "S"
   ]
  },
  {
   "cell_type": "code",
   "execution_count": null,
   "metadata": {},
   "outputs": [],
   "source": [
    "# Use the built-in 'frozenset' function (creates an immutable set) \n",
    "# that can embedded other sets. Works just like sets\n",
    "f_set = frozenset([1,2,3])\n",
    "print(f_set) \n",
    "\n",
    "print(\"---\")\n",
    "S.add(f_set)\n",
    "print(S)"
   ]
  },
  {
   "cell_type": "code",
   "execution_count": null,
   "metadata": {},
   "outputs": [],
   "source": [
    "f_set.append(8)"
   ]
  },
  {
   "cell_type": "code",
   "execution_count": null,
   "metadata": {},
   "outputs": [],
   "source": []
  }
 ],
 "metadata": {
  "kernelspec": {
   "display_name": "Python 3",
   "language": "python",
   "name": "python3"
  },
  "language_info": {
   "codemirror_mode": {
    "name": "ipython",
    "version": 3
   },
   "file_extension": ".py",
   "mimetype": "text/x-python",
   "name": "python",
   "nbconvert_exporter": "python",
   "pygments_lexer": "ipython3",
   "version": "3.9.0"
  }
 },
 "nbformat": 4,
 "nbformat_minor": 4
}
