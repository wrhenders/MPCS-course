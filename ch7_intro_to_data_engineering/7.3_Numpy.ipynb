{
 "cells": [
  {
   "cell_type": "markdown",
   "metadata": {},
   "source": [
    "### [Video Explanation Here!](https://youtu.be/xMkRYYz14gc)\n",
    "\n",
    "### Python `List`s are great! \n",
    "\n",
    "A `list` in Python:\n",
    "\n",
    "- heterogenous collection \n",
    "- of varied length\n",
    "\n",
    "```\n",
    "up_to_ten = list(range(10))\n",
    "days_week = [{1: \"Monday\"}, {2:\"Tuesday\"}, \"Wednesday\" ]\n",
    "```\n",
    "\n",
    "As a heterogenous collection the `list` must container members that understand:\n",
    "\n",
    "- their own type\n",
    "- their reference count\n",
    "- and other fundamental information\n",
    "\n",
    "If our list is only a `list` of `int`, we are repeating a significant amount of information!"
   ]
  },
  {
   "cell_type": "markdown",
   "metadata": {},
   "source": [
    "### NumPy Array vs Python List\n",
    "\n",
    "NumPy array is fixed-type, and a pointer to a continuous row of data yielding the following advantages:\n",
    "\n",
    "- Less to store!\n",
    "- Easier to manipulate!\n",
    "\n",
    "**Note: Python has a fixed-type array but it lacks the operational efficiency of NumPy arrays**"
   ]
  },
  {
   "cell_type": "code",
   "execution_count": null,
   "metadata": {},
   "outputs": [],
   "source": [
    "import array\n",
    "\n",
    "up_to_ten = list(array.array(\n",
    "    'i', range(10) # i specifies type\n",
    ")) \n",
    "help(array.array)"
   ]
  },
  {
   "cell_type": "markdown",
   "metadata": {},
   "source": [
    "### Working with NumPy Arrays"
   ]
  },
  {
   "cell_type": "code",
   "execution_count": null,
   "metadata": {},
   "outputs": [],
   "source": [
    "import numpy as np"
   ]
  },
  {
   "cell_type": "code",
   "execution_count": null,
   "metadata": {},
   "outputs": [],
   "source": [
    "evens_up_to_ten = np.array(range(2,10)) \n",
    "print(evens_up_to_ten)"
   ]
  },
  {
   "cell_type": "code",
   "execution_count": null,
   "metadata": {},
   "outputs": [],
   "source": [
    "evens_up_to_ten_again = np.array([2.0,5,6,8,10.0])\n",
    "print(evens_up_to_ten_again)"
   ]
  },
  {
   "cell_type": "markdown",
   "metadata": {},
   "source": [
    "**Remember: NumPy arrays are *fixed* type, so in the second example above we see that NumPy casts the `int` to a `float64`**"
   ]
  },
  {
   "cell_type": "code",
   "execution_count": null,
   "metadata": {},
   "outputs": [],
   "source": [
    "print(type(evens_up_to_ten[0]))\n",
    "print(type(evens_up_to_ten_again[1]))"
   ]
  },
  {
   "cell_type": "code",
   "execution_count": null,
   "metadata": {},
   "outputs": [],
   "source": [
    "help(np.array([2.0,5,6,8,10.0]))"
   ]
  },
  {
   "cell_type": "code",
   "execution_count": null,
   "metadata": {},
   "outputs": [],
   "source": [
    "evens_up_to_ten_third = np.array([2.0,5,6,8,10.0], dtype='float32')\n",
    "print(type(evens_up_to_ten_third[1]))"
   ]
  },
  {
   "cell_type": "markdown",
   "metadata": {},
   "source": [
    "Some of the standard data types in NumPy:\n",
    "\n",
    "| Type | Explanation |\n",
    "| -- | -- |\n",
    "| int8 | Byte (-128 to 127) |\n",
    "| int16 | Integer (-32768 to 32767) |\n",
    "| int32 | Integer (-2147483648 to 2147483647) |\n",
    "| int64 | Integer (-9223372036854775808 to 9223372036854775807) |\n",
    "\n",
    "For the rest you can read [here](https://jakevdp.github.io/PythonDataScienceHandbook/02.01-understanding-data-types.html#NumPy-Standard-Data-Types)."
   ]
  },
  {
   "cell_type": "markdown",
   "metadata": {},
   "source": [
    "### Multidemensional NumPy Arrays!\n",
    "\n",
    "Our previous examples are all one-axis (or one-dimensional) arrays. However we can have many dimensions! You can observe the number of axes (or dimensions) in your ndarray with `rank`, `ndim`, and `shape`."
   ]
  },
  {
   "cell_type": "code",
   "execution_count": null,
   "metadata": {},
   "outputs": [],
   "source": [
    "many_dimensions = np.array([\n",
    "    [1.1,1.2,1.3],\n",
    "    [2.1,2.2,2.3]\n",
    "], dtype='float32')\n",
    "\n",
    "print(many_dimensions[0,1])        # 0th element, 1st element\n",
    "print(many_dimensions[0,:])        # All of 0th element\n",
    "print(many_dimensions[0:2,2:4])    # Only subset of 0th and 1st element "
   ]
  },
  {
   "cell_type": "code",
   "execution_count": null,
   "metadata": {},
   "outputs": [],
   "source": [
    "print(many_dimensions.shape)  # axes X len(array)\n",
    "print(many_dimensions.size)   # Number of elements in the array on all axes\n",
    "print(many_dimensions.ndim)"
   ]
  },
  {
   "cell_type": "markdown",
   "metadata": {},
   "source": [
    "### Other useful NumPy array attributes\n",
    "\n",
    "- `dtype` to tell you the type of your elements\n",
    "- `nbytes` size of array in bytes\n",
    "- `itemsize` size of each element in bytes"
   ]
  },
  {
   "cell_type": "markdown",
   "metadata": {},
   "source": [
    "### Populating NumPy Arrays!\n",
    "\n",
    "There are a few methods available for you to populate an ndarray such as:\n",
    "\n",
    "- `zeros` which accepts a parameter for number of zeros or a tuple representing the desired shape and `dtype`\n",
    "- `ones` which has the same parameters as `zero`\n",
    "- `full` which rather than a `dtype` takes in a value to populate with"
   ]
  },
  {
   "cell_type": "code",
   "execution_count": null,
   "metadata": {},
   "outputs": [],
   "source": [
    "zeros_arr = np.zeros(10, dtype='float64')\n",
    "ones_arr = np.ones((3,3), dtype='int64')\n",
    "pi_arr = np.full((2,2), 3.14)\n",
    "\n",
    "print(zeros_arr)\n",
    "print(\"---------\")\n",
    "print(ones_arr)\n",
    "print(\"---------\")\n",
    "print(pi_arr)"
   ]
  },
  {
   "cell_type": "markdown",
   "metadata": {},
   "source": [
    "There are more ways to fill your arrays too, here are some others:\n",
    "\n",
    "- `np.random.random` to create a uniformly-distributed array with balues between 0 to 1\n",
    "- `np.arange` to create a linear sequence stepping with given value\n",
    "- `np.linspace` create values evenly spaced between start and endpoint"
   ]
  },
  {
   "cell_type": "code",
   "execution_count": null,
   "metadata": {},
   "outputs": [],
   "source": [
    "random_two_by_two = np.random.random((2,2))\n",
    "by_three = np.arange(9,21,3)\n",
    "up_to_six = np.linspace(0,1,6)\n",
    "\n",
    "print(random_two_by_two)\n",
    "print(\"---------\")\n",
    "print(by_three)\n",
    "print(\"---------\")\n",
    "print(up_to_six)"
   ]
  },
  {
   "cell_type": "markdown",
   "metadata": {},
   "source": [
    "Lastly, you can create an identity matrix as such with `eye`"
   ]
  },
  {
   "cell_type": "code",
   "execution_count": null,
   "metadata": {},
   "outputs": [],
   "source": [
    "four_by_four = np.eye(4)\n",
    "print(four_by_four.shape)\n",
    "print(four_by_four)"
   ]
  },
  {
   "cell_type": "markdown",
   "metadata": {},
   "source": [
    "### Changing the shape of an NumPy array!\n",
    "\n",
    "There are a few options available to change your array shape including:\n",
    "\n",
    "- `reshape` - to specify the desired dimensions and length so long as the original size matches the resulting size\n",
    "- `resize` - to resize in place\n",
    "- `ravel` - to flatten into a 1D array"
   ]
  },
  {
   "cell_type": "code",
   "execution_count": null,
   "metadata": {},
   "outputs": [],
   "source": [
    "many_dimensions = np.array([\n",
    "    [1.1,1.2,1.3,1.4,1.5],\n",
    "    [2.1,2.2,2.3,2.4,2.5]\n",
    "], dtype='float32')\n",
    "\n",
    "reshaped = many_dimensions.reshape(5,2)\n",
    "print(reshaped)\n",
    "print(reshaped.ravel())\n",
    "many_dimensions.resize(2,5)\n",
    "print(many_dimensions)"
   ]
  },
  {
   "cell_type": "markdown",
   "metadata": {},
   "source": [
    "### Working with NumPy arrays continued: Concatenation of NumPy Arrays\n",
    "\n",
    "- `np.concatenate` concatenate!\n",
    "- `np.vstack` vertically stack the arrays\n",
    "- `np.hstack` horizontally stack the arrays"
   ]
  },
  {
   "cell_type": "code",
   "execution_count": null,
   "metadata": {},
   "outputs": [],
   "source": [
    "x = np.array([1,2,3])\n",
    "y = np.array([6,5,4])\n",
    "z = np.array([9,10,11])\n",
    "print(np.concatenate([x, y]))\n",
    "print(np.concatenate([x, y, z]))"
   ]
  },
  {
   "cell_type": "code",
   "execution_count": null,
   "metadata": {},
   "outputs": [],
   "source": [
    "# concatenate multidimensional arrays!\n",
    "\n",
    "up_to_six = np.array([\n",
    "    [1,2,3],\n",
    "    [4,5,6]\n",
    "])\n",
    "pi_arr = np.full((2,3), 3.14)\n",
    "\n",
    "print(np.concatenate([\n",
    "    up_to_six, pi_arr\n",
    "]))"
   ]
  },
  {
   "cell_type": "code",
   "execution_count": null,
   "metadata": {},
   "outputs": [],
   "source": [
    "# Vertically stack the arrays! \n",
    "\n",
    "print(np.vstack([\n",
    "    up_to_six, pi_arr\n",
    "]))"
   ]
  },
  {
   "cell_type": "code",
   "execution_count": null,
   "metadata": {},
   "outputs": [],
   "source": [
    "# Horizontally stack the arrays! \n",
    "\n",
    "print(np.hstack([\n",
    "    up_to_six, pi_arr\n",
    "]))"
   ]
  },
  {
   "cell_type": "markdown",
   "metadata": {},
   "source": [
    "### Splitting!\n",
    "\n",
    "Provide a list of indices where to split using:\n",
    "- `np.split` - into multiple subarrays\n",
    "- `np.hsplit` - horizontal\n",
    "- `np.vsplit` - vertical"
   ]
  },
  {
   "cell_type": "code",
   "execution_count": null,
   "metadata": {},
   "outputs": [],
   "source": [
    "multi_dimensional = np.hstack([\n",
    "    up_to_six, pi_arr\n",
    "])\n",
    "one, two = np.split(multi_dimensional, 2)\n",
    "print(one)\n",
    "print(two)\n",
    "print(one.shape)\n",
    "print(\"=======\")\n",
    "left, right = np.hsplit(multi_dimensional, 2)\n",
    "print(left)\n",
    "print(right)"
   ]
  },
  {
   "cell_type": "markdown",
   "metadata": {},
   "source": [
    "NumPy provides operations optimized for computation on arrays of data. The key to making it fast is to use vectorized operations, generally implemented through NumPy's universal functions (ufuncs).\n",
    "\n",
    "Other implementations of Python have sought to overcome Python's slowness due to the overhead spent on type checking like:\n",
    "\n",
    "- Cython\n",
    "- PyPy\n",
    "- Numba\n",
    "\n",
    "Vectorized operations via ufuncs is another workaround: Ufuncs are optimized to execute repeated operations on ... NumPy arrays ... they gain a larger advantage as the arrays go larger\n",
    "\n",
    "To \"vectorize\" the operation, is to push the loop into the compiled layer underlying NumPy"
   ]
  },
  {
   "cell_type": "markdown",
   "metadata": {},
   "source": [
    "### Array Arithmetic\n",
    "\n",
    "Ufuncs can operator on two inputs - single (unary) and two (binary). These make use of Python's native arithmetic operators (e.g. \"+\")."
   ]
  },
  {
   "cell_type": "code",
   "execution_count": null,
   "metadata": {},
   "outputs": [],
   "source": [
    "arr = np.arange(4)\n",
    "print(\"x     =\", arr)\n",
    "print(\"x + 5 =\", arr + 5)\n",
    "print(\"x - 5 =\", arr - 5)\n",
    "print(\"x * 2 =\", arr * 2)\n",
    "print(\"x / 2 =\", arr / 2)\n",
    "print(\"x // 2 =\", arr // 2)  # floor division"
   ]
  },
  {
   "cell_type": "code",
   "execution_count": null,
   "metadata": {},
   "outputs": [],
   "source": [
    "-(0.5*x + 1) ** 2  # You can combine into a single operation too!"
   ]
  },
  {
   "cell_type": "markdown",
   "metadata": {},
   "source": [
    "The arithmetic operators call the NumPy ufuncs:\n",
    "\n",
    "| Operator | ufunc |\n",
    "| -- | -- |\n",
    "| + | np.add |\n",
    "| - | np.subtract | \n",
    "| - | np.negative (e.g. unary negation) |\n",
    "| * | np.multiply |\n",
    "| / | np.divide |\n",
    "| // | np.floor_divide | \n",
    "| ** | np.power | \n",
    "| % | np.mod |\n",
    "\n",
    "Additional UFuncs include:\n",
    "\n",
    "- trigonometric functions like `sin`, `cos`, `theta`\n",
    "- exponents and logarithms like `exp` and `power`\n",
    "- specialized funcs UFuncs in `scipy.special`"
   ]
  },
  {
   "cell_type": "markdown",
   "metadata": {},
   "source": [
    "### Aggregation Functions\n",
    "\n",
    "Many included such as: `sum`, `min`, `max`, `std`, and more! For entire list see [here](https://jakevdp.github.io/PythonDataScienceHandbook/02.04-computation-on-arrays-aggregates.html#Other-aggregation-functions)."
   ]
  },
  {
   "cell_type": "code",
   "execution_count": null,
   "metadata": {},
   "outputs": [],
   "source": [
    "r = np.random.random(100)\n",
    "# print(r)\n",
    "print(np.sum(r))\n",
    "print(np.min(r))\n",
    "print(np.max(r))\n",
    "print(np.mean(r))\n",
    "print(np.std(r))\n",
    "print(np.argmin(r))\n",
    "print(np.argmax(r))\n",
    "print(np.percentile(r, 25))\n",
    "print(np.median(r))\n",
    "print(np.var(r))"
   ]
  },
  {
   "cell_type": "markdown",
   "metadata": {},
   "source": [
    "### Operations on NumPy Arrays: Broadcasting\n",
    "\n",
    "Binary operations can be applied to not only on arrays of the same size (e.g. `a + b` where a and b are both same size) but on arrays of different sizes:"
   ]
  },
  {
   "cell_type": "code",
   "execution_count": null,
   "metadata": {},
   "outputs": [],
   "source": [
    "a = np.full((1,5), 1)\n",
    "a"
   ]
  },
  {
   "cell_type": "code",
   "execution_count": null,
   "metadata": {},
   "outputs": [],
   "source": [
    "print(a)\n",
    "print(a + 2)"
   ]
  },
  {
   "cell_type": "code",
   "execution_count": null,
   "metadata": {},
   "outputs": [],
   "source": [
    "b = np.ones((3,5))\n",
    "b"
   ]
  },
  {
   "cell_type": "code",
   "execution_count": null,
   "metadata": {},
   "outputs": [],
   "source": [
    "print(a + b)"
   ]
  },
  {
   "cell_type": "markdown",
   "metadata": {},
   "source": [
    "The smaller array, a is being stretched or broadcast over the larger array, b's second dimension to match its shape.\n",
    "\n",
    "**Note: No extra memory is allocated**\n",
    "\n",
    "**Rules**\n",
    "- 1: If the two arrays differ in their number of dimensions, the shape of the one with fewer dimensions is padded with ones on its leading (left) side.\n",
    "- 2: If the shape of the two arrays does not match in any dimension, the array with shape equal to 1 in that dimension is stretched to match the other shape.\n",
    "- 3: If in any dimension the sizes disagree and neither is equal to 1, an error is raised.\n"
   ]
  },
  {
   "cell_type": "markdown",
   "metadata": {},
   "source": [
    "### Comparison Operators\n",
    "\n",
    "NumPy also implements comparison operators such as < (less than) and > (greater than) as element-wise ufuncs:.\n",
    "\n",
    "| Operator | UFunc |\n",
    "| -- | -- |\n",
    "| == | np.equal |\n",
    "| != | np.not_equal |\n",
    "| < | np.less |\n",
    "| <= | np.less_equal |\n",
    "| > | np.greater |\n",
    "| >= | np.greater_equal | "
   ]
  },
  {
   "cell_type": "code",
   "execution_count": null,
   "metadata": {},
   "outputs": [],
   "source": [
    "# Again work on arrays of any size and shape!\n",
    "\n",
    "random_arr = np.random.randint(100, size=(4,4))\n",
    "print(random_arr)\n",
    "print(random_arr < 6)"
   ]
  },
  {
   "cell_type": "markdown",
   "metadata": {},
   "source": [
    "Additionally like the `any` and `all` functions in Python, NumPy has an implementation too that:\n",
    "\n",
    "- `any` - will be True is any value meets requirement\n",
    "- `all` - will be True is ALL values meet requirement"
   ]
  },
  {
   "cell_type": "code",
   "execution_count": null,
   "metadata": {},
   "outputs": [],
   "source": [
    "print(f'Max value: {random_arr.max()}')\n",
    "\n",
    "print(np.any(random_arr < 0))\n",
    "print(np.any(random_arr < 89))\n",
    "print(np.any(random_arr < 90))\n",
    "print(\"--------\")\n",
    "print(np.all(random_arr < 91))\n",
    "print(np.all(random_arr <= 90))\n",
    "print(np.all(random_arr < 89))"
   ]
  },
  {
   "cell_type": "markdown",
   "metadata": {},
   "source": [
    "### Boolean Logical Operators as UFuncs\n",
    "\n",
    "We don't use the `and` and `or` keywordsbecause they will effectively evaluate the truthor falsehood of the entire object. Instead, we'reinterested in the bits within each object. We'reperforming multiple Boolean evaluations onthe content of the object.\n",
    "\n",
    "| Operator | UFunc |\n",
    "| -- | -- |\n",
    "| & | np.bitwise_and |\n",
    "| pipe| np.bitwise_or |\n",
    "| ^ | np.bitwise_xor |\n",
    "| ~ | np.bitwise_not |"
   ]
  },
  {
   "cell_type": "markdown",
   "metadata": {},
   "source": [
    "### Boolean Arrays as Masks\n",
    "\n",
    "Using Boolean arrays as masks to select specific subsets can be useful!\n"
   ]
  },
  {
   "cell_type": "code",
   "execution_count": null,
   "metadata": {},
   "outputs": [],
   "source": [
    "random_arr = np.random.randint(200, size=(6,))\n",
    "print(random_arr)\n",
    "print((random_arr > 50) & (random_arr < 160))\n",
    "print(random_arr[(random_arr > 50) & (random_arr < 160)])"
   ]
  },
  {
   "cell_type": "markdown",
   "metadata": {},
   "source": [
    "### Fancy Indexing\n",
    "\n",
    "With fancy indexing, we can pass an array or list into square brackets to samplethe original array. The shape of the result reflects the shape of the index arrays,rather than the shape of the array being indexed."
   ]
  },
  {
   "cell_type": "code",
   "execution_count": null,
   "metadata": {},
   "outputs": [],
   "source": [
    "random_arr = np.random.randint(200, size=(10,))\n",
    "print(random_arr)\n",
    "indexes = [3,6,9]\n",
    "print(random_arr[indexes])"
   ]
  },
  {
   "cell_type": "code",
   "execution_count": null,
   "metadata": {},
   "outputs": [],
   "source": [
    "indexes_two = np.array([[0, 9], [2, 7]])\n",
    "print(random_arr[indexes_two])"
   ]
  },
  {
   "cell_type": "markdown",
   "metadata": {},
   "source": [
    "### Sorting Arrays\n",
    "\n",
    "Python has built-in `sort` and `sorted` functions. NumPy's `np.sort` function is much more efficient. `np.sort` uses `O(n*lg n)` (`quicksort`), but `mergesort` and `heapsort` are available."
   ]
  },
  {
   "cell_type": "code",
   "execution_count": null,
   "metadata": {},
   "outputs": [],
   "source": [
    "random_arr = np.random.randint(200, size=(10,))\n",
    "print(random_arr)\n",
    "print('----')\n",
    "print(np.sort(random_arr))\n",
    "print(np.argsort(random_arr))   # Shows the index of the original position before sorting"
   ]
  },
  {
   "cell_type": "markdown",
   "metadata": {},
   "source": [
    "### Structured Arrays\n",
    "\n",
    "NumPy's structured arrays or record arrays provide efficient storage forcompound, heterogeneous date:"
   ]
  },
  {
   "cell_type": "code",
   "execution_count": null,
   "metadata": {},
   "outputs": [],
   "source": [
    "names = ['James T Kirk', 'Jean-Luc Picard', 'Benjamin Sisko', 'Kathryn Janeway', 'Jonathan Archer', 'Gabriel Lorca', 'Saru']\n",
    "ranking = [7, 1, 2, 3, 6, 5, 4]\n",
    "\n",
    "# Create structure aray with all zeros\n",
    "star_trek_captains = np.zeros(7, dtype={'names': ('name', 'ranking'), 'formats': ('U15', 'i4')})\n",
    "\n",
    "# Populate with data!\n",
    "star_trek_captains['name'] = names\n",
    "star_trek_captains['ranking'] = ranking\n",
    "\n",
    "# Sort based on my very biased ranking!\n",
    "star_trek_captains = np.sort(star_trek_captains, order='ranking')\n",
    "\n",
    "print(star_trek_captains)\n",
    "print(star_trek_captains.shape)\n",
    "print(star_trek_captains.ndim)"
   ]
  },
  {
   "cell_type": "markdown",
   "metadata": {},
   "source": [
    "NumPy's structured arrays or record arrays provide efficient storage forcompound, heterogeneous data:"
   ]
  },
  {
   "cell_type": "code",
   "execution_count": null,
   "metadata": {},
   "outputs": [],
   "source": [
    "print(f' My favorite Star Trek Captain is: {star_trek_captains[0][\"name\"]}!')"
   ]
  },
  {
   "cell_type": "code",
   "execution_count": null,
   "metadata": {},
   "outputs": [],
   "source": []
  }
 ],
 "metadata": {
  "kernelspec": {
   "display_name": "Python 3",
   "language": "python",
   "name": "python3"
  },
  "language_info": {
   "codemirror_mode": {
    "name": "ipython",
    "version": 3
   },
   "file_extension": ".py",
   "mimetype": "text/x-python",
   "name": "python",
   "nbconvert_exporter": "python",
   "pygments_lexer": "ipython3",
   "version": "3.9.0"
  }
 },
 "nbformat": 4,
 "nbformat_minor": 4
}
