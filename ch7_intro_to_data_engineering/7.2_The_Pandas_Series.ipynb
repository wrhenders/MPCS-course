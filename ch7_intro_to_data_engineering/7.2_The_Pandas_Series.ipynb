{
 "cells": [
  {
   "cell_type": "markdown",
   "metadata": {},
   "source": [
    "### [Video Explanation Here!](https://youtu.be/yF7diKupK0o)\n",
    "\n",
    "### Pandas: Series Object\n",
    "A Series is a one-dimensional array of indexed data. It wraps:\n",
    "\n",
    "- A sequence of values (accessible via values attribute).\n",
    "- A sequence of indices (accessible via index attribute)."
   ]
  },
  {
   "cell_type": "code",
   "execution_count": null,
   "metadata": {},
   "outputs": [],
   "source": [
    "import pandas as pd\n",
    "data = pd.Series(range(10,20))\n",
    "print(data)"
   ]
  },
  {
   "cell_type": "code",
   "execution_count": null,
   "metadata": {},
   "outputs": [],
   "source": [
    "print(data.values)\n",
    "print(data.index)\n",
    "print(data.dtype)"
   ]
  },
  {
   "cell_type": "markdown",
   "metadata": {},
   "source": [
    "Data is accessible by offset (index) in square brackets."
   ]
  },
  {
   "cell_type": "code",
   "execution_count": null,
   "metadata": {},
   "outputs": [],
   "source": [
    "print(data[0])\n",
    "print(data[2:5])"
   ]
  },
  {
   "cell_type": "markdown",
   "metadata": {},
   "source": [
    "A Pandas Series has an explicit index that may consist of values of any type."
   ]
  },
  {
   "cell_type": "code",
   "execution_count": null,
   "metadata": {},
   "outputs": [],
   "source": [
    "data = pd.Series(range(10,20), index=['ten', 'eleven', '12', 13, 14, 15, 16, 17, 18, 19])\n",
    "print(data['ten'])\n",
    "print(data[19])\n",
    "print(data.index)"
   ]
  },
  {
   "cell_type": "markdown",
   "metadata": {},
   "source": [
    "There exists no requirement that an index be sequential."
   ]
  },
  {
   "cell_type": "code",
   "execution_count": null,
   "metadata": {},
   "outputs": [],
   "source": [
    "data = pd.Series(range(10,20), index=[20, 19, 18, 15, 14, 'six', 'eight', 'seven', 9, 10])\n",
    "print(data['six'])\n",
    "print(data['eight'])\n",
    "print(data.index)"
   ]
  },
  {
   "cell_type": "markdown",
   "metadata": {},
   "source": [
    "We may also consider a Pandas `Series` a specialized dictionary. Whereas a Python `dict` maps a set of arbitrary keys to a set of arbitrary values, a Series maps a set of typed keys to a set of typed values.\n",
    "\n",
    "This typing is important: the type of information of a Pandas `Series` makes it more efficient than a Python dictionary for certain operations."
   ]
  },
  {
   "cell_type": "code",
   "execution_count": null,
   "metadata": {},
   "outputs": [],
   "source": [
    "star_trek_captains = {\n",
    "    'Jean-luc Picard': 'STNG',\n",
    "    'James T. Kirk': 'TOG',\n",
    "    'Saru': 'Discovery',\n",
    "    'Benjamin Sisko': 'DS9',\n",
    "    'Kathryn Janeway': 'Voyager'\n",
    "}\n",
    "star_trek_captains_series = pd.Series(star_trek_captains)\n",
    "print(star_trek_captains_series)\n",
    "print(star_trek_captains_series['Kathryn Janeway'])"
   ]
  },
  {
   "cell_type": "markdown",
   "metadata": {},
   "source": [
    "The Series supports array-style operations, like slicing:"
   ]
  },
  {
   "cell_type": "code",
   "execution_count": null,
   "metadata": {},
   "outputs": [],
   "source": [
    "star_trek_captains_series['Saru': 'Kathryn Janeway']"
   ]
  },
  {
   "cell_type": "markdown",
   "metadata": {},
   "source": [
    "Pandas Series can be created from:\n",
    "\n",
    "- Lists: index defaults to sequence of integers. \n",
    "- Dictionaries: index defaults to sorted keys of the dictionary. \n",
    "- Scalars: value repeated to fill given index."
   ]
  },
  {
   "cell_type": "code",
   "execution_count": null,
   "metadata": {},
   "outputs": [],
   "source": [
    "pd.Series(42, index=[1, 2, 3])"
   ]
  },
  {
   "cell_type": "markdown",
   "metadata": {},
   "source": [
    "#### Data Indexing and Selection: Series"
   ]
  },
  {
   "cell_type": "code",
   "execution_count": null,
   "metadata": {},
   "outputs": [],
   "source": [
    "# Extend series\n",
    "print('===== Extend series =====')\n",
    "star_trek_captains['John Archer'] = 'Enterprise'\n",
    "print(star_trek_captains)"
   ]
  }
 ],
 "metadata": {
  "kernelspec": {
   "display_name": "Python 3",
   "language": "python",
   "name": "python3"
  },
  "language_info": {
   "codemirror_mode": {
    "name": "ipython",
    "version": 3
   },
   "file_extension": ".py",
   "mimetype": "text/x-python",
   "name": "python",
   "nbconvert_exporter": "python",
   "pygments_lexer": "ipython3",
   "version": "3.9.0"
  }
 },
 "nbformat": 4,
 "nbformat_minor": 4
}
