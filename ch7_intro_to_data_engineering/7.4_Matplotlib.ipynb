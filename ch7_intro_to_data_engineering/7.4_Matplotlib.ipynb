{
 "cells": [
  {
   "cell_type": "markdown",
   "metadata": {},
   "source": [
    "### [Video Explanation Here!](https://youtu.be/T5LtBQxSHv8)\n",
    "\n",
    "### Matplotlib\n",
    "\n",
    "Matplotlib is a multiplatform data visualization library built on NumPy arrays and designed to work with the broader SciPy stack. \n",
    "\n",
    "**Getting Started with `matplotlib`**\n",
    "\n",
    "1. To install: `pip install matplotlib` \n",
    "2. To embed matplotlib in the notebook run the `%matplotlib inline`"
   ]
  },
  {
   "cell_type": "code",
   "execution_count": null,
   "metadata": {},
   "outputs": [],
   "source": [
    "import sys\n",
    "!{sys.executable} -m pip install matplotlib \n",
    "\n",
    "%matplotlib inline"
   ]
  },
  {
   "cell_type": "code",
   "execution_count": null,
   "metadata": {},
   "outputs": [],
   "source": [
    "import matplotlib as mpl\n",
    "import matplotlib.pyplot as plt"
   ]
  },
  {
   "cell_type": "markdown",
   "metadata": {},
   "source": [
    "#### Basic Concepts\n",
    "\n",
    "- [`figure`](https://matplotlib.org/api/figure_api.html?highlight=figure#module-matplotlib.figure): A figure may contain 1+ axes (plots).\n",
    "\n",
    "- [`axes`](https://matplotlib.org/api/axes_api.html?highlight=axes#module-matplotlib.axes): The plot(s), a figure can include many axes. Axes have a title, an x-label, and a y-label.\n",
    "\n",
    "- [`axis`](https://matplotlib.org/api/axis_api.html?highlight=axis#module-matplotlib.axis): Number line like objects that generate the graph limits.\n",
    "\n",
    "- [`artist`](https://matplotlib.org/api/artist_api.html?highlight=artist#module-matplotlib.artist): Everything within a figure like `Text`, `Line2D`, and `collection` objects.  "
   ]
  },
  {
   "cell_type": "markdown",
   "metadata": {},
   "source": [
    "### Creating a plot\n",
    "\n",
    "1. Instantiate two `numpy` arrays\n",
    "2. Instantiate a [`plot`](https://matplotlib.org/api/_as_gen/matplotlib.pyplot.plot.html?highlight=plot#matplotlib.pyplot.plot) with those arrays\n",
    "3. `show` the plot"
   ]
  },
  {
   "cell_type": "code",
   "execution_count": null,
   "metadata": {},
   "outputs": [],
   "source": [
    "import numpy as np"
   ]
  },
  {
   "cell_type": "code",
   "execution_count": null,
   "metadata": {},
   "outputs": [],
   "source": [
    "arr_one = np.array([5,4,3,2,1])\n",
    "arr_two = np.array([1,2,3,4,5])\n",
    "plt.plot(arr_one, arr_two)\n",
    "plt.show()"
   ]
  },
  {
   "cell_type": "markdown",
   "metadata": {},
   "source": [
    "`plt.plot` when called as `plt.plot(x,y)` creates an array with the first array as the `x` coordinates and the second array as the `y` coordinates"
   ]
  },
  {
   "cell_type": "code",
   "execution_count": null,
   "metadata": {},
   "outputs": [],
   "source": [
    "help(plt.plot)"
   ]
  },
  {
   "cell_type": "code",
   "execution_count": null,
   "metadata": {},
   "outputs": [],
   "source": [
    "arr_one = np.array([10, 8, 6, 4])\n",
    "plt.plot(arr_one)\n",
    "plt.show()  # Uses the index of the input array as the x coordinates"
   ]
  },
  {
   "cell_type": "markdown",
   "metadata": {},
   "source": [
    "### Set the title, x label, and y label"
   ]
  },
  {
   "cell_type": "code",
   "execution_count": null,
   "metadata": {},
   "outputs": [],
   "source": [
    "arr_one = np.array([2,4,6,8,10])\n",
    "arr_two = np.arange(5)\n",
    "plt.title(\"Example plot\")\n",
    "plt.xlabel(\"X label\")\n",
    "plt.ylabel(\"Y label\")\n",
    "plt.plot(arr_one, arr_two)\n",
    "plt.show()"
   ]
  },
  {
   "cell_type": "markdown",
   "metadata": {},
   "source": [
    "### Plotting multiple lines"
   ]
  },
  {
   "cell_type": "code",
   "execution_count": null,
   "metadata": {},
   "outputs": [],
   "source": [
    "# Line 1\n",
    "arr_one = np.array([2,4,6,8,10])\n",
    "arr_two = np.arange(5)\n",
    "arr_two += 5\n",
    "plt.plot(arr_one, arr_two, 'ro')   # Plot with red circles\n",
    "\n",
    "# Line 2\n",
    "arr_three = np.array([2,4,6,8,10])\n",
    "arr_four = np.arange(5)\n",
    "arr_four += 7\n",
    "plt.plot(arr_three, arr_four, 'bo') # Plot with blue circles\n",
    "\n",
    "plt.title(\"Example plot\")\n",
    "plt.xlabel(\"X label\")\n",
    "plt.ylabel(\"Y label\")\n",
    "\n",
    "plt.show()"
   ]
  },
  {
   "cell_type": "markdown",
   "metadata": {},
   "source": [
    "### Plotting labelled data  \n",
    "\n",
    "First let's review NumPy structured arrays:"
   ]
  },
  {
   "cell_type": "code",
   "execution_count": null,
   "metadata": {},
   "outputs": [],
   "source": [
    "names = ['James T Kirk', 'Jean-Luc Picard', 'Benjamin Sisko', 'Kathryn Janeway', 'Jonathan Archer', 'Gabriel Lorca', 'Saru']\n",
    "ranking = [7, 1, 2, 3, 6, 5, 4]\n",
    "\n",
    "# Create structure aray with all zeros\n",
    "star_trek_captains = np.zeros(7, dtype={'names': ('name', 'ranking'), 'formats': ('U15', 'i4')})\n",
    "\n",
    "# Populate with data!\n",
    "star_trek_captains['name'] = names\n",
    "star_trek_captains['ranking'] = ranking\n",
    "\n",
    "# Sort based on my very biased ranking!\n",
    "star_trek_captains = np.sort(star_trek_captains, order='ranking')\n",
    "\n",
    "print(star_trek_captains)\n",
    "print(star_trek_captains.shape)    # row X col\n",
    "print(star_trek_captains.ndim)     # num of dimensions"
   ]
  },
  {
   "cell_type": "code",
   "execution_count": null,
   "metadata": {},
   "outputs": [],
   "source": [
    "# Line 1\n",
    "name = ['Alice', 'Bob', 'Cathy', 'Doug']\n",
    "age = [25, 45, 37, 19]\n",
    "weight = [55.0, 85.5, 68.0, 61.5]\n",
    "data = np.zeros(4, dtype={'names':('name', 'age', 'weight'),\n",
    "                          'formats':('U10', 'i4', 'f8')})\n",
    "\n",
    "data['name'] = name\n",
    "data['age'] = age\n",
    "data['weight'] = weight\n",
    "\n",
    "plt.plot(data['age'],data['weight'],'bo')\n",
    "\n",
    "for val in data:\n",
    "\n",
    "    label = f'{val[\"name\"]}'\n",
    "\n",
    "    plt.annotate(label, # this is the text\n",
    "                 (val['age'],val['weight']), # this is the point to label\n",
    "                 textcoords=\"offset points\", # how to position the text\n",
    "                 xytext=(0,10), # distance from text to points (x,y)\n",
    "                 ha='center') # horizontal alignment can be left, right or center\n",
    "\n",
    "\n",
    "plt.title(\"Person by age and weight\")\n",
    "plt.xlabel(\"Age\")\n",
    "plt.ylabel(\"Weight\")\n",
    "\n",
    "plt.show()"
   ]
  },
  {
   "cell_type": "code",
   "execution_count": null,
   "metadata": {},
   "outputs": [],
   "source": [
    "help(plt.annotate)"
   ]
  },
  {
   "cell_type": "markdown",
   "metadata": {},
   "source": [
    "### Plotting Multiple Plots in One Figure\n",
    "\n",
    "Using `plt.subplot` we can add more than one plot to a figure. `plt.subplot` accepts three arguments:\n",
    "\n",
    "- `nrows`\n",
    "- `ncols`\n",
    "- `index`"
   ]
  },
  {
   "cell_type": "code",
   "execution_count": null,
   "metadata": {},
   "outputs": [],
   "source": [
    "x = np.arange(1,5)\n",
    "y = x**3\n",
    "\n",
    "plt.subplot(1,2,1)\n",
    "plt.plot([1,2,3,4],[1,4,9,16],'go')\n",
    "plt.title(\"Squares\")\n",
    "\n",
    "plt.subplot(1,2,2)\n",
    "plt.plot(x,y,'r^')\n",
    "plt.title(\"Cubes\")\n",
    "\n",
    "plt.show()"
   ]
  },
  {
   "cell_type": "markdown",
   "metadata": {},
   "source": [
    "Making your sub-plots like this can become repetative, therefore we can make many subplots at once with `plt.subplots`, this accepts:\n",
    "\n",
    "- `nrows`\n",
    "- `ncols` \n",
    "\n",
    "Upon using `plt.subplots` you get two objects: `figure`, and `axes`"
   ]
  },
  {
   "cell_type": "code",
   "execution_count": null,
   "metadata": {},
   "outputs": [],
   "source": [
    "x = np.arange(1,5)\n",
    "y = x**3\n",
    "fig, ax = plt.subplots(nrows=2, ncols=2, figsize=(6,6))\n",
    "ax[0,1].plot([1,2,3,4],[1,4,9,16],'go')\n",
    "ax[1,0].plot(x,y,'r^')\n",
    "ax[0,1].set_title(\"Squares\")\n",
    "ax[1,0].set_title(\"Cubes\")\n",
    "ax[1, 1].plot(x,y,'bo')\n",
    "ax[1,1].set_title(\"Cubes but in Blue\")\n",
    "\n",
    "plt.show()"
   ]
  },
  {
   "cell_type": "markdown",
   "metadata": {},
   "source": [
    "### Making other types of graphs\n",
    "\n",
    "You can also make:\n",
    "\n",
    "- bar graphs\n",
    "- pie charts\n",
    "- histograms\n",
    "- scatter plots and 3D plotting"
   ]
  },
  {
   "cell_type": "code",
   "execution_count": null,
   "metadata": {},
   "outputs": [],
   "source": [
    "figure = plt.figure()\n",
    "ax = figure.add_axes([0,0,1,1])\n",
    "languages = ['C', 'C++', 'Java', 'Python', 'PHP']\n",
    "students = [23, 17, 35, 29, 12]\n",
    "ax.bar(languages,students)\n",
    "plt.title('Students Language Preference')\n",
    "plt.xlabel('Languages')\n",
    "plt.ylabel('Students')\n",
    "plt.show()"
   ]
  },
  {
   "cell_type": "code",
   "execution_count": null,
   "metadata": {},
   "outputs": [],
   "source": [
    "languages = ['C', 'C++', 'Java', 'Python', 'PHP']\n",
    "students = [23, 17, 35, 29, 12]\n",
    "explode = [0,0.1,0,0,0]\n",
    "plt.pie(students,explode=explode,labels=languages,shadow=True,startangle=45)\n",
    "plt.axis('equal')\n",
    "plt.legend(languages)\n",
    "plt.show()"
   ]
  },
  {
   "cell_type": "code",
   "execution_count": null,
   "metadata": {},
   "outputs": [],
   "source": [
    "np.random.seed(42)\n",
    "x = np.random.normal(size=1000)\n",
    "plt.hist(x, density=True, bins=30)  # `density=False` would make counts\n",
    "plt.ylabel('Probability')\n",
    "plt.xlabel('Data')"
   ]
  },
  {
   "cell_type": "code",
   "execution_count": null,
   "metadata": {},
   "outputs": [],
   "source": [
    "grade = [1, 2, 3, 4, 5]\n",
    "students = [23, 17, 35, 29, 12]\n",
    "plt.xlim(0,40)  # Set limits of x and y\n",
    "plt.ylim(0,6)\n",
    "plt.scatter(students,grade)\n",
    "plt.title('Scatter plot of students by grade')\n",
    "plt.xlabel('Students')\n",
    "plt.ylabel('Grade')\n",
    "plt.show()"
   ]
  },
  {
   "cell_type": "code",
   "execution_count": null,
   "metadata": {},
   "outputs": [],
   "source": []
  }
 ],
 "metadata": {
  "kernelspec": {
   "display_name": "Python 3",
   "language": "python",
   "name": "python3"
  },
  "language_info": {
   "codemirror_mode": {
    "name": "ipython",
    "version": 3
   },
   "file_extension": ".py",
   "mimetype": "text/x-python",
   "name": "python",
   "nbconvert_exporter": "python",
   "pygments_lexer": "ipython3",
   "version": "3.9.0"
  }
 },
 "nbformat": 4,
 "nbformat_minor": 4
}
