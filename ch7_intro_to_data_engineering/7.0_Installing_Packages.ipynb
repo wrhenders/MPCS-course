{
 "cells": [
  {
   "cell_type": "markdown",
   "metadata": {},
   "source": [
    "### [Video Explanation Here!](https://youtu.be/rwI8vwvSsww)\n",
    "\n",
    "## Option 1: pip\n",
    "\n",
    "The standard Python packakage manager, or the tool you use to install Python packages not included in the Python standard libary, is [`pip`](https://pip.pypa.io/en/stable/).\n",
    "\n",
    "The [Python Package Index](https://pypi.org/) (PyPi), is:\n",
    "\n",
    "- free to use (maintained and funded by the Python Software Foundation!)\n",
    "- allows you to also publish your own packages\n",
    "- discover new packages\n",
    "- handles installation and uninstallation of packages `pip install package_name`\n",
    "\n",
    "It's worth noting that, if you used Python 2 and _then_ installed Python 3, you might have both `pip` from Python 2 dependencies and `pip3` for installing Python 3 dependencies. These command names are called _soft links_; you can change where they point to. You can _check_ where they point to by using the `which` command like so. As you can see, my `pip` and `pip3` commands point to the same place, so I can use them interchangeably:\n",
    "\n",
    "![](../images/pip.png)"
   ]
  },
  {
   "cell_type": "markdown",
   "metadata": {},
   "source": [
    "## Option 2: Conda\n",
    "\n",
    "Conda is an alternative packaging system popularized by the Python and R scientific programming community.\n",
    "\n",
    "### Differences between the two package managers\n",
    "\n",
    "According to the [Anaconda](https://www.anaconda.com/blog/understanding-conda-and-pip) referece:\n",
    "\n",
    ">Pip installs Python packages whereas conda installs packages which may contain software written in any language. For example, before using pip, a Python interpreter must be installed via a system package manager or by downloading and running an installer. Conda on the other hand can install Python packages as well as the Python interpreter directly.\n",
    "\n",
    ">Occasionally a package is needed which is not available as a conda package but is available on PyPI and can be installed with pip. In these cases, it makes sense to try to use both conda and pip.\n",
    "\n",
    "That said,the two are abit tricky to interoperate, so if you installed Python with `conda`, I recommend using `conda` to install your packages for the purposes of this class. Read more [here](https://docs.conda.io/en/latest/) about how to install packages with conda."
   ]
  }
 ],
 "metadata": {
  "kernelspec": {
   "display_name": "Python 3",
   "language": "python",
   "name": "python3"
  },
  "language_info": {
   "codemirror_mode": {
    "name": "ipython",
    "version": 3
   },
   "file_extension": ".py",
   "mimetype": "text/x-python",
   "name": "python",
   "nbconvert_exporter": "python",
   "pygments_lexer": "ipython3",
   "version": "3.9.0"
  }
 },
 "nbformat": 4,
 "nbformat_minor": 4
}
