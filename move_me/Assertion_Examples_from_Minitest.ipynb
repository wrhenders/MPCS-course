{
 "cells": [
  {
   "cell_type": "markdown",
   "metadata": {},
   "source": [
    "### Video 9.3: Software Testing \n",
    "\n",
    "There are a few main levels of software testing: \n",
    "\n",
    " - **Unit testing**: tests that verify functionality of specific\n",
    "    sections of code (often at the function level)\n",
    "     - With unit-testing, you are testing a *got* value (i.e., the value returned by a piece of code) versus an *expected* value (i.e., what you as the programmer is expecting piece of code to return). \n",
    "     - The default testing module provided by Python is ``unittest``, which provides and object-oriented style of writing tests, inspired by the JUnit framework from Java. \n",
    "     - You can also use third-party tools such as \"pytest\". \n",
    "     \n",
    "- **Integration testing**: combine individual functions/modules and\n",
    "    test as a group. Not covered in this class. Take the software engineering course. \n",
    "- **System testing**: test a complete, integrated system to evaluate compliance with its specified requirements.  Not covered in this class. Take the software engineering course.\n",
    "    "
   ]
  },
  {
   "cell_type": "markdown",
   "metadata": {},
   "source": [
    "#### unittest Module \n",
    "\n",
    "Python provides a unit testing framework in the ``unittest`` standard library module. This module provides a wide range of functions fo rtesting these values: \n",
    "\n",
    "  ![alt text](../images/test_methods1.png \"Learning Python 2013\") -- <cite>Learning Python 2013</cite>\n",
    "  \n",
    " - From a command line, invoking ``python3 -m unittest`` will search for modules with unit tests starting from the current directory\n",
    " - Runs tests from subclasses of ``TestCase`` in any file named ``test*.py `` \n",
    " \n",
    " See example in: `unittests/test_stringmethods.py` and `unittests/test_file.py` "
   ]
  },
  {
   "cell_type": "markdown",
   "metadata": {},
   "source": [
    "#### pytest tool \n",
    "\n",
    "An alternative testing tool that is common in the Python community is to use *pytest*. It boasts a simple syntax.\n",
    "\n",
    "Walk through the tutorial here: https://docs.pytest.org/en/latest/getting-started.html \n"
   ]
  }
 ],
 "metadata": {
  "kernelspec": {
   "display_name": "Python 3",
   "language": "python",
   "name": "python3"
  },
  "language_info": {
   "codemirror_mode": {
    "name": "ipython",
    "version": 3
   },
   "file_extension": ".py",
   "mimetype": "text/x-python",
   "name": "python",
   "nbconvert_exporter": "python",
   "pygments_lexer": "ipython3",
   "version": "3.9.0"
  }
 },
 "nbformat": 4,
 "nbformat_minor": 2
}
