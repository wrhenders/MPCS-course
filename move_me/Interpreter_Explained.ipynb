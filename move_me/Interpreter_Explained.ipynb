{
 "cells": [
  {
   "cell_type": "markdown",
   "metadata": {},
   "source": [
    "### Interpreter Explained \n",
    "\n",
    "*What’s happening within the interpreter?* "
   ]
  },
  {
   "cell_type": "markdown",
   "metadata": {},
   "source": [
    "### Interpreted vs. Compiled Languages\n",
    "\n",
    "### OK So first of all\n",
    "\n",
    "Whether a language is interpreted or compiled is not a characteristic of the _language_. It is a characteristic of the _compiler or interpreter being used to interpret the language_. \n",
    "\n",
    "Bob Nystrom uses this diagram of a mountain to explain the compilation process in his book, [_Crafting Interpreters_](https://craftinginterpreters.com/))\n",
    "\n",
    "![](../images/compiler_mountain_diagram.png)\n",
    "\n",
    "We start all the way over on the left, with code written in, say, Python. That code gets scanned, lexed, and parsed, like so:\n",
    "\n",
    "![](../images/scanning_lexing_parsing.png)"
   ]
  },
  {
   "cell_type": "markdown",
   "metadata": {},
   "source": [
    "When we talk about Python as we know it, we're usually referring specifically to the way that Python syntax looks. That part of the programming language is called the **front end** in compiler design parlance. That's not the step where compilation decisions live. That's just the _interface_ that you use to write the programming language. Several different compilers can execute the same front end code in different ways. These are called **compiler implementations**.\n",
    "\n",
    "A given front-end can have many different compiler/interpreter implementations. For example, the reference implementation of Ruby (called MRI) is written in C. Meanwhile, JRuby is written in Java and runs on the JVM. You write Ruby the same in either one, though. The \"standard distribution\" of Python uses the CPython intepreter, which...you guessed it!...is written in C.\n",
    "\n",
    "OK, now, compiled vs. intepreted. There's some debate about this."
   ]
  },
  {
   "cell_type": "markdown",
   "metadata": {},
   "source": [
    "### Perspective #1: \n",
    "\n",
    "**Compiled source code is translated into machine code for the specific machine it's running on, while interpreted source code is translated into bytecode for a virtual machine.**\n",
    "\n",
    "C and C++ source code is translated into machine (native) code before execution.\n",
    " - Machine code runs directly on the CPU. \n",
    " - Machine code is specific to the architecture (Intel, Arm, etc.) of that machine.\n",
    "\n",
    "- Python and Java source code is translated to bytecode for a virtual machine. \n",
    "    - Unlike compiled languages, bytecode is portable to other architectures. \n",
    "    - This is one of the reasons for the popularity and universality of Python and Java (there is _another_ big reason, which we're going to talk about later)."
   ]
  },
  {
   "cell_type": "markdown",
   "metadata": {},
   "source": [
    "    \n",
    "### Perspective #2: \n",
    "\n",
    "**Compiled source code is translated into instructions that the machine, virtual or not, can run. Interpreted source code does this _and then runs it_. So an interpreter can (and usually does) _have_ a compiler.**\n",
    "\n",
    "So, Python compiles the code (makes sure there are no syntax errors, et cetera), and then it executes the code (at which point you might get runtime errors like a `KeyError` or an `IndexOutOfRangeError`). \n",
    "\n",
    "I'm not going to weigh in on which of these versions is \"right\" because it doesn't matter in practice. What matters in practice is knowing which of these two schools of thought someone subscribes to, so you know what they are talking about when they talk to you about compilers. \n",
    "\n",
    "**Here is the trend I have noticed:** Perspective #1 is popular among `RickWhomever123` on StackOverflow. Perspective #2 appears in every book I have read that was written by an actual programming language designer.\n",
    "   \n",
    "Henceforth I will say \"the Python interpreter\" because, under either definition, the standard distribution of Python is an interpreted language."
   ]
  },
  {
   "cell_type": "markdown",
   "metadata": {},
   "source": [
    "1. The interpreter compiles source code to byte code.\n",
    "\n",
    "    - Source code: the Python code that is placed in the .py files, also called the **frontend code.**\n",
    "    - Byte code: lower-level, platform-independent representation of the source code\n",
    "    - Caches already compiled bytecode to speed up execution  by saving it inside byte-codefiles(.pyc) that are stored in the *__pycache__* directory.\n",
    "    \n",
    "2. Next, interpreter routes the byte code to the Python Virtual Machine (PVM).\n",
    "    - The PVM component is a loop that iterates through the byte code instructions, executing each one."
   ]
  },
  {
   "cell_type": "markdown",
   "metadata": {},
   "source": [
    "![alt text](../images/runtime_pvm.png \"Learning Python 2013\") -- <cite>Learning Python 2013</cite>"
   ]
  },
  {
   "cell_type": "code",
   "execution_count": null,
   "metadata": {},
   "outputs": [],
   "source": []
  }
 ],
 "metadata": {
  "kernelspec": {
   "display_name": "Python 3",
   "language": "python",
   "name": "python3"
  },
  "language_info": {
   "codemirror_mode": {
    "name": "ipython",
    "version": 3
   },
   "file_extension": ".py",
   "mimetype": "text/x-python",
   "name": "python",
   "nbconvert_exporter": "python",
   "pygments_lexer": "ipython3",
   "version": "3.9.0"
  }
 },
 "nbformat": 4,
 "nbformat_minor": 2
}
