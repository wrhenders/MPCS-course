{
 "cells": [
  {
   "cell_type": "markdown",
   "metadata": {},
   "source": [
    "One important part of building an open source tool for others to use is making sure that they know how to use it. Frequetly this is done with annotated **usage examples**, which show how to use the tool and explain what it's doing.\n",
    "\n",
    "### Challenge:\n",
    "\n",
    "Here is some code that could be used as a usage example for our DataFrame. Add comments above each piece of code to explain what it is doing. You might recognize this problem: you solved this problem with `csv` in Chapter 3!"
   ]
  },
  {
   "cell_type": "code",
   "execution_count": null,
   "metadata": {},
   "outputs": [],
   "source": [
    "from phoenixcel.dataframe import Series, GroupBy, DataFrame\n",
    "\n",
    "df = DataFrame.from_csv('metrics.csv')"
   ]
  },
  {
   "cell_type": "code",
   "execution_count": null,
   "metadata": {},
   "outputs": [],
   "source": [
    "df.shape"
   ]
  },
  {
   "cell_type": "code",
   "execution_count": null,
   "metadata": {},
   "outputs": [],
   "source": [
    "df.columns"
   ]
  },
  {
   "cell_type": "code",
   "execution_count": null,
   "metadata": {},
   "outputs": [],
   "source": [
    "df.period_start[:10]"
   ]
  },
  {
   "cell_type": "code",
   "execution_count": null,
   "metadata": {},
   "outputs": [],
   "source": [
    "def last_four(string):\n",
    "    return string[-4:]\n",
    "\n",
    "df[\"Year\"] = df.period_start.apply(last_four)\n",
    "df.year[:5]"
   ]
  },
  {
   "cell_type": "code",
   "execution_count": null,
   "metadata": {},
   "outputs": [],
   "source": [
    "activity = df.activity\n",
    "year = df[\"Year\"]\n",
    "\n",
    "activity_years = []\n",
    "for index, item in enumerate(activity):\n",
    "    activity_year = f\"{item} ({year[index]})\"\n",
    "    activity_years.append(activity_year)\n",
    "\n",
    "df[\"Activity Year\"] = activity_years\n",
    "df.activity_year[:5]"
   ]
  },
  {
   "cell_type": "code",
   "execution_count": null,
   "metadata": {},
   "outputs": [],
   "source": [
    "print(type(df.average_days_to_complete_activity))"
   ]
  },
  {
   "cell_type": "code",
   "execution_count": null,
   "metadata": {},
   "outputs": [],
   "source": [
    "df[\"Average Days to Complete Activity\"] = df.average_days_to_complete_activity.apply(float)"
   ]
  },
  {
   "cell_type": "code",
   "execution_count": null,
   "metadata": {},
   "outputs": [],
   "source": [
    "alley_grading_only = df.where(lambda row: row['Activity'] == \"Alley Grading-Unimproved\")"
   ]
  },
  {
   "cell_type": "code",
   "execution_count": null,
   "metadata": {},
   "outputs": [],
   "source": [
    "alley_grading_only.shape"
   ]
  },
  {
   "cell_type": "code",
   "execution_count": null,
   "metadata": {},
   "outputs": [],
   "source": [
    "df.activity.count('Alley Grading-Unimproved')"
   ]
  },
  {
   "cell_type": "code",
   "execution_count": null,
   "metadata": {},
   "outputs": [],
   "source": [
    "grouped_by_activities = df.group_by('Activity Year')\n",
    "grouped_by_activities"
   ]
  },
  {
   "cell_type": "code",
   "execution_count": null,
   "metadata": {},
   "outputs": [],
   "source": [
    "averages = grouped_by_activities.average(on=\"Average Days to Complete Activity\")\n",
    "averages"
   ]
  },
  {
   "cell_type": "code",
   "execution_count": null,
   "metadata": {},
   "outputs": [],
   "source": [
    "targets = grouped_by_activities.aggregate(on=\"Target Response Days\", using_func=max)\n",
    "targets"
   ]
  },
  {
   "cell_type": "code",
   "execution_count": null,
   "metadata": {},
   "outputs": [],
   "source": [
    "grouped_by_activities = sorted(grouped_by_activities)\n",
    "grouped_by_activities"
   ]
  },
  {
   "cell_type": "code",
   "execution_count": null,
   "metadata": {},
   "outputs": [],
   "source": [
    "[\n",
    "    f\"{key}: Target = {targets[key]}, Average = {averages[key]}\"\n",
    "    for key in grouped_by_activities\n",
    "]"
   ]
  },
  {
   "cell_type": "code",
   "execution_count": null,
   "metadata": {},
   "outputs": [],
   "source": []
  }
 ],
 "metadata": {
  "kernelspec": {
   "display_name": "Python 3",
   "language": "python",
   "name": "python3"
  },
  "language_info": {
   "codemirror_mode": {
    "name": "ipython",
    "version": 3
   },
   "file_extension": ".py",
   "mimetype": "text/x-python",
   "name": "python",
   "nbconvert_exporter": "python",
   "pygments_lexer": "ipython3",
   "version": "3.8.5"
  }
 },
 "nbformat": 4,
 "nbformat_minor": 4
}
