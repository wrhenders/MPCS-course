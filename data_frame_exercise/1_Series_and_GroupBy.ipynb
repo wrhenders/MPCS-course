{
 "cells": [
  {
   "cell_type": "markdown",
   "metadata": {},
   "source": [
    "## Our Testing Framework is a Runaway Success.\n",
    "\n",
    "We have lots of open source clients,a booming Patreon, and packed weeks of conversations with potential sponsors.\n",
    "\n",
    "Now our clients are asking us for more tools. This time, they're hoping that we'll make something to improve their workflow for data analysis. In particular, one client does lots of number crunching on Chicago open data, and they'd like something better than the csv library for exploring and analyzing the datasets.\n",
    "\n",
    "So we start working on a library called `phoenixcell`.\n",
    "\n",
    "We start with a `Series` object that extends a `list` and has an `apply` function."
   ]
  },
  {
   "cell_type": "code",
   "execution_count": null,
   "metadata": {},
   "outputs": [],
   "source": [
    "import csv\n",
    "\n",
    "class Series(list):\n",
    "    def apply(self, func):\n",
    "        self = [func(x) for x in self]\n",
    "        return Series(self)"
   ]
  },
  {
   "cell_type": "markdown",
   "metadata": {},
   "source": [
    "### Challenge: What does the apply function do?\n",
    "\n",
    "1. What argument(s) does it take in?\n",
    "2. What does it do with the argument(s)?\n",
    "3. What does it modify?\n",
    "4. What does it return?"
   ]
  },
  {
   "cell_type": "markdown",
   "metadata": {},
   "source": [
    "See it in action here:"
   ]
  },
  {
   "cell_type": "code",
   "execution_count": null,
   "metadata": {},
   "outputs": [],
   "source": [
    "s = Series()\n",
    "s.append(1)\n",
    "s.append(2)\n",
    "s.append(3)\n",
    "\n",
    "result = s.apply(float)"
   ]
  },
  {
   "cell_type": "markdown",
   "metadata": {},
   "source": [
    "We also make an object called `GroupBy` that extends a `dict` and has a fuction called `aggregate()`."
   ]
  },
  {
   "cell_type": "code",
   "execution_count": null,
   "metadata": {},
   "outputs": [],
   "source": [
    "    class GroupBy(dict):\n",
    "        def sum(self, column=None):\n",
    "            return self.aggregate(column=column, using_func=sum)\n",
    "\n",
    "        def average(self, column=None):\n",
    "            def func(listo):\n",
    "                return sum(listo) / len(listo)\n",
    "            return self.aggregate(column=column, using_func=func)\n",
    "        avg = average\n",
    "\n",
    "        def count(self, column=None):\n",
    "            return self.aggregate(column=column, using_func=len)\n",
    "\n",
    "        def aggregate(self, column=None, func=None): \n",
    "            aggregator = {}\n",
    "            if column == None:\n",
    "                raise Exception(\"What column do you want aggregated?\")\n",
    "            if using_func == None:\n",
    "                raise Exception(f\"How do you want '{column}' aggregated?\")\n",
    "            else:\n",
    "                for key in self.keys():\n",
    "                    addends = [item[column] for item in self[key]]\n",
    "                    aggregator[key] = using_func(addends)\n",
    "            return aggregator"
   ]
  },
  {
   "cell_type": "markdown",
   "metadata": {},
   "source": [
    "### Challenge: \n",
    "\n",
    "What does the aggregate function do?\n",
    "\n",
    "1. What argument(s) does it take in?\n",
    "2. What does it do with the argument(s)?\n",
    "3. What does it modify?\n",
    "4. What does it return?\n",
    "\n",
    "Here's an example of it running: "
   ]
  },
  {
   "cell_type": "code",
   "execution_count": null,
   "metadata": {},
   "outputs": [],
   "source": [
    "birds = GroupBy( \\\n",
    "  oriole = [ \n",
    "  {'species': 'oriole', 'specimen_id': '7dr4h32ss24g6t7f2', 'weight': 4.23},\n",
    "  {'species': 'oriole', 'specimen_id': 'g6t7f2dr4h327ss24', 'weight': 4.17},\n",
    "  {'species': 'oriole', 'specimen_id': 't77ss24g6f2dr4h32', 'weight': 5.21},\n",
    "  ],\n",
    " bluejay = [\n",
    "  {'species': 'bluejay', 'specimen_id': '88Jnnb323es29bs2f', 'weight': 5.0},\n",
    "  {'species': 'bluejay', 'specimen_id': 'g6t3f2dr4h322ss24', 'weight': 6.32},\n",
    "  {'species': 'bluejay', 'specimen_id': 'f2dr4t76ss24g6h32', 'weight': 5.21},\n",
    "  {'species': 'bluejay', 'specimen_id': 't7f2312ss24g6dr4h', 'weight': 4.85},\n",
    "  {'species': 'bluejay', 'specimen_id': '9f237ss24g6t8dr4h', 'weight': 5.69}\n",
    " ],\n",
    " titmouse = [\n",
    "  {'species': 'titmouse', 'specimen_id': '1sn32ufks82d92b39', 'weight': 5.22},\n",
    "  {'species': 'titmouse', 'specimen_id': '8sh2bdn4s24g6t7f2', 'weight': 2.13},\n",
    "  {'species': 'titmouse', 'specimen_id': 'h38snsdr4h327ss24', 'weight': 3.1},\n",
    "  {'species': 'titmouse', 'specimen_id': '32bf72f9m27f2dr4h', 'weight': 2.22},\n",
    "  {'species': 'titmouse', 'specimen_id': '2b47f29fn34h47dn3', 'weight': 3.0},\n",
    "  {'species': 'titmouse', 'specimen_id': 't77ss24g6f27s41md', 'weight': 2.98}\n",
    " ]\n",
    ")"
   ]
  },
  {
   "cell_type": "code",
   "execution_count": null,
   "metadata": {},
   "outputs": [],
   "source": [
    "# This is kinda counterintuitive. What does this do?\n",
    "# Run it and see if you can figure out what it's telling you.\n",
    "\n",
    "birds.aggregate(column=\"specimen_id\", using_func=len)"
   ]
  },
  {
   "cell_type": "code",
   "execution_count": null,
   "metadata": {},
   "outputs": [],
   "source": [
    "from statistics import median\n",
    "\n",
    "birds.aggregate(column=\"weight\", using_func=median)"
   ]
  },
  {
   "cell_type": "markdown",
   "metadata": {},
   "source": [
    "### Challenge: \n",
    "\n",
    "`GroupBy` also has several **convenience functions** that _call_ the aggregate function with methods that are commonly used for aggregating.\n",
    "\n",
    "Observe:"
   ]
  },
  {
   "cell_type": "code",
   "execution_count": null,
   "metadata": {},
   "outputs": [],
   "source": [
    "birds.average(column=\"weight\")"
   ]
  },
  {
   "cell_type": "code",
   "execution_count": null,
   "metadata": {},
   "outputs": [],
   "source": [
    "birds.count(column=\"specimen_id\")"
   ]
  },
  {
   "cell_type": "code",
   "execution_count": null,
   "metadata": {},
   "outputs": [],
   "source": [
    "# How many total ounces of bird we have in each species category\n",
    "# Not sure how this would be useful but there it is\n",
    "birds.sum(column=\"weight\")"
   ]
  },
  {
   "cell_type": "markdown",
   "metadata": {},
   "source": [
    "### Challenge\n",
    "\n",
    "Write some new convenience functions for for `GroupBy`: \n",
    "\n",
    "- `min`: aggregate by finding the smallest value\n",
    "- `max`: aggregate by finding the largest value\n",
    "- `spread`: aggregate by finding the difference between the largest and the smallest value  "
   ]
  },
  {
   "cell_type": "code",
   "execution_count": null,
   "metadata": {},
   "outputs": [],
   "source": [
    "import sys\n",
    "!{sys.executable} -m pip install colorama \n",
    "\n",
    "sys.path.insert(0, '..')\n",
    "from test_framework_exercise.phoenix_test.matchers import FailedAssertion, Assertion, assert_that\n",
    "from test_framework_exercise.phoenix_test.test import Test\n",
    "sys.path.remove('..')\n",
    "\n",
    "class GroupByTest(Test):\n",
    "        \n",
    "    def test_min_function(self):\n",
    "        assert_that(birds.min(on=\"weight\")).equals({'oriole': 4.17, 'bluejay': 4.85, 'titmouse': 2.13})\n",
    "    \n",
    "    def test_max_function(self):\n",
    "        assert_that(birds.max(on=\"weight\")).equals({'oriole': 5.21, 'bluejay': 6.32, 'titmouse': 5.22})\n",
    "        \n",
    "    def test_spread_function(self):\n",
    "        assert_that(birds.spread(on=\"weight\")).equals({'oriole': 1.04, 'bluejay': 1.4700000000000006, 'titmouse': 3.09})\n",
    "        \n",
    "GroupByTest().run()"
   ]
  }
 ],
 "metadata": {
  "kernelspec": {
   "display_name": "Python 3",
   "language": "python",
   "name": "python3"
  },
  "language_info": {
   "codemirror_mode": {
    "name": "ipython",
    "version": 3
   },
   "file_extension": ".py",
   "mimetype": "text/x-python",
   "name": "python",
   "nbconvert_exporter": "python",
   "pygments_lexer": "ipython3",
   "version": "3.8.5"
  }
 },
 "nbformat": 4,
 "nbformat_minor": 4
}
